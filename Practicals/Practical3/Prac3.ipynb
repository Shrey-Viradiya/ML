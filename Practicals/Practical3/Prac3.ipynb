{
  "nbformat": 4,
  "nbformat_minor": 0,
  "metadata": {
    "colab": {
      "name": "Prac3.ipynb",
      "provenance": [],
      "collapsed_sections": [],
      "authorship_tag": "ABX9TyMXsQ2hLe21kvyrZAyvaBTk",
      "include_colab_link": true
    },
    "kernelspec": {
      "name": "python3",
      "display_name": "Python 3"
    }
  },
  "cells": [
    {
      "cell_type": "markdown",
      "metadata": {
        "id": "view-in-github",
        "colab_type": "text"
      },
      "source": [
        "<a href=\"https://colab.research.google.com/github/Shrey-Viradiya/ML/blob/master/Practicals/Practical3/Prac3.ipynb\" target=\"_parent\"><img src=\"https://colab.research.google.com/assets/colab-badge.svg\" alt=\"Open In Colab\"/></a>"
      ]
    },
    {
      "cell_type": "markdown",
      "metadata": {
        "id": "xTJ935J77c4x",
        "colab_type": "text"
      },
      "source": [
        "# Shrey Viradiya\n",
        "# 18BCE259"
      ]
    },
    {
      "cell_type": "code",
      "metadata": {
        "id": "B21zEMqr7AAD",
        "colab_type": "code",
        "colab": {}
      },
      "source": [
        "import numpy as np\n",
        "import sklearn.datasets as skd\n",
        "from sklearn.preprocessing import scale\n",
        "from sklearn.metrics import mean_absolute_error, mean_squared_error\n",
        "import matplotlib.pyplot as plt"
      ],
      "execution_count": 1,
      "outputs": []
    },
    {
      "cell_type": "markdown",
      "metadata": {
        "id": "ShbdG0L42BlH",
        "colab_type": "text"
      },
      "source": [
        "### Simple Linear Regression using Equation"
      ]
    },
    {
      "cell_type": "code",
      "metadata": {
        "id": "OFKP9dGC2GOS",
        "colab_type": "code",
        "colab": {}
      },
      "source": [
        "X = 2 * np.random.rand(100, 1)\n",
        "y = 4 + 3 * X + np.random.randn(100, 1)"
      ],
      "execution_count": 2,
      "outputs": []
    },
    {
      "cell_type": "code",
      "metadata": {
        "id": "4w8vqgEb87dE",
        "colab_type": "code",
        "colab": {
          "base_uri": "https://localhost:8080/",
          "height": 264
        },
        "outputId": "a67b620e-cb59-4d8b-cbfa-de8248c17bbd"
      },
      "source": [
        "plt.scatter(x = X, y = y)\n",
        "plt.grid()\n",
        "plt.show()"
      ],
      "execution_count": 3,
      "outputs": [
        {
          "output_type": "display_data",
          "data": {
            "image/png": "[encoded data removed]",
            "text/plain": [
              "<Figure size 432x288 with 1 Axes>"
            ]
          },
          "metadata": {
            "tags": [],
            "needs_background": "light"
          }
        }
      ]
    },
    {
      "cell_type": "markdown",
      "metadata": {
        "id": "AJxOzAXL_qQb",
        "colab_type": "text"
      },
      "source": [
        "Equations for computing Beta coeffs."
      ]
    },
    {
      "cell_type": "markdown",
      "metadata": {
        "id": "ZVv5_Yjj92Tj",
        "colab_type": "text"
      },
      "source": [
        "$$\\beta_1 = \\frac {\\sum_{i=1}^n (x_i - \\bar x )(y_i - \\bar y )} {\\sum_{i=1}^n (x_i - \\bar x )^2} $$"
      ]
    },
    {
      "cell_type": "markdown",
      "metadata": {
        "id": "ODR2b1NeCme1",
        "colab_type": "text"
      },
      "source": [
        "\n",
        "$$ \\beta_0 = \\bar y - \\beta_1 \\bar x  $$"
      ]
    },
    {
      "cell_type": "code",
      "metadata": {
        "id": "BLNsPu9Q88U2",
        "colab_type": "code",
        "colab": {
          "base_uri": "https://localhost:8080/",
          "height": 34
        },
        "outputId": "613c1e82-a757-470f-a483-472d380a4581"
      },
      "source": [
        "X_bar = np.mean(X)\n",
        "y_bar = np.mean(y)\n",
        "\n",
        "beta_1 = np.sum((X - X_bar) * (y - y_bar)) / np.sum( np.square(X - X_bar) )\n",
        "beta_0 = y_bar - (beta_1 * X_bar)\n",
        "\n",
        "print(f\" y = {beta_0} + {beta_1} X\")\n",
        "\n",
        "yp = beta_1 * X + beta_0"
      ],
      "execution_count": 4,
      "outputs": [
        {
          "output_type": "stream",
          "text": [
            " y = 3.936330815765777 + 3.1117369876644707 X\n"
          ],
          "name": "stdout"
        }
      ]
    },
    {
      "cell_type": "code",
      "metadata": {
        "id": "vxkGbu6P8Yrm",
        "colab_type": "code",
        "colab": {
          "base_uri": "https://localhost:8080/",
          "height": 34
        },
        "outputId": "71b4d6db-2882-4d1b-dae8-44701303fbb2"
      },
      "source": [
        "mean_absolute_error (y_true= y, y_pred= yp)"
      ],
      "execution_count": 5,
      "outputs": [
        {
          "output_type": "execute_result",
          "data": {
            "text/plain": [
              "0.7921218592097429"
            ]
          },
          "metadata": {
            "tags": []
          },
          "execution_count": 5
        }
      ]
    },
    {
      "cell_type": "code",
      "metadata": {
        "id": "1VDKDrQV8oUW",
        "colab_type": "code",
        "colab": {
          "base_uri": "https://localhost:8080/",
          "height": 34
        },
        "outputId": "e75992ba-67fa-43ec-a7a1-d7fe188dbd9f"
      },
      "source": [
        "mean_squared_error (y_true= y, y_pred= yp)"
      ],
      "execution_count": 6,
      "outputs": [
        {
          "output_type": "execute_result",
          "data": {
            "text/plain": [
              "1.0311182014653777"
            ]
          },
          "metadata": {
            "tags": []
          },
          "execution_count": 6
        }
      ]
    },
    {
      "cell_type": "markdown",
      "metadata": {
        "id": "D0jxzs--7g9s",
        "colab_type": "text"
      },
      "source": [
        "**Simple and Multiple Linear Regression using Gradient\n",
        "Descent & Normal Equation Method (without using\n",
        "sklearn or equivalent library for both)**"
      ]
    },
    {
      "cell_type": "markdown",
      "metadata": {
        "id": "I4PzSLVGNm-X",
        "colab_type": "text"
      },
      "source": [
        "### Gradient Descent"
      ]
    },
    {
      "cell_type": "code",
      "metadata": {
        "id": "S-ZEu2Gi737U",
        "colab_type": "code",
        "colab": {}
      },
      "source": [
        "X, y = skd.load_boston(return_X_y=True)\n",
        "X = scale(X)\n",
        "X_new = np.zeros(shape=(X.shape[0], X.shape[1] + 1))\n",
        "X_new[:,0] = np.ones(shape = (1,X.shape[0]))\n",
        "X_new[:,1:] = X\n",
        "X = X_new"
      ],
      "execution_count": 7,
      "outputs": []
    },
    {
      "cell_type": "code",
      "metadata": {
        "id": "YO1uWggJ8zFA",
        "colab_type": "code",
        "colab": {}
      },
      "source": [
        "X_train = X[:400,:]\n",
        "y_train = y[:400]\n",
        "X_test = X[400:,:]\n",
        "y_test = y[400:]"
      ],
      "execution_count": 8,
      "outputs": []
    },
    {
      "cell_type": "code",
      "metadata": {
        "id": "q3_U629hBNXK",
        "colab_type": "code",
        "colab": {}
      },
      "source": [
        "# epochs\n",
        "n_iter = 1000\n",
        "\n",
        "# Learning Rate\n",
        "LR = 0.03"
      ],
      "execution_count": 9,
      "outputs": []
    },
    {
      "cell_type": "code",
      "metadata": {
        "id": "K-LjFy4WClCo",
        "colab_type": "code",
        "colab": {}
      },
      "source": [
        "a , b = X_train.shape\n",
        "thetas = np.random.uniform(0,1, size = (b))"
      ],
      "execution_count": 10,
      "outputs": []
    },
    {
      "cell_type": "code",
      "metadata": {
        "id": "467qGJnuGzgD",
        "colab_type": "code",
        "colab": {
          "base_uri": "https://localhost:8080/",
          "height": 70
        },
        "outputId": "928b23d5-6933-416b-f3f3-05c18edeffd8"
      },
      "source": [
        "thetas"
      ],
      "execution_count": 11,
      "outputs": [
        {
          "output_type": "execute_result",
          "data": {
            "text/plain": [
              "array([0.13306599, 0.8959683 , 0.9385092 , 0.61641641, 0.87252295,\n",
              "       0.59982162, 0.48726445, 0.39889223, 0.17847168, 0.85017856,\n",
              "       0.68399396, 0.64313539, 0.51093944, 0.42018273])"
            ]
          },
          "metadata": {
            "tags": []
          },
          "execution_count": 11
        }
      ]
    },
    {
      "cell_type": "code",
      "metadata": {
        "id": "v9EQaVbRQ4mC",
        "colab_type": "code",
        "colab": {}
      },
      "source": [
        "mse_history = []"
      ],
      "execution_count": 12,
      "outputs": []
    },
    {
      "cell_type": "code",
      "metadata": {
        "id": "EvvF9LFmEz54",
        "colab_type": "code",
        "colab": {}
      },
      "source": [
        "for i in range(n_iter):\n",
        "    update = np.zeros(shape=(b))\n",
        "    y_predicted = np.dot(X_train, thetas)\n",
        "    error = y_predicted - y_train\n",
        "    for f in range(b):\n",
        "        update[f] = np.sum(error * ((X_train.T)[f]))\n",
        "    thetas = thetas - (LR/a) * update\n",
        "    mse_history.append(mean_squared_error (y_true= y_test, y_pred= np.dot(X_test, thetas)))"
      ],
      "execution_count": 13,
      "outputs": []
    },
    {
      "cell_type": "code",
      "metadata": {
        "id": "Zye9k1CSD9qN",
        "colab_type": "code",
        "colab": {
          "base_uri": "https://localhost:8080/",
          "height": 70
        },
        "outputId": "5d593de6-be82-437c-f953-da609ce29586"
      },
      "source": [
        "thetas"
      ],
      "execution_count": 14,
      "outputs": [
        {
          "output_type": "execute_result",
          "data": {
            "text/plain": [
              "array([23.20665352, -1.53256103,  0.98520308,  0.20925448,  0.47341662,\n",
              "       -1.62026463,  3.43584525,  0.044714  , -2.73060388,  3.46225188,\n",
              "       -1.9283631 , -1.70918618,  0.1005734 , -3.71723354])"
            ]
          },
          "metadata": {
            "tags": []
          },
          "execution_count": 14
        }
      ]
    },
    {
      "cell_type": "code",
      "metadata": {
        "id": "l3-gwBfJRIM_",
        "colab_type": "code",
        "colab": {
          "base_uri": "https://localhost:8080/",
          "height": 294
        },
        "outputId": "3d3033cd-99a4-447c-ce8b-865a4b395785"
      },
      "source": [
        "plt.plot(mse_history, label='MSE history')\n",
        "plt.title(\"MSE over Training\")\n",
        "plt.xlabel('MSE error')\n",
        "plt.ylabel('Epoch No.')\n",
        "plt.grid(True)\n",
        "plt.legend()\n",
        "plt.show()"
      ],
      "execution_count": 15,
      "outputs": [
        {
          "output_type": "display_data",
          "data": {
            "image/png": "[encoded data removed]",
            "text/plain": [
              "<Figure size 432x288 with 1 Axes>"
            ]
          },
          "metadata": {
            "tags": [],
            "needs_background": "light"
          }
        }
      ]
    },
    {
      "cell_type": "code",
      "metadata": {
        "id": "w2YUOeYXIVY2",
        "colab_type": "code",
        "colab": {}
      },
      "source": [
        "y_tp = np.dot(X_test, thetas)"
      ],
      "execution_count": 16,
      "outputs": []
    },
    {
      "cell_type": "code",
      "metadata": {
        "id": "4_qOsEH6Inf4",
        "colab_type": "code",
        "colab": {
          "base_uri": "https://localhost:8080/",
          "height": 34
        },
        "outputId": "9b97e4ff-dc8a-4dd2-ac85-116bb573beac"
      },
      "source": [
        "mean_absolute_error (y_true= y_test, y_pred= y_tp)"
      ],
      "execution_count": 17,
      "outputs": [
        {
          "output_type": "execute_result",
          "data": {
            "text/plain": [
              "4.8054414639626115"
            ]
          },
          "metadata": {
            "tags": []
          },
          "execution_count": 17
        }
      ]
    },
    {
      "cell_type": "code",
      "metadata": {
        "id": "PRQ8v5FyItHh",
        "colab_type": "code",
        "colab": {
          "base_uri": "https://localhost:8080/",
          "height": 34
        },
        "outputId": "d4f0f455-d398-427e-b714-1c13b0cc0be2"
      },
      "source": [
        "mean_squared_error (y_true= y_test, y_pred= y_tp)"
      ],
      "execution_count": 18,
      "outputs": [
        {
          "output_type": "execute_result",
          "data": {
            "text/plain": [
              "33.19863750441366"
            ]
          },
          "metadata": {
            "tags": []
          },
          "execution_count": 18
        }
      ]
    },
    {
      "cell_type": "code",
      "metadata": {
        "id": "TBRtumorI4iq",
        "colab_type": "code",
        "colab": {
          "base_uri": "https://localhost:8080/",
          "height": 264
        },
        "outputId": "8261a35d-8eb6-4a29-c1b8-46b367819748"
      },
      "source": [
        "plt.scatter(y = y_test, x = range(len(y_test)), label = 'y_test')\n",
        "plt.scatter(y = y_tp, x = range(len(y_test)), label = 'y_predicted')\n",
        "plt.legend()\n",
        "plt.grid(True)\n",
        "plt.show()"
      ],
      "execution_count": 19,
      "outputs": [
        {
          "output_type": "display_data",
          "data": {
            "image/png": "[encoded data removed]",
            "text/plain": [
              "<Figure size 432x288 with 1 Axes>"
            ]
          },
          "metadata": {
            "tags": [],
            "needs_background": "light"
          }
        }
      ]
    },
    {
      "cell_type": "markdown",
      "metadata": {
        "id": "JGXCpCuANrd5",
        "colab_type": "text"
      },
      "source": [
        "### Normal Equation"
      ]
    },
    {
      "cell_type": "markdown",
      "metadata": {
        "id": "wO-FPF7E2tMz",
        "colab_type": "text"
      },
      "source": [
        "Normal Eqaution:\n",
        "$θ =(X^T X)^{-1} X^T y$"
      ]
    },
    {
      "cell_type": "code",
      "metadata": {
        "id": "M1kVh043Nyuk",
        "colab_type": "code",
        "colab": {}
      },
      "source": [
        "try:\n",
        "    theta_best = np.linalg.inv(X_train.T.dot(X_train)).dot(X_train.T).dot(y_train)\n",
        "except np.linalg.LinAlgError as err:\n",
        "    theta_best = np.linalg.pinv(X_train.T.dot(X_train)).dot(X_train.T).dot(y_train)"
      ],
      "execution_count": 20,
      "outputs": []
    },
    {
      "cell_type": "code",
      "metadata": {
        "id": "1dcrktUAN3cc",
        "colab_type": "code",
        "colab": {
          "base_uri": "https://localhost:8080/",
          "height": 70
        },
        "outputId": "5c21ea8d-f61f-4639-8c3e-9616494048a0"
      },
      "source": [
        "theta_best"
      ],
      "execution_count": 21,
      "outputs": [
        {
          "output_type": "execute_result",
          "data": {
            "text/plain": [
              "array([23.28337581, -1.643388  ,  1.0305089 ,  0.37845963,  0.43550243,\n",
              "       -1.73595149,  3.43080791,  0.07337369, -2.7237948 ,  4.21699484,\n",
              "       -2.59301797, -1.74926608, -0.1178641 , -3.69508319])"
            ]
          },
          "metadata": {
            "tags": []
          },
          "execution_count": 21
        }
      ]
    },
    {
      "cell_type": "code",
      "metadata": {
        "id": "TniS87LTOdWV",
        "colab_type": "code",
        "colab": {}
      },
      "source": [
        "y_tp = np.dot(X_test, theta_best)"
      ],
      "execution_count": 22,
      "outputs": []
    },
    {
      "cell_type": "code",
      "metadata": {
        "id": "ZNdw1IAVSRlZ",
        "colab_type": "code",
        "colab": {
          "base_uri": "https://localhost:8080/",
          "height": 34
        },
        "outputId": "a2df18c4-66cc-4a26-ae44-c12ab1ca92ff"
      },
      "source": [
        "mean_absolute_error (y_true= y_test, y_pred= y_tp)"
      ],
      "execution_count": 23,
      "outputs": [
        {
          "output_type": "execute_result",
          "data": {
            "text/plain": [
              "5.142232214465217"
            ]
          },
          "metadata": {
            "tags": []
          },
          "execution_count": 23
        }
      ]
    },
    {
      "cell_type": "code",
      "metadata": {
        "id": "UPkag6-GSR69",
        "colab_type": "code",
        "colab": {
          "base_uri": "https://localhost:8080/",
          "height": 34
        },
        "outputId": "2882c3ff-d0ee-4eeb-e08d-0aa85f660277"
      },
      "source": [
        "mean_squared_error (y_true= y_test, y_pred= y_tp)"
      ],
      "execution_count": 24,
      "outputs": [
        {
          "output_type": "execute_result",
          "data": {
            "text/plain": [
              "37.89377859960078"
            ]
          },
          "metadata": {
            "tags": []
          },
          "execution_count": 24
        }
      ]
    },
    {
      "cell_type": "markdown",
      "metadata": {
        "id": "_2pyaohXTgxA",
        "colab_type": "text"
      },
      "source": [
        "### Using sklearn (for reference only)"
      ]
    },
    {
      "cell_type": "code",
      "metadata": {
        "id": "ewrIvRfKJAsh",
        "colab_type": "code",
        "colab": {}
      },
      "source": [
        "from sklearn.linear_model import LinearRegression"
      ],
      "execution_count": 25,
      "outputs": []
    },
    {
      "cell_type": "code",
      "metadata": {
        "id": "5A1TWcruMDGe",
        "colab_type": "code",
        "colab": {}
      },
      "source": [
        "X, y = skd.load_boston(return_X_y=True)\n",
        "X_train = X[:400,:]\n",
        "y_train = y[:400]\n",
        "X_test = X[400:,:]\n",
        "y_test = y[400:]"
      ],
      "execution_count": 26,
      "outputs": []
    },
    {
      "cell_type": "code",
      "metadata": {
        "id": "DgkIzAUuKVZ6",
        "colab_type": "code",
        "colab": {
          "base_uri": "https://localhost:8080/",
          "height": 34
        },
        "outputId": "bb4045f8-5cb3-4a10-8326-ee524665d228"
      },
      "source": [
        "model = LinearRegression()\n",
        "model.fit(X_train, y_train)"
      ],
      "execution_count": 27,
      "outputs": [
        {
          "output_type": "execute_result",
          "data": {
            "text/plain": [
              "LinearRegression(copy_X=True, fit_intercept=True, n_jobs=None, normalize=False)"
            ]
          },
          "metadata": {
            "tags": []
          },
          "execution_count": 27
        }
      ]
    },
    {
      "cell_type": "code",
      "metadata": {
        "id": "Td1Pg0aQMlLD",
        "colab_type": "code",
        "colab": {
          "base_uri": "https://localhost:8080/",
          "height": 34
        },
        "outputId": "6050476b-1e4b-4cbd-f4a4-4f12c5f6ae52"
      },
      "source": [
        "model.intercept_"
      ],
      "execution_count": 28,
      "outputs": [
        {
          "output_type": "execute_result",
          "data": {
            "text/plain": [
              "28.6725995908559"
            ]
          },
          "metadata": {
            "tags": []
          },
          "execution_count": 28
        }
      ]
    },
    {
      "cell_type": "code",
      "metadata": {
        "id": "msLvpt6fKY01",
        "colab_type": "code",
        "colab": {
          "base_uri": "https://localhost:8080/",
          "height": 87
        },
        "outputId": "1fc95d37-f0ed-426c-b3b2-0567e5a27943"
      },
      "source": [
        "model.coef_"
      ],
      "execution_count": 29,
      "outputs": [
        {
          "output_type": "execute_result",
          "data": {
            "text/plain": [
              "array([-1.91246374e-01,  4.42289967e-02,  5.52207977e-02,  1.71631351e+00,\n",
              "       -1.49957220e+01,  4.88773025e+00,  2.60921031e-03, -1.29480799e+00,\n",
              "        4.84787214e-01, -1.54006673e-02, -8.08795026e-01, -1.29230427e-03,\n",
              "       -5.17953791e-01])"
            ]
          },
          "metadata": {
            "tags": []
          },
          "execution_count": 29
        }
      ]
    },
    {
      "cell_type": "code",
      "metadata": {
        "id": "jRo-ZGYvKpf4",
        "colab_type": "code",
        "colab": {
          "base_uri": "https://localhost:8080/",
          "height": 70
        },
        "outputId": "b3a84283-56ad-4a33-979d-a613df903e9d"
      },
      "source": [
        "thetas"
      ],
      "execution_count": 30,
      "outputs": [
        {
          "output_type": "execute_result",
          "data": {
            "text/plain": [
              "array([23.20665352, -1.53256103,  0.98520308,  0.20925448,  0.47341662,\n",
              "       -1.62026463,  3.43584525,  0.044714  , -2.73060388,  3.46225188,\n",
              "       -1.9283631 , -1.70918618,  0.1005734 , -3.71723354])"
            ]
          },
          "metadata": {
            "tags": []
          },
          "execution_count": 30
        }
      ]
    },
    {
      "cell_type": "code",
      "metadata": {
        "id": "ZbQDoLmoMT0N",
        "colab_type": "code",
        "colab": {}
      },
      "source": [
        "y_tp = model.predict(X_test)"
      ],
      "execution_count": 31,
      "outputs": []
    },
    {
      "cell_type": "code",
      "metadata": {
        "id": "O63awn3WMRIF",
        "colab_type": "code",
        "colab": {
          "base_uri": "https://localhost:8080/",
          "height": 34
        },
        "outputId": "5c6c4d44-355e-406d-a779-8df84b3cff24"
      },
      "source": [
        "mean_absolute_error (y_true= y_test, y_pred= y_tp)"
      ],
      "execution_count": 32,
      "outputs": [
        {
          "output_type": "execute_result",
          "data": {
            "text/plain": [
              "5.142232214465271"
            ]
          },
          "metadata": {
            "tags": []
          },
          "execution_count": 32
        }
      ]
    },
    {
      "cell_type": "code",
      "metadata": {
        "id": "AUcOH2rhMR6Z",
        "colab_type": "code",
        "colab": {
          "base_uri": "https://localhost:8080/",
          "height": 34
        },
        "outputId": "f94471a3-2ee5-4c86-eb93-6dd30b9e17f9"
      },
      "source": [
        "mean_squared_error (y_true= y_test, y_pred= y_tp)"
      ],
      "execution_count": 33,
      "outputs": [
        {
          "output_type": "execute_result",
          "data": {
            "text/plain": [
              "37.893778599601866"
            ]
          },
          "metadata": {
            "tags": []
          },
          "execution_count": 33
        }
      ]
    },
    {
      "cell_type": "code",
      "metadata": {
        "id": "bMpC6gPxM3zg",
        "colab_type": "code",
        "colab": {
          "base_uri": "https://localhost:8080/",
          "height": 264
        },
        "outputId": "e89584e8-83ac-439d-8ab3-c822b3c877ce"
      },
      "source": [
        "plt.scatter(y = y_test, x = range(len(y_test)))\n",
        "plt.scatter(y = y_tp, x = range(len(y_test)))\n",
        "plt.grid(True)\n",
        "plt.show()"
      ],
      "execution_count": 34,
      "outputs": [
        {
          "output_type": "display_data",
          "data": {
            "image/png": "[encoded data removed]",
            "text/plain": [
              "<Figure size 432x288 with 1 Axes>"
            ]
          },
          "metadata": {
            "tags": [],
            "needs_background": "light"
          }
        }
      ]
    }
  ]
}