{
  "nbformat": 4,
  "nbformat_minor": 0,
  "metadata": {
    "colab": {
      "name": "Prac3.ipynb",
      "provenance": []
    },
    "kernelspec": {
      "name": "python3",
      "display_name": "Python 3"
    }
  },
  "cells": [
    {
      "cell_type": "markdown",
      "metadata": {
        "id": "xTJ935J77c4x",
        "colab_type": "text"
      },
      "source": [
        "# Shrey Viradiya\n",
        "# 18BCE259"
      ]
    },
    {
      "cell_type": "markdown",
      "metadata": {
        "id": "D0jxzs--7g9s",
        "colab_type": "text"
      },
      "source": [
        "**Simple and Multiple Linear Regression using Gradient\n",
        "Descent & Normal Equation Method (without using\n",
        "sklearn or equivalent library for both)**"
      ]
    },
    {
      "cell_type": "markdown",
      "metadata": {
        "id": "I4PzSLVGNm-X",
        "colab_type": "text"
      },
      "source": [
        "### Gradient Descent"
      ]
    },
    {
      "cell_type": "code",
      "metadata": {
        "id": "B21zEMqr7AAD",
        "colab_type": "code",
        "colab": {}
      },
      "source": [
        "import numpy as np\n",
        "import sklearn.datasets as skd\n",
        "from sklearn.preprocessing import scale\n",
        "from sklearn.metrics import mean_absolute_error, mean_squared_error\n",
        "import matplotlib.pyplot as plt"
      ],
      "execution_count": null,
      "outputs": []
    },
    {
      "cell_type": "code",
      "metadata": {
        "id": "S-ZEu2Gi737U",
        "colab_type": "code",
        "colab": {}
      },
      "source": [
        "X, y = skd.load_boston(return_X_y=True)\n",
        "X = scale(X)\n",
        "X_new = np.zeros(shape=(X.shape[0], X.shape[1] + 1))\n",
        "X_new[:,0] = np.ones(shape = (1,X.shape[0]))\n",
        "X_new[:,1:] = X\n",
        "X = X_new"
      ],
      "execution_count": null,
      "outputs": []
    },
    {
      "cell_type": "code",
      "metadata": {
        "id": "YO1uWggJ8zFA",
        "colab_type": "code",
        "colab": {}
      },
      "source": [
        "X_train = X[:400,:]\n",
        "y_train = y[:400]\n",
        "X_test = X[400:,:]\n",
        "y_test = y[400:]"
      ],
      "execution_count": null,
      "outputs": []
    },
    {
      "cell_type": "code",
      "metadata": {
        "id": "q3_U629hBNXK",
        "colab_type": "code",
        "colab": {}
      },
      "source": [
        "# epochs\n",
        "n_iter = 1000\n",
        "\n",
        "# Learning Rate\n",
        "LR = 0.03"
      ],
      "execution_count": null,
      "outputs": []
    },
    {
      "cell_type": "code",
      "metadata": {
        "id": "K-LjFy4WClCo",
        "colab_type": "code",
        "colab": {}
      },
      "source": [
        "a , b = X_train.shape\n",
        "thetas = np.random.uniform(0,1, size = (b))"
      ],
      "execution_count": null,
      "outputs": []
    },
    {
      "cell_type": "code",
      "metadata": {
        "id": "467qGJnuGzgD",
        "colab_type": "code",
        "colab": {
          "base_uri": "https://localhost:8080/",
          "height": 70
        },
        "outputId": "b45cc7c9-50d4-4b4c-b55e-ec353d915cc6"
      },
      "source": [
        "thetas"
      ],
      "execution_count": null,
      "outputs": [
        {
          "output_type": "execute_result",
          "data": {
            "text/plain": [
              "array([0.26318079, 0.9720099 , 0.31670281, 0.75792955, 0.74096632,\n",
              "       0.82558725, 0.05036764, 0.69818082, 0.90993727, 0.47909236,\n",
              "       0.74514468, 0.24588617, 0.09977386, 0.94071498])"
            ]
          },
          "metadata": {
            "tags": []
          },
          "execution_count": 6
        }
      ]
    },
    {
      "cell_type": "code",
      "metadata": {
        "id": "v9EQaVbRQ4mC",
        "colab_type": "code",
        "colab": {}
      },
      "source": [
        "mse_history = []"
      ],
      "execution_count": null,
      "outputs": []
    },
    {
      "cell_type": "code",
      "metadata": {
        "id": "EvvF9LFmEz54",
        "colab_type": "code",
        "colab": {}
      },
      "source": [
        "for i in range(n_iter):\n",
        "    update = np.zeros(shape=(b))\n",
        "    y_predicted = np.dot(X_train, thetas)\n",
        "    error = y_predicted - y_train\n",
        "    for f in range(b):\n",
        "        update[f] = np.sum(error * ((X_train.T)[f]))\n",
        "    thetas = thetas - (LR/a) * update\n",
        "    mse_history.append(mean_squared_error (y_true= y_test, y_pred= np.dot(X_test, thetas)))"
      ],
      "execution_count": null,
      "outputs": []
    },
    {
      "cell_type": "code",
      "metadata": {
        "id": "Zye9k1CSD9qN",
        "colab_type": "code",
        "colab": {
          "base_uri": "https://localhost:8080/",
          "height": 70
        },
        "outputId": "f695e4b3-2448-48c4-dfb8-313c509dd644"
      },
      "source": [
        "thetas"
      ],
      "execution_count": null,
      "outputs": [
        {
          "output_type": "execute_result",
          "data": {
            "text/plain": [
              "array([23.20612277, -1.52903751,  0.98270485,  0.20303559,  0.47485383,\n",
              "       -1.62007871,  3.43719136,  0.04383981, -2.73135757,  3.43319608,\n",
              "       -1.89985195, -1.70823575,  0.10204131, -3.71664314])"
            ]
          },
          "metadata": {
            "tags": []
          },
          "execution_count": 9
        }
      ]
    },
    {
      "cell_type": "code",
      "metadata": {
        "id": "l3-gwBfJRIM_",
        "colab_type": "code",
        "colab": {
          "base_uri": "https://localhost:8080/",
          "height": 621
        },
        "outputId": "08f56a56-2e10-4018-c211-3685528e4353"
      },
      "source": [
        "plt.figure(figsize = (16,10))\n",
        "plt.plot(mse_history, label='MSE history')\n",
        "plt.title(\"MSE over Training\")\n",
        "plt.xlabel('MSE error')\n",
        "plt.ylabel('Epoch No.')\n",
        "plt.grid(True)\n",
        "plt.legend()\n",
        "plt.show()"
      ],
      "execution_count": null,
      "outputs": [
        {
          "output_type": "display_data",
          "data": {
            "image/png": "[encoded data removed]",
            "text/plain": [
              "<Figure size 1152x720 with 1 Axes>"
            ]
          },
          "metadata": {
            "tags": [],
            "needs_background": "light"
          }
        }
      ]
    },
    {
      "cell_type": "code",
      "metadata": {
        "id": "w2YUOeYXIVY2",
        "colab_type": "code",
        "colab": {}
      },
      "source": [
        "y_tp = np.dot(X_test, thetas)"
      ],
      "execution_count": null,
      "outputs": []
    },
    {
      "cell_type": "code",
      "metadata": {
        "id": "4_qOsEH6Inf4",
        "colab_type": "code",
        "colab": {
          "base_uri": "https://localhost:8080/",
          "height": 34
        },
        "outputId": "74f6419b-8f5d-4309-89b7-6bc8dc4b7285"
      },
      "source": [
        "mean_absolute_error (y_true= y_test, y_pred= y_tp)"
      ],
      "execution_count": null,
      "outputs": [
        {
          "output_type": "execute_result",
          "data": {
            "text/plain": [
              "4.799898997293879"
            ]
          },
          "metadata": {
            "tags": []
          },
          "execution_count": 12
        }
      ]
    },
    {
      "cell_type": "code",
      "metadata": {
        "id": "PRQ8v5FyItHh",
        "colab_type": "code",
        "colab": {
          "base_uri": "https://localhost:8080/",
          "height": 34
        },
        "outputId": "0d6a21a5-b0b8-422e-fa37-dd7799df405c"
      },
      "source": [
        "mean_squared_error (y_true= y_test, y_pred= y_tp)"
      ],
      "execution_count": null,
      "outputs": [
        {
          "output_type": "execute_result",
          "data": {
            "text/plain": [
              "33.12770456530223"
            ]
          },
          "metadata": {
            "tags": []
          },
          "execution_count": 13
        }
      ]
    },
    {
      "cell_type": "code",
      "metadata": {
        "id": "TBRtumorI4iq",
        "colab_type": "code",
        "colab": {
          "base_uri": "https://localhost:8080/",
          "height": 592
        },
        "outputId": "df4b3109-9820-42e8-a4c4-ebcb18fea625"
      },
      "source": [
        "plt.figure(figsize = (16,10))\n",
        "plt.scatter(y = y_test, x = range(len(y_test)))\n",
        "plt.scatter(y = y_tp, x = range(len(y_test)))\n",
        "plt.grid(True)\n",
        "plt.show()"
      ],
      "execution_count": null,
      "outputs": [
        {
          "output_type": "display_data",
          "data": {
            "image/png": "[encoded data removed]",
            "text/plain": [
              "<Figure size 1152x720 with 1 Axes>"
            ]
          },
          "metadata": {
            "tags": [],
            "needs_background": "light"
          }
        }
      ]
    },
    {
      "cell_type": "markdown",
      "metadata": {
        "id": "JGXCpCuANrd5",
        "colab_type": "text"
      },
      "source": [
        "### Normal Equation"
      ]
    },
    {
      "cell_type": "code",
      "metadata": {
        "id": "M1kVh043Nyuk",
        "colab_type": "code",
        "colab": {}
      },
      "source": [
        "theta_best = np.linalg.inv(X_train.T.dot(X_train)).dot(X_train.T).dot(y_train)"
      ],
      "execution_count": null,
      "outputs": []
    },
    {
      "cell_type": "code",
      "metadata": {
        "id": "1dcrktUAN3cc",
        "colab_type": "code",
        "colab": {
          "base_uri": "https://localhost:8080/",
          "height": 70
        },
        "outputId": "fa6a2583-31c8-4895-f8cb-55ab6e8b7dcb"
      },
      "source": [
        "theta_best"
      ],
      "execution_count": null,
      "outputs": [
        {
          "output_type": "execute_result",
          "data": {
            "text/plain": [
              "array([23.28337581, -1.643388  ,  1.0305089 ,  0.37845963,  0.43550243,\n",
              "       -1.73595149,  3.43080791,  0.07337369, -2.7237948 ,  4.21699484,\n",
              "       -2.59301797, -1.74926608, -0.1178641 , -3.69508319])"
            ]
          },
          "metadata": {
            "tags": []
          },
          "execution_count": 16
        }
      ]
    },
    {
      "cell_type": "code",
      "metadata": {
        "id": "TniS87LTOdWV",
        "colab_type": "code",
        "colab": {}
      },
      "source": [
        "y_tp = np.dot(X_test, theta_best)"
      ],
      "execution_count": null,
      "outputs": []
    },
    {
      "cell_type": "code",
      "metadata": {
        "id": "ZNdw1IAVSRlZ",
        "colab_type": "code",
        "colab": {
          "base_uri": "https://localhost:8080/",
          "height": 34
        },
        "outputId": "8cb5d136-4d4f-4544-9983-3aeefcde322c"
      },
      "source": [
        "mean_absolute_error (y_true= y_test, y_pred= y_tp)"
      ],
      "execution_count": null,
      "outputs": [
        {
          "output_type": "execute_result",
          "data": {
            "text/plain": [
              "5.142232214465217"
            ]
          },
          "metadata": {
            "tags": []
          },
          "execution_count": 18
        }
      ]
    },
    {
      "cell_type": "code",
      "metadata": {
        "id": "UPkag6-GSR69",
        "colab_type": "code",
        "colab": {
          "base_uri": "https://localhost:8080/",
          "height": 34
        },
        "outputId": "700758cc-20d9-42ec-ea68-c1603d77f8b0"
      },
      "source": [
        "mean_squared_error (y_true= y_test, y_pred= y_tp)"
      ],
      "execution_count": null,
      "outputs": [
        {
          "output_type": "execute_result",
          "data": {
            "text/plain": [
              "37.89377859960078"
            ]
          },
          "metadata": {
            "tags": []
          },
          "execution_count": 19
        }
      ]
    },
    {
      "cell_type": "code",
      "metadata": {
        "id": "0jMaEdE5ST3F",
        "colab_type": "code",
        "colab": {}
      },
      "source": [
        ""
      ],
      "execution_count": null,
      "outputs": []
    },
    {
      "cell_type": "markdown",
      "metadata": {
        "id": "_2pyaohXTgxA",
        "colab_type": "text"
      },
      "source": [
        "### Using sklearn (for reference only)"
      ]
    },
    {
      "cell_type": "code",
      "metadata": {
        "id": "ewrIvRfKJAsh",
        "colab_type": "code",
        "colab": {}
      },
      "source": [
        "from sklearn.linear_model import LinearRegression"
      ],
      "execution_count": null,
      "outputs": []
    },
    {
      "cell_type": "code",
      "metadata": {
        "id": "5A1TWcruMDGe",
        "colab_type": "code",
        "colab": {}
      },
      "source": [
        "X, y = skd.load_boston(return_X_y=True)\n",
        "X_train = X[:400,:]\n",
        "y_train = y[:400]\n",
        "X_test = X[400:,:]\n",
        "y_test = y[400:]"
      ],
      "execution_count": null,
      "outputs": []
    },
    {
      "cell_type": "code",
      "metadata": {
        "id": "DgkIzAUuKVZ6",
        "colab_type": "code",
        "colab": {
          "base_uri": "https://localhost:8080/",
          "height": 34
        },
        "outputId": "cb0d408e-8e3b-411b-ddb3-471fba0fd2ab"
      },
      "source": [
        "model = LinearRegression()\n",
        "model.fit(X_train, y_train)"
      ],
      "execution_count": null,
      "outputs": [
        {
          "output_type": "execute_result",
          "data": {
            "text/plain": [
              "LinearRegression(copy_X=True, fit_intercept=True, n_jobs=None, normalize=False)"
            ]
          },
          "metadata": {
            "tags": []
          },
          "execution_count": 22
        }
      ]
    },
    {
      "cell_type": "code",
      "metadata": {
        "id": "Td1Pg0aQMlLD",
        "colab_type": "code",
        "colab": {
          "base_uri": "https://localhost:8080/",
          "height": 34
        },
        "outputId": "38159877-32fc-4137-fead-173e4d4da521"
      },
      "source": [
        "model.intercept_"
      ],
      "execution_count": null,
      "outputs": [
        {
          "output_type": "execute_result",
          "data": {
            "text/plain": [
              "28.6725995908559"
            ]
          },
          "metadata": {
            "tags": []
          },
          "execution_count": 23
        }
      ]
    },
    {
      "cell_type": "code",
      "metadata": {
        "id": "msLvpt6fKY01",
        "colab_type": "code",
        "colab": {
          "base_uri": "https://localhost:8080/",
          "height": 87
        },
        "outputId": "564b5e12-389d-4f35-e275-95d02cce79d0"
      },
      "source": [
        "model.coef_"
      ],
      "execution_count": null,
      "outputs": [
        {
          "output_type": "execute_result",
          "data": {
            "text/plain": [
              "array([-1.91246374e-01,  4.42289967e-02,  5.52207977e-02,  1.71631351e+00,\n",
              "       -1.49957220e+01,  4.88773025e+00,  2.60921031e-03, -1.29480799e+00,\n",
              "        4.84787214e-01, -1.54006673e-02, -8.08795026e-01, -1.29230427e-03,\n",
              "       -5.17953791e-01])"
            ]
          },
          "metadata": {
            "tags": []
          },
          "execution_count": 24
        }
      ]
    },
    {
      "cell_type": "code",
      "metadata": {
        "id": "jRo-ZGYvKpf4",
        "colab_type": "code",
        "colab": {
          "base_uri": "https://localhost:8080/",
          "height": 70
        },
        "outputId": "508113fe-ffe5-4730-fea0-8e4c23bb9339"
      },
      "source": [
        "thetas"
      ],
      "execution_count": null,
      "outputs": [
        {
          "output_type": "execute_result",
          "data": {
            "text/plain": [
              "array([23.20612277, -1.52903751,  0.98270485,  0.20303559,  0.47485383,\n",
              "       -1.62007871,  3.43719136,  0.04383981, -2.73135757,  3.43319608,\n",
              "       -1.89985195, -1.70823575,  0.10204131, -3.71664314])"
            ]
          },
          "metadata": {
            "tags": []
          },
          "execution_count": 25
        }
      ]
    },
    {
      "cell_type": "code",
      "metadata": {
        "id": "ZbQDoLmoMT0N",
        "colab_type": "code",
        "colab": {}
      },
      "source": [
        "y_tp = model.predict(X_test)"
      ],
      "execution_count": null,
      "outputs": []
    },
    {
      "cell_type": "code",
      "metadata": {
        "id": "O63awn3WMRIF",
        "colab_type": "code",
        "colab": {
          "base_uri": "https://localhost:8080/",
          "height": 34
        },
        "outputId": "4e03ed5c-4e8a-4798-c4d0-303deb3003bb"
      },
      "source": [
        "mean_absolute_error (y_true= y_test, y_pred= y_tp)"
      ],
      "execution_count": null,
      "outputs": [
        {
          "output_type": "execute_result",
          "data": {
            "text/plain": [
              "5.142232214465271"
            ]
          },
          "metadata": {
            "tags": []
          },
          "execution_count": 27
        }
      ]
    },
    {
      "cell_type": "code",
      "metadata": {
        "id": "AUcOH2rhMR6Z",
        "colab_type": "code",
        "colab": {
          "base_uri": "https://localhost:8080/",
          "height": 34
        },
        "outputId": "9961e8b0-4f75-4a26-f0f0-81ed17eb54d1"
      },
      "source": [
        "mean_squared_error (y_true= y_test, y_pred= y_tp)"
      ],
      "execution_count": null,
      "outputs": [
        {
          "output_type": "execute_result",
          "data": {
            "text/plain": [
              "37.893778599601866"
            ]
          },
          "metadata": {
            "tags": []
          },
          "execution_count": 28
        }
      ]
    },
    {
      "cell_type": "code",
      "metadata": {
        "id": "bMpC6gPxM3zg",
        "colab_type": "code",
        "colab": {
          "base_uri": "https://localhost:8080/",
          "height": 592
        },
        "outputId": "753c3afd-be7f-4d9f-e91a-ba16a2defabd"
      },
      "source": [
        "plt.figure(figsize = (16,10))\n",
        "plt.scatter(y = y_test, x = range(len(y_test)))\n",
        "plt.scatter(y = y_tp, x = range(len(y_test)))\n",
        "plt.grid(True)\n",
        "plt.show()"
      ],
      "execution_count": null,
      "outputs": [
        {
          "output_type": "display_data",
          "data": {
            "image/png": "[encoded data removed]",
            "text/plain": [
              "<Figure size 1152x720 with 1 Axes>"
            ]
          },
          "metadata": {
            "tags": [],
            "needs_background": "light"
          }
        }
      ]
    }
  ]
}