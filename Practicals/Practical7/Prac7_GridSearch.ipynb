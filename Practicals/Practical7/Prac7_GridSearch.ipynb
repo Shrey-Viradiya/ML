{
 "metadata": {
  "language_info": {
   "codemirror_mode": {
    "name": "ipython",
    "version": 3
   },
   "file_extension": ".py",
   "mimetype": "text/x-python",
   "name": "python",
   "nbconvert_exporter": "python",
   "pygments_lexer": "ipython3",
   "version": "3.7.3-final"
  },
  "orig_nbformat": 2,
  "kernelspec": {
   "name": "Python 3.7.3 64-bit ('venv')",
   "display_name": "Python 3.7.3 64-bit ('venv')",
   "metadata": {
    "interpreter": {
     "hash": "575faca95a7e3f9681938892a1b782ba577a350496457eb87f0846b6b1b2dc0c"
    }
   }
  }
 },
 "nbformat": 4,
 "nbformat_minor": 2,
 "cells": [
  {
   "source": [
    "# Shrey Viradiya\n",
    "### 18BCE259"
   ],
   "cell_type": "markdown",
   "metadata": {}
  },
  {
   "source": [
    "# Grid Search"
   ],
   "cell_type": "markdown",
   "metadata": {}
  },
  {
   "cell_type": "code",
   "execution_count": 1,
   "metadata": {},
   "outputs": [],
   "source": [
    "import numpy as np\n",
    "import pandas as pd\n",
    "from sklearn.neighbors import KNeighborsClassifier\n",
    "from sklearn.datasets import load_iris, load_boston\n",
    "from sklearn.model_selection import GridSearchCV, train_test_split\n",
    "from sklearn.linear_model import SGDRegressor\n",
    "from sklearn.metrics import *\n",
    "from sklearn.utils import shuffle\n",
    "from sklearn.preprocessing import StandardScaler\n",
    "\n",
    "np.random.seed(259)"
   ]
  },
  {
   "source": [
    "## Classifier"
   ],
   "cell_type": "markdown",
   "metadata": {}
  },
  {
   "cell_type": "code",
   "execution_count": 2,
   "metadata": {},
   "outputs": [],
   "source": [
    "iris = load_iris()"
   ]
  },
  {
   "cell_type": "code",
   "execution_count": 3,
   "metadata": {},
   "outputs": [
    {
     "output_type": "stream",
     "name": "stdout",
     "text": [
      "IRIS Dataset\nFeature names: ['sepal length (cm)', 'sepal width (cm)', 'petal length (cm)', 'petal width (cm)']\nTarget names: ['setosa' 'versicolor' 'virginica']\n"
     ]
    }
   ],
   "source": [
    "print(\"IRIS Dataset\")\n",
    "print(f\"Feature names: {iris['feature_names']}\")\n",
    "print(f\"Target names: {iris['target_names']}\")"
   ]
  },
  {
   "cell_type": "code",
   "execution_count": 4,
   "metadata": {},
   "outputs": [],
   "source": [
    "X = iris['data']\n",
    "y = iris['target']"
   ]
  },
  {
   "cell_type": "code",
   "execution_count": 5,
   "metadata": {},
   "outputs": [],
   "source": [
    "X_train, X_test, y_train, y_test = train_test_split(X, y, test_size=0.5, random_state=259)"
   ]
  },
  {
   "cell_type": "code",
   "execution_count": 6,
   "metadata": {},
   "outputs": [],
   "source": [
    "neigh = KNeighborsClassifier()"
   ]
  },
  {
   "cell_type": "code",
   "execution_count": 7,
   "metadata": {},
   "outputs": [
    {
     "output_type": "stream",
     "text": [
      "\u001b[1;31mInit signature:\u001b[0m\n",
      "\u001b[0mKNeighborsClassifier\u001b[0m\u001b[1;33m(\u001b[0m\u001b[1;33m\n",
      "\u001b[0m    \u001b[0mn_neighbors\u001b[0m\u001b[1;33m=\u001b[0m\u001b[1;36m5\u001b[0m\u001b[1;33m,\u001b[0m\u001b[1;33m\n",
      "\u001b[0m    \u001b[1;33m*\u001b[0m\u001b[1;33m,\u001b[0m\u001b[1;33m\n",
      "\u001b[0m    \u001b[0mweights\u001b[0m\u001b[1;33m=\u001b[0m\u001b[1;34m'uniform'\u001b[0m\u001b[1;33m,\u001b[0m\u001b[1;33m\n",
      "\u001b[0m    \u001b[0malgorithm\u001b[0m\u001b[1;33m=\u001b[0m\u001b[1;34m'auto'\u001b[0m\u001b[1;33m,\u001b[0m\u001b[1;33m\n",
      "\u001b[0m    \u001b[0mleaf_size\u001b[0m\u001b[1;33m=\u001b[0m\u001b[1;36m30\u001b[0m\u001b[1;33m,\u001b[0m\u001b[1;33m\n",
      "\u001b[0m    \u001b[0mp\u001b[0m\u001b[1;33m=\u001b[0m\u001b[1;36m2\u001b[0m\u001b[1;33m,\u001b[0m\u001b[1;33m\n",
      "\u001b[0m    \u001b[0mmetric\u001b[0m\u001b[1;33m=\u001b[0m\u001b[1;34m'minkowski'\u001b[0m\u001b[1;33m,\u001b[0m\u001b[1;33m\n",
      "\u001b[0m    \u001b[0mmetric_params\u001b[0m\u001b[1;33m=\u001b[0m\u001b[1;32mNone\u001b[0m\u001b[1;33m,\u001b[0m\u001b[1;33m\n",
      "\u001b[0m    \u001b[0mn_jobs\u001b[0m\u001b[1;33m=\u001b[0m\u001b[1;32mNone\u001b[0m\u001b[1;33m,\u001b[0m\u001b[1;33m\n",
      "\u001b[0m    \u001b[1;33m**\u001b[0m\u001b[0mkwargs\u001b[0m\u001b[1;33m,\u001b[0m\u001b[1;33m\n",
      "\u001b[0m\u001b[1;33m)\u001b[0m\u001b[1;33m\u001b[0m\u001b[1;33m\u001b[0m\u001b[0m\n",
      "\u001b[1;31mDocstring:\u001b[0m     \n",
      "Classifier implementing the k-nearest neighbors vote.\n",
      "\n",
      "Read more in the :ref:`User Guide <classification>`.\n",
      "\n",
      "Parameters\n",
      "----------\n",
      "n_neighbors : int, default=5\n",
      "    Number of neighbors to use by default for :meth:`kneighbors` queries.\n",
      "\n",
      "weights : {'uniform', 'distance'} or callable, default='uniform'\n",
      "    weight function used in prediction.  Possible values:\n",
      "\n",
      "    - 'uniform' : uniform weights.  All points in each neighborhood\n",
      "      are weighted equally.\n",
      "    - 'distance' : weight points by the inverse of their distance.\n",
      "      in this case, closer neighbors of a query point will have a\n",
      "      greater influence than neighbors which are further away.\n",
      "    - [callable] : a user-defined function which accepts an\n",
      "      array of distances, and returns an array of the same shape\n",
      "      containing the weights.\n",
      "\n",
      "algorithm : {'auto', 'ball_tree', 'kd_tree', 'brute'}, default='auto'\n",
      "    Algorithm used to compute the nearest neighbors:\n",
      "\n",
      "    - 'ball_tree' will use :class:`BallTree`\n",
      "    - 'kd_tree' will use :class:`KDTree`\n",
      "    - 'brute' will use a brute-force search.\n",
      "    - 'auto' will attempt to decide the most appropriate algorithm\n",
      "      based on the values passed to :meth:`fit` method.\n",
      "\n",
      "    Note: fitting on sparse input will override the setting of\n",
      "    this parameter, using brute force.\n",
      "\n",
      "leaf_size : int, default=30\n",
      "    Leaf size passed to BallTree or KDTree.  This can affect the\n",
      "    speed of the construction and query, as well as the memory\n",
      "    required to store the tree.  The optimal value depends on the\n",
      "    nature of the problem.\n",
      "\n",
      "p : int, default=2\n",
      "    Power parameter for the Minkowski metric. When p = 1, this is\n",
      "    equivalent to using manhattan_distance (l1), and euclidean_distance\n",
      "    (l2) for p = 2. For arbitrary p, minkowski_distance (l_p) is used.\n",
      "\n",
      "metric : str or callable, default='minkowski'\n",
      "    the distance metric to use for the tree.  The default metric is\n",
      "    minkowski, and with p=2 is equivalent to the standard Euclidean\n",
      "    metric. See the documentation of :class:`DistanceMetric` for a\n",
      "    list of available metrics.\n",
      "    If metric is \"precomputed\", X is assumed to be a distance matrix and\n",
      "    must be square during fit. X may be a :term:`sparse graph`,\n",
      "    in which case only \"nonzero\" elements may be considered neighbors.\n",
      "\n",
      "metric_params : dict, default=None\n",
      "    Additional keyword arguments for the metric function.\n",
      "\n",
      "n_jobs : int, default=None\n",
      "    The number of parallel jobs to run for neighbors search.\n",
      "    ``None`` means 1 unless in a :obj:`joblib.parallel_backend` context.\n",
      "    ``-1`` means using all processors. See :term:`Glossary <n_jobs>`\n",
      "    for more details.\n",
      "    Doesn't affect :meth:`fit` method.\n",
      "\n",
      "Attributes\n",
      "----------\n",
      "classes_ : array of shape (n_classes,)\n",
      "    Class labels known to the classifier\n",
      "\n",
      "effective_metric_ : str or callble\n",
      "    The distance metric used. It will be same as the `metric` parameter\n",
      "    or a synonym of it, e.g. 'euclidean' if the `metric` parameter set to\n",
      "    'minkowski' and `p` parameter set to 2.\n",
      "\n",
      "effective_metric_params_ : dict\n",
      "    Additional keyword arguments for the metric function. For most metrics\n",
      "    will be same with `metric_params` parameter, but may also contain the\n",
      "    `p` parameter value if the `effective_metric_` attribute is set to\n",
      "    'minkowski'.\n",
      "\n",
      "outputs_2d_ : bool\n",
      "    False when `y`'s shape is (n_samples, ) or (n_samples, 1) during fit\n",
      "    otherwise True.\n",
      "\n",
      "Examples\n",
      "--------\n",
      ">>> X = [[0], [1], [2], [3]]\n",
      ">>> y = [0, 0, 1, 1]\n",
      ">>> from sklearn.neighbors import KNeighborsClassifier\n",
      ">>> neigh = KNeighborsClassifier(n_neighbors=3)\n",
      ">>> neigh.fit(X, y)\n",
      "KNeighborsClassifier(...)\n",
      ">>> print(neigh.predict([[1.1]]))\n",
      "[0]\n",
      ">>> print(neigh.predict_proba([[0.9]]))\n",
      "[[0.66666667 0.33333333]]\n",
      "\n",
      "See also\n",
      "--------\n",
      "RadiusNeighborsClassifier\n",
      "KNeighborsRegressor\n",
      "RadiusNeighborsRegressor\n",
      "NearestNeighbors\n",
      "\n",
      "Notes\n",
      "-----\n",
      "See :ref:`Nearest Neighbors <neighbors>` in the online documentation\n",
      "for a discussion of the choice of ``algorithm`` and ``leaf_size``.\n",
      "\n",
      ".. warning::\n",
      "\n",
      "   Regarding the Nearest Neighbors algorithms, if it is found that two\n",
      "   neighbors, neighbor `k+1` and `k`, have identical distances\n",
      "   but different labels, the results will depend on the ordering of the\n",
      "   training data.\n",
      "\n",
      "https://en.wikipedia.org/wiki/K-nearest_neighbor_algorithm\n",
      "\u001b[1;31mFile:\u001b[0m           s:\\sem 5\\ml\\venv\\lib\\site-packages\\sklearn\\neighbors\\_classification.py\n",
      "\u001b[1;31mType:\u001b[0m           ABCMeta\n",
      "\u001b[1;31mSubclasses:\u001b[0m     \n"
     ],
     "name": "stdout"
    }
   ],
   "source": [
    "KNeighborsClassifier?"
   ]
  },
  {
   "source": [
    "### Grid Search Dictionary and Object"
   ],
   "cell_type": "markdown",
   "metadata": {}
  },
  {
   "cell_type": "code",
   "execution_count": 8,
   "metadata": {},
   "outputs": [
    {
     "output_type": "execute_result",
     "data": {
      "text/plain": [
       "GridSearchCV(cv=5, estimator=KNeighborsClassifier(),\n",
       "             param_grid={'n_neighbors': [1, 5, 10, 20],\n",
       "                         'weights': ['uniform', 'distance']})"
      ]
     },
     "metadata": {},
     "execution_count": 8
    }
   ],
   "source": [
    "param_grid = {\n",
    "    'n_neighbors' : [1,5,10,20],\n",
    "    'weights' : ['uniform', 'distance']\n",
    "}\n",
    "\n",
    "clf_grid = GridSearchCV(neigh, param_grid, cv = 5)\n",
    "clf_grid.fit(X_train, y_train)"
   ]
  },
  {
   "cell_type": "code",
   "execution_count": 9,
   "metadata": {},
   "outputs": [
    {
     "output_type": "stream",
     "name": "stdout",
     "text": [
      "Best Parameters: {'n_neighbors': 10, 'weights': 'distance'}\n"
     ]
    }
   ],
   "source": [
    "print(f\"Best Parameters: {clf_grid.best_params_}\")"
   ]
  },
  {
   "cell_type": "code",
   "execution_count": 10,
   "metadata": {},
   "outputs": [],
   "source": [
    "prediction = clf_grid.predict(X_test)"
   ]
  },
  {
   "cell_type": "code",
   "execution_count": 11,
   "metadata": {},
   "outputs": [
    {
     "output_type": "stream",
     "name": "stdout",
     "text": [
      "Report: ____________________________\n\nAccuracy: 0.96\nConfisuion metrix:\n[[28  0  0]\n [ 0 19  2]\n [ 0  1 25]]\nClassification Report:\n              precision    recall  f1-score   support\n\n           0       1.00      1.00      1.00        28\n           1       0.95      0.90      0.93        21\n           2       0.93      0.96      0.94        26\n\n    accuracy                           0.96        75\n   macro avg       0.96      0.96      0.96        75\nweighted avg       0.96      0.96      0.96        75\n\n"
     ]
    }
   ],
   "source": [
    "print(\"Report: ____________________________\\n\")\n",
    "print(f\"Accuracy: {accuracy_score(y_test, prediction)}\")\n",
    "print(\"Confisuion metrix:\")\n",
    "print(confusion_matrix(y_test, prediction))\n",
    "print(\"Classification Report:\")\n",
    "print(classification_report(y_test, prediction))"
   ]
  },
  {
   "source": [
    "## Regressor"
   ],
   "cell_type": "markdown",
   "metadata": {}
  },
  {
   "cell_type": "code",
   "execution_count": 12,
   "metadata": {},
   "outputs": [],
   "source": [
    "X, y = load_boston(return_X_y=True)\n",
    "X, y = shuffle(X, y, random_state = 259)\n",
    "X = StandardScaler().fit_transform(X)\n",
    "X_train, X_test, y_train, y_test = train_test_split(X, y, test_size=0.20, random_state=259)"
   ]
  },
  {
   "cell_type": "code",
   "execution_count": 13,
   "metadata": {},
   "outputs": [],
   "source": [
    "sgd_clf = SGDRegressor()"
   ]
  },
  {
   "cell_type": "code",
   "execution_count": 14,
   "metadata": {},
   "outputs": [
    {
     "output_type": "stream",
     "text": [
      "\u001b[1;31mInit signature:\u001b[0m\n",
      "\u001b[0mSGDRegressor\u001b[0m\u001b[1;33m(\u001b[0m\u001b[1;33m\n",
      "\u001b[0m    \u001b[0mloss\u001b[0m\u001b[1;33m=\u001b[0m\u001b[1;34m'squared_loss'\u001b[0m\u001b[1;33m,\u001b[0m\u001b[1;33m\n",
      "\u001b[0m    \u001b[1;33m*\u001b[0m\u001b[1;33m,\u001b[0m\u001b[1;33m\n",
      "\u001b[0m    \u001b[0mpenalty\u001b[0m\u001b[1;33m=\u001b[0m\u001b[1;34m'l2'\u001b[0m\u001b[1;33m,\u001b[0m\u001b[1;33m\n",
      "\u001b[0m    \u001b[0malpha\u001b[0m\u001b[1;33m=\u001b[0m\u001b[1;36m0.0001\u001b[0m\u001b[1;33m,\u001b[0m\u001b[1;33m\n",
      "\u001b[0m    \u001b[0ml1_ratio\u001b[0m\u001b[1;33m=\u001b[0m\u001b[1;36m0.15\u001b[0m\u001b[1;33m,\u001b[0m\u001b[1;33m\n",
      "\u001b[0m    \u001b[0mfit_intercept\u001b[0m\u001b[1;33m=\u001b[0m\u001b[1;32mTrue\u001b[0m\u001b[1;33m,\u001b[0m\u001b[1;33m\n",
      "\u001b[0m    \u001b[0mmax_iter\u001b[0m\u001b[1;33m=\u001b[0m\u001b[1;36m1000\u001b[0m\u001b[1;33m,\u001b[0m\u001b[1;33m\n",
      "\u001b[0m    \u001b[0mtol\u001b[0m\u001b[1;33m=\u001b[0m\u001b[1;36m0.001\u001b[0m\u001b[1;33m,\u001b[0m\u001b[1;33m\n",
      "\u001b[0m    \u001b[0mshuffle\u001b[0m\u001b[1;33m=\u001b[0m\u001b[1;32mTrue\u001b[0m\u001b[1;33m,\u001b[0m\u001b[1;33m\n",
      "\u001b[0m    \u001b[0mverbose\u001b[0m\u001b[1;33m=\u001b[0m\u001b[1;36m0\u001b[0m\u001b[1;33m,\u001b[0m\u001b[1;33m\n",
      "\u001b[0m    \u001b[0mepsilon\u001b[0m\u001b[1;33m=\u001b[0m\u001b[1;36m0.1\u001b[0m\u001b[1;33m,\u001b[0m\u001b[1;33m\n",
      "\u001b[0m    \u001b[0mrandom_state\u001b[0m\u001b[1;33m=\u001b[0m\u001b[1;32mNone\u001b[0m\u001b[1;33m,\u001b[0m\u001b[1;33m\n",
      "\u001b[0m    \u001b[0mlearning_rate\u001b[0m\u001b[1;33m=\u001b[0m\u001b[1;34m'invscaling'\u001b[0m\u001b[1;33m,\u001b[0m\u001b[1;33m\n",
      "\u001b[0m    \u001b[0meta0\u001b[0m\u001b[1;33m=\u001b[0m\u001b[1;36m0.01\u001b[0m\u001b[1;33m,\u001b[0m\u001b[1;33m\n",
      "\u001b[0m    \u001b[0mpower_t\u001b[0m\u001b[1;33m=\u001b[0m\u001b[1;36m0.25\u001b[0m\u001b[1;33m,\u001b[0m\u001b[1;33m\n",
      "\u001b[0m    \u001b[0mearly_stopping\u001b[0m\u001b[1;33m=\u001b[0m\u001b[1;32mFalse\u001b[0m\u001b[1;33m,\u001b[0m\u001b[1;33m\n",
      "\u001b[0m    \u001b[0mvalidation_fraction\u001b[0m\u001b[1;33m=\u001b[0m\u001b[1;36m0.1\u001b[0m\u001b[1;33m,\u001b[0m\u001b[1;33m\n",
      "\u001b[0m    \u001b[0mn_iter_no_change\u001b[0m\u001b[1;33m=\u001b[0m\u001b[1;36m5\u001b[0m\u001b[1;33m,\u001b[0m\u001b[1;33m\n",
      "\u001b[0m    \u001b[0mwarm_start\u001b[0m\u001b[1;33m=\u001b[0m\u001b[1;32mFalse\u001b[0m\u001b[1;33m,\u001b[0m\u001b[1;33m\n",
      "\u001b[0m    \u001b[0maverage\u001b[0m\u001b[1;33m=\u001b[0m\u001b[1;32mFalse\u001b[0m\u001b[1;33m,\u001b[0m\u001b[1;33m\n",
      "\u001b[0m\u001b[1;33m)\u001b[0m\u001b[1;33m\u001b[0m\u001b[1;33m\u001b[0m\u001b[0m\n",
      "\u001b[1;31mDocstring:\u001b[0m     \n",
      "Linear model fitted by minimizing a regularized empirical loss with SGD\n",
      "\n",
      "SGD stands for Stochastic Gradient Descent: the gradient of the loss is\n",
      "estimated each sample at a time and the model is updated along the way with\n",
      "a decreasing strength schedule (aka learning rate).\n",
      "\n",
      "The regularizer is a penalty added to the loss function that shrinks model\n",
      "parameters towards the zero vector using either the squared euclidean norm\n",
      "L2 or the absolute norm L1 or a combination of both (Elastic Net). If the\n",
      "parameter update crosses the 0.0 value because of the regularizer, the\n",
      "update is truncated to 0.0 to allow for learning sparse models and achieve\n",
      "online feature selection.\n",
      "\n",
      "This implementation works with data represented as dense numpy arrays of\n",
      "floating point values for the features.\n",
      "\n",
      "Read more in the :ref:`User Guide <sgd>`.\n",
      "\n",
      "Parameters\n",
      "----------\n",
      "loss : str, default='squared_loss'\n",
      "    The loss function to be used. The possible values are 'squared_loss',\n",
      "    'huber', 'epsilon_insensitive', or 'squared_epsilon_insensitive'\n",
      "\n",
      "    The 'squared_loss' refers to the ordinary least squares fit.\n",
      "    'huber' modifies 'squared_loss' to focus less on getting outliers\n",
      "    correct by switching from squared to linear loss past a distance of\n",
      "    epsilon. 'epsilon_insensitive' ignores errors less than epsilon and is\n",
      "    linear past that; this is the loss function used in SVR.\n",
      "    'squared_epsilon_insensitive' is the same but becomes squared loss past\n",
      "    a tolerance of epsilon.\n",
      "\n",
      "    More details about the losses formulas can be found in the\n",
      "    :ref:`User Guide <sgd_mathematical_formulation>`.\n",
      "\n",
      "penalty : {'l2', 'l1', 'elasticnet'}, default='l2'\n",
      "    The penalty (aka regularization term) to be used. Defaults to 'l2'\n",
      "    which is the standard regularizer for linear SVM models. 'l1' and\n",
      "    'elasticnet' might bring sparsity to the model (feature selection)\n",
      "    not achievable with 'l2'.\n",
      "\n",
      "alpha : float, default=0.0001\n",
      "    Constant that multiplies the regularization term. The higher the\n",
      "    value, the stronger the regularization.\n",
      "    Also used to compute the learning rate when set to `learning_rate` is\n",
      "    set to 'optimal'.\n",
      "\n",
      "l1_ratio : float, default=0.15\n",
      "    The Elastic Net mixing parameter, with 0 <= l1_ratio <= 1.\n",
      "    l1_ratio=0 corresponds to L2 penalty, l1_ratio=1 to L1.\n",
      "    Only used if `penalty` is 'elasticnet'.\n",
      "\n",
      "fit_intercept : bool, default=True\n",
      "    Whether the intercept should be estimated or not. If False, the\n",
      "    data is assumed to be already centered.\n",
      "\n",
      "max_iter : int, default=1000\n",
      "    The maximum number of passes over the training data (aka epochs).\n",
      "    It only impacts the behavior in the ``fit`` method, and not the\n",
      "    :meth:`partial_fit` method.\n",
      "\n",
      "    .. versionadded:: 0.19\n",
      "\n",
      "tol : float, default=1e-3\n",
      "    The stopping criterion. If it is not None, training will stop\n",
      "    when (loss > best_loss - tol) for ``n_iter_no_change`` consecutive\n",
      "    epochs.\n",
      "\n",
      "    .. versionadded:: 0.19\n",
      "\n",
      "shuffle : bool, default=True\n",
      "    Whether or not the training data should be shuffled after each epoch.\n",
      "\n",
      "verbose : int, default=0\n",
      "    The verbosity level.\n",
      "\n",
      "epsilon : float, default=0.1\n",
      "    Epsilon in the epsilon-insensitive loss functions; only if `loss` is\n",
      "    'huber', 'epsilon_insensitive', or 'squared_epsilon_insensitive'.\n",
      "    For 'huber', determines the threshold at which it becomes less\n",
      "    important to get the prediction exactly right.\n",
      "    For epsilon-insensitive, any differences between the current prediction\n",
      "    and the correct label are ignored if they are less than this threshold.\n",
      "\n",
      "random_state : int, RandomState instance, default=None\n",
      "    Used for shuffling the data, when ``shuffle`` is set to ``True``.\n",
      "    Pass an int for reproducible output across multiple function calls.\n",
      "    See :term:`Glossary <random_state>`.\n",
      "\n",
      "learning_rate : string, default='invscaling'\n",
      "    The learning rate schedule:\n",
      "\n",
      "    - 'constant': `eta = eta0`\n",
      "    - 'optimal': `eta = 1.0 / (alpha * (t + t0))`\n",
      "      where t0 is chosen by a heuristic proposed by Leon Bottou.\n",
      "    - 'invscaling': `eta = eta0 / pow(t, power_t)`\n",
      "    - 'adaptive': eta = eta0, as long as the training keeps decreasing.\n",
      "      Each time n_iter_no_change consecutive epochs fail to decrease the\n",
      "      training loss by tol or fail to increase validation score by tol if\n",
      "      early_stopping is True, the current learning rate is divided by 5.\n",
      "\n",
      "        .. versionadded:: 0.20\n",
      "            Added 'adaptive' option\n",
      "\n",
      "eta0 : double, default=0.01\n",
      "    The initial learning rate for the 'constant', 'invscaling' or\n",
      "    'adaptive' schedules. The default value is 0.01.\n",
      "\n",
      "power_t : double, default=0.25\n",
      "    The exponent for inverse scaling learning rate.\n",
      "\n",
      "early_stopping : bool, default=False\n",
      "    Whether to use early stopping to terminate training when validation\n",
      "    score is not improving. If set to True, it will automatically set aside\n",
      "    a fraction of training data as validation and terminate\n",
      "    training when validation score returned by the `score` method is not\n",
      "    improving by at least `tol` for `n_iter_no_change` consecutive\n",
      "    epochs.\n",
      "\n",
      "    .. versionadded:: 0.20\n",
      "        Added 'early_stopping' option\n",
      "\n",
      "validation_fraction : float, default=0.1\n",
      "    The proportion of training data to set aside as validation set for\n",
      "    early stopping. Must be between 0 and 1.\n",
      "    Only used if `early_stopping` is True.\n",
      "\n",
      "    .. versionadded:: 0.20\n",
      "        Added 'validation_fraction' option\n",
      "\n",
      "n_iter_no_change : int, default=5\n",
      "    Number of iterations with no improvement to wait before early stopping.\n",
      "\n",
      "    .. versionadded:: 0.20\n",
      "        Added 'n_iter_no_change' option\n",
      "\n",
      "warm_start : bool, default=False\n",
      "    When set to True, reuse the solution of the previous call to fit as\n",
      "    initialization, otherwise, just erase the previous solution.\n",
      "    See :term:`the Glossary <warm_start>`.\n",
      "\n",
      "    Repeatedly calling fit or partial_fit when warm_start is True can\n",
      "    result in a different solution than when calling fit a single time\n",
      "    because of the way the data is shuffled.\n",
      "    If a dynamic learning rate is used, the learning rate is adapted\n",
      "    depending on the number of samples already seen. Calling ``fit`` resets\n",
      "    this counter, while ``partial_fit``  will result in increasing the\n",
      "    existing counter.\n",
      "\n",
      "average : bool or int, default=False\n",
      "    When set to True, computes the averaged SGD weights accross all\n",
      "    updates and stores the result in the ``coef_`` attribute. If set to\n",
      "    an int greater than 1, averaging will begin once the total number of\n",
      "    samples seen reaches `average`. So ``average=10`` will begin\n",
      "    averaging after seeing 10 samples.\n",
      "\n",
      "Attributes\n",
      "----------\n",
      "coef_ : ndarray of shape (n_features,)\n",
      "    Weights assigned to the features.\n",
      "\n",
      "intercept_ : ndarray of shape (1,)\n",
      "    The intercept term.\n",
      "\n",
      "average_coef_ : ndarray of shape (n_features,)\n",
      "    Averaged weights assigned to the features. Only available\n",
      "    if ``average=True``.\n",
      "\n",
      "    .. deprecated:: 0.23\n",
      "        Attribute ``average_coef_`` was deprecated\n",
      "        in version 0.23 and will be removed in 0.25.\n",
      "\n",
      "average_intercept_ : ndarray of shape (1,)\n",
      "    The averaged intercept term. Only available if ``average=True``.\n",
      "\n",
      "    .. deprecated:: 0.23\n",
      "        Attribute ``average_intercept_`` was deprecated\n",
      "        in version 0.23 and will be removed in 0.25.\n",
      "\n",
      "n_iter_ : int\n",
      "    The actual number of iterations before reaching the stopping criterion.\n",
      "\n",
      "t_ : int\n",
      "    Number of weight updates performed during training.\n",
      "    Same as ``(n_iter_ * n_samples)``.\n",
      "\n",
      "Examples\n",
      "--------\n",
      ">>> import numpy as np\n",
      ">>> from sklearn.linear_model import SGDRegressor\n",
      ">>> from sklearn.pipeline import make_pipeline\n",
      ">>> from sklearn.preprocessing import StandardScaler\n",
      ">>> n_samples, n_features = 10, 5\n",
      ">>> rng = np.random.RandomState(0)\n",
      ">>> y = rng.randn(n_samples)\n",
      ">>> X = rng.randn(n_samples, n_features)\n",
      ">>> # Always scale the input. The most convenient way is to use a pipeline.\n",
      ">>> reg = make_pipeline(StandardScaler(),\n",
      "...                     SGDRegressor(max_iter=1000, tol=1e-3))\n",
      ">>> reg.fit(X, y)\n",
      "Pipeline(steps=[('standardscaler', StandardScaler()),\n",
      "                ('sgdregressor', SGDRegressor())])\n",
      "\n",
      "See also\n",
      "--------\n",
      "Ridge, ElasticNet, Lasso, sklearn.svm.SVR\n",
      "\u001b[1;31mFile:\u001b[0m           s:\\sem 5\\ml\\venv\\lib\\site-packages\\sklearn\\linear_model\\_stochastic_gradient.py\n",
      "\u001b[1;31mType:\u001b[0m           ABCMeta\n",
      "\u001b[1;31mSubclasses:\u001b[0m     \n"
     ],
     "name": "stdout"
    }
   ],
   "source": [
    "SGDRegressor?"
   ]
  },
  {
   "source": [
    "### Grid Search Dictionary and Object"
   ],
   "cell_type": "markdown",
   "metadata": {}
  },
  {
   "cell_type": "code",
   "execution_count": 15,
   "metadata": {},
   "outputs": [
    {
     "output_type": "execute_result",
     "data": {
      "text/plain": [
       "GridSearchCV(cv=5, estimator=SGDRegressor(),\n",
       "             param_grid={'early_stopping': [False, True],\n",
       "                         'eta0': [0.1, 0.05, 0.01, 0.005, 0.001],\n",
       "                         'learning_rate': ['constant', 'optimal', 'invscaling',\n",
       "                                           'adaptive'],\n",
       "                         'max_iter': [500, 1000, 1500, 2000],\n",
       "                         'penalty': ['l2', 'l1', 'elasticnet'],\n",
       "                         'power_t': [0.1, 0.5, 0.25]})"
      ]
     },
     "metadata": {},
     "execution_count": 15
    }
   ],
   "source": [
    "param_grid = {\n",
    "    'eta0' : [0.1, 0.05, 0.01, 0.0050, 0.001],\n",
    "    'power_t' : [0.1, 0.5, 0.25],\n",
    "    'penalty' : ['l2', 'l1', 'elasticnet'],\n",
    "    'early_stopping' : [False, True],\n",
    "    'max_iter' : [500, 1000, 1500, 2000],\n",
    "    'learning_rate' : ['constant', 'optimal', 'invscaling', 'adaptive']\n",
    "}\n",
    "\n",
    "clf_grid = GridSearchCV(sgd_clf, param_grid, cv = 5)\n",
    "clf_grid.fit(X_train, y_train)"
   ]
  },
  {
   "cell_type": "code",
   "execution_count": 16,
   "metadata": {},
   "outputs": [
    {
     "output_type": "stream",
     "name": "stdout",
     "text": [
      "Best Parameters: {'early_stopping': True, 'eta0': 0.05, 'learning_rate': 'adaptive', 'max_iter': 1000, 'penalty': 'elasticnet', 'power_t': 0.25}\n"
     ]
    }
   ],
   "source": [
    "print(f\"Best Parameters: {clf_grid.best_params_}\")"
   ]
  },
  {
   "cell_type": "code",
   "execution_count": 17,
   "metadata": {},
   "outputs": [],
   "source": [
    "prediction = clf_grid.predict(X_test)"
   ]
  },
  {
   "cell_type": "code",
   "execution_count": 18,
   "metadata": {},
   "outputs": [
    {
     "output_type": "stream",
     "name": "stdout",
     "text": [
      "Report: ____________________________\n\nAccuracy: MAE 3.8040372056478025\nAccuracy: MSE 27.873075672679253\n"
     ]
    }
   ],
   "source": [
    "print(\"Report: ____________________________\\n\")\n",
    "print(f\"Accuracy: MAE {mean_absolute_error (y_true= y_test, y_pred= prediction)}\")\n",
    "print(f\"Accuracy: MSE {mean_squared_error (y_true= y_test, y_pred= prediction)}\")"
   ]
  }
 ]
}