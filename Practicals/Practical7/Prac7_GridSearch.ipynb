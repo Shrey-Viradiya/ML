{
 "metadata": {
  "language_info": {
   "codemirror_mode": {
    "name": "ipython",
    "version": 3
   },
   "file_extension": ".py",
   "mimetype": "text/x-python",
   "name": "python",
   "nbconvert_exporter": "python",
   "pygments_lexer": "ipython3",
   "version": "3.7.3-final"
  },
  "orig_nbformat": 2,
  "kernelspec": {
   "name": "python3",
   "display_name": "Python 3.7.3 64-bit",
   "metadata": {
    "interpreter": {
     "hash": "358038529934925e79f1e557c7ee33ca0159149491f241f7e5eb1291ff1006b3"
    }
   }
  }
 },
 "nbformat": 4,
 "nbformat_minor": 2,
 "cells": [
  {
   "source": [
    "# Shrey Viradiya\n",
    "### 18BCE259"
   ],
   "cell_type": "markdown",
   "metadata": {}
  },
  {
   "source": [
    "# Grid Search"
   ],
   "cell_type": "markdown",
   "metadata": {}
  },
  {
   "cell_type": "code",
   "execution_count": 1,
   "metadata": {},
   "outputs": [],
   "source": [
    "import numpy as np\n",
    "import pandas as pd\n",
    "from sklearn.neighbors import KNeighborsClassifier\n",
    "from sklearn.datasets import load_iris, load_boston\n",
    "from sklearn.model_selection import GridSearchCV, train_test_split\n",
    "from sklearn.linear_model import SGDRegressor\n",
    "from sklearn.pipeline import Pipeline\n",
    "from sklearn.svm import LinearSVC, SVC\n",
    "from sklearn.metrics import *\n",
    "from sklearn.utils import shuffle\n",
    "from sklearn.preprocessing import StandardScaler\n",
    "\n",
    "np.random.seed(259)"
   ]
  },
  {
   "source": [
    "## Classifier"
   ],
   "cell_type": "markdown",
   "metadata": {}
  },
  {
   "cell_type": "code",
   "execution_count": 2,
   "metadata": {},
   "outputs": [],
   "source": [
    "iris = load_iris()"
   ]
  },
  {
   "cell_type": "code",
   "execution_count": 3,
   "metadata": {},
   "outputs": [
    {
     "output_type": "stream",
     "name": "stdout",
     "text": [
      "IRIS Dataset\nFeature names: ['sepal length (cm)', 'sepal width (cm)', 'petal length (cm)', 'petal width (cm)']\nTarget names: ['setosa' 'versicolor' 'virginica']\n"
     ]
    }
   ],
   "source": [
    "print(\"IRIS Dataset\")\n",
    "print(f\"Feature names: {iris['feature_names']}\")\n",
    "print(f\"Target names: {iris['target_names']}\")"
   ]
  },
  {
   "cell_type": "code",
   "execution_count": 4,
   "metadata": {},
   "outputs": [],
   "source": [
    "X = iris['data']\n",
    "y = iris['target']"
   ]
  },
  {
   "cell_type": "code",
   "execution_count": 5,
   "metadata": {},
   "outputs": [],
   "source": [
    "X_train, X_test, y_train, y_test = train_test_split(X, y, test_size=0.5, random_state=259)"
   ]
  },
  {
   "cell_type": "code",
   "execution_count": 6,
   "metadata": {},
   "outputs": [],
   "source": [
    "neigh = KNeighborsClassifier()"
   ]
  },
  {
   "cell_type": "code",
   "execution_count": 7,
   "metadata": {},
   "outputs": [
    {
     "output_type": "stream",
     "text": [
      "\u001b[1;31mInit signature:\u001b[0m \u001b[0mKNeighborsClassifier\u001b[0m\u001b[1;33m(\u001b[0m\u001b[0mn_neighbors\u001b[0m\u001b[1;33m=\u001b[0m\u001b[1;36m5\u001b[0m\u001b[1;33m,\u001b[0m \u001b[0mweights\u001b[0m\u001b[1;33m=\u001b[0m\u001b[1;34m'uniform'\u001b[0m\u001b[1;33m,\u001b[0m \u001b[0malgorithm\u001b[0m\u001b[1;33m=\u001b[0m\u001b[1;34m'auto'\u001b[0m\u001b[1;33m,\u001b[0m \u001b[0mleaf_size\u001b[0m\u001b[1;33m=\u001b[0m\u001b[1;36m30\u001b[0m\u001b[1;33m,\u001b[0m \u001b[0mp\u001b[0m\u001b[1;33m=\u001b[0m\u001b[1;36m2\u001b[0m\u001b[1;33m,\u001b[0m \u001b[0mmetric\u001b[0m\u001b[1;33m=\u001b[0m\u001b[1;34m'minkowski'\u001b[0m\u001b[1;33m,\u001b[0m \u001b[0mmetric_params\u001b[0m\u001b[1;33m=\u001b[0m\u001b[1;32mNone\u001b[0m\u001b[1;33m,\u001b[0m \u001b[0mn_jobs\u001b[0m\u001b[1;33m=\u001b[0m\u001b[1;32mNone\u001b[0m\u001b[1;33m,\u001b[0m \u001b[1;33m**\u001b[0m\u001b[0mkwargs\u001b[0m\u001b[1;33m)\u001b[0m\u001b[1;33m\u001b[0m\u001b[1;33m\u001b[0m\u001b[0m\n",
      "\u001b[1;31mDocstring:\u001b[0m     \n",
      "Classifier implementing the k-nearest neighbors vote.\n",
      "\n",
      "Read more in the :ref:`User Guide <classification>`.\n",
      "\n",
      "Parameters\n",
      "----------\n",
      "n_neighbors : int, optional (default = 5)\n",
      "    Number of neighbors to use by default for :meth:`kneighbors` queries.\n",
      "\n",
      "weights : str or callable, optional (default = 'uniform')\n",
      "    weight function used in prediction.  Possible values:\n",
      "\n",
      "    - 'uniform' : uniform weights.  All points in each neighborhood\n",
      "      are weighted equally.\n",
      "    - 'distance' : weight points by the inverse of their distance.\n",
      "      in this case, closer neighbors of a query point will have a\n",
      "      greater influence than neighbors which are further away.\n",
      "    - [callable] : a user-defined function which accepts an\n",
      "      array of distances, and returns an array of the same shape\n",
      "      containing the weights.\n",
      "\n",
      "algorithm : {'auto', 'ball_tree', 'kd_tree', 'brute'}, optional\n",
      "    Algorithm used to compute the nearest neighbors:\n",
      "\n",
      "    - 'ball_tree' will use :class:`BallTree`\n",
      "    - 'kd_tree' will use :class:`KDTree`\n",
      "    - 'brute' will use a brute-force search.\n",
      "    - 'auto' will attempt to decide the most appropriate algorithm\n",
      "      based on the values passed to :meth:`fit` method.\n",
      "\n",
      "    Note: fitting on sparse input will override the setting of\n",
      "    this parameter, using brute force.\n",
      "\n",
      "leaf_size : int, optional (default = 30)\n",
      "    Leaf size passed to BallTree or KDTree.  This can affect the\n",
      "    speed of the construction and query, as well as the memory\n",
      "    required to store the tree.  The optimal value depends on the\n",
      "    nature of the problem.\n",
      "\n",
      "p : integer, optional (default = 2)\n",
      "    Power parameter for the Minkowski metric. When p = 1, this is\n",
      "    equivalent to using manhattan_distance (l1), and euclidean_distance\n",
      "    (l2) for p = 2. For arbitrary p, minkowski_distance (l_p) is used.\n",
      "\n",
      "metric : string or callable, default 'minkowski'\n",
      "    the distance metric to use for the tree.  The default metric is\n",
      "    minkowski, and with p=2 is equivalent to the standard Euclidean\n",
      "    metric. See the documentation of the DistanceMetric class for a\n",
      "    list of available metrics.\n",
      "\n",
      "metric_params : dict, optional (default = None)\n",
      "    Additional keyword arguments for the metric function.\n",
      "\n",
      "n_jobs : int or None, optional (default=None)\n",
      "    The number of parallel jobs to run for neighbors search.\n",
      "    ``None`` means 1 unless in a :obj:`joblib.parallel_backend` context.\n",
      "    ``-1`` means using all processors. See :term:`Glossary <n_jobs>`\n",
      "    for more details.\n",
      "    Doesn't affect :meth:`fit` method.\n",
      "\n",
      "Examples\n",
      "--------\n",
      ">>> X = [[0], [1], [2], [3]]\n",
      ">>> y = [0, 0, 1, 1]\n",
      ">>> from sklearn.neighbors import KNeighborsClassifier\n",
      ">>> neigh = KNeighborsClassifier(n_neighbors=3)\n",
      ">>> neigh.fit(X, y) # doctest: +ELLIPSIS\n",
      "KNeighborsClassifier(...)\n",
      ">>> print(neigh.predict([[1.1]]))\n",
      "[0]\n",
      ">>> print(neigh.predict_proba([[0.9]]))\n",
      "[[0.66666667 0.33333333]]\n",
      "\n",
      "See also\n",
      "--------\n",
      "RadiusNeighborsClassifier\n",
      "KNeighborsRegressor\n",
      "RadiusNeighborsRegressor\n",
      "NearestNeighbors\n",
      "\n",
      "Notes\n",
      "-----\n",
      "See :ref:`Nearest Neighbors <neighbors>` in the online documentation\n",
      "for a discussion of the choice of ``algorithm`` and ``leaf_size``.\n",
      "\n",
      ".. warning::\n",
      "\n",
      "   Regarding the Nearest Neighbors algorithms, if it is found that two\n",
      "   neighbors, neighbor `k+1` and `k`, have identical distances\n",
      "   but different labels, the results will depend on the ordering of the\n",
      "   training data.\n",
      "\n",
      "https://en.wikipedia.org/wiki/K-nearest_neighbor_algorithm\n",
      "\u001b[1;31mFile:\u001b[0m           c:\\users\\shrey\\appdata\\local\\programs\\python\\python37\\lib\\site-packages\\sklearn\\neighbors\\classification.py\n",
      "\u001b[1;31mType:\u001b[0m           ABCMeta\n"
     ],
     "name": "stdout"
    }
   ],
   "source": [
    "KNeighborsClassifier?"
   ]
  },
  {
   "source": [
    "### Grid Search Dictionary and Object"
   ],
   "cell_type": "markdown",
   "metadata": {}
  },
  {
   "cell_type": "code",
   "execution_count": 8,
   "metadata": {},
   "outputs": [
    {
     "output_type": "stream",
     "name": "stderr",
     "text": [
      "C:\\Users\\shrey\\AppData\\Local\\Programs\\Python\\Python37\\lib\\site-packages\\sklearn\\model_selection\\_search.py:841: DeprecationWarning: The default of the `iid` parameter will change from True to False in version 0.22 and will be removed in 0.24. This will change numeric results when test-set sizes are unequal.\n  DeprecationWarning)\n"
     ]
    },
    {
     "output_type": "execute_result",
     "data": {
      "text/plain": [
       "GridSearchCV(cv=5, error_score='raise-deprecating',\n",
       "       estimator=KNeighborsClassifier(algorithm='auto', leaf_size=30, metric='minkowski',\n",
       "           metric_params=None, n_jobs=None, n_neighbors=5, p=2,\n",
       "           weights='uniform'),\n",
       "       fit_params=None, iid='warn', n_jobs=None,\n",
       "       param_grid={'n_neighbors': [1, 5, 10, 20], 'weights': ['uniform', 'distance']},\n",
       "       pre_dispatch='2*n_jobs', refit=True, return_train_score='warn',\n",
       "       scoring=None, verbose=0)"
      ]
     },
     "metadata": {},
     "execution_count": 8
    }
   ],
   "source": [
    "param_grid = {\n",
    "    'n_neighbors' : [1,5,10,20],\n",
    "    'weights' : ['uniform', 'distance']\n",
    "}\n",
    "\n",
    "clf_grid = GridSearchCV(neigh, param_grid, cv = 5)\n",
    "clf_grid.fit(X_train, y_train)"
   ]
  },
  {
   "cell_type": "code",
   "execution_count": 9,
   "metadata": {},
   "outputs": [
    {
     "output_type": "stream",
     "name": "stdout",
     "text": [
      "Best Parameters: {'n_neighbors': 10, 'weights': 'distance'}\n"
     ]
    }
   ],
   "source": [
    "print(f\"Best Parameters: {clf_grid.best_params_}\")"
   ]
  },
  {
   "cell_type": "code",
   "execution_count": 10,
   "metadata": {},
   "outputs": [],
   "source": [
    "prediction = clf_grid.predict(X_test)"
   ]
  },
  {
   "cell_type": "code",
   "execution_count": 11,
   "metadata": {},
   "outputs": [
    {
     "output_type": "stream",
     "name": "stdout",
     "text": [
      "Report: ____________________________\n\nAccuracy: 0.96\nConfisuion metrix:\n[[28  0  0]\n [ 0 19  2]\n [ 0  1 25]]\nClassification Report:\n              precision    recall  f1-score   support\n\n           0       1.00      1.00      1.00        28\n           1       0.95      0.90      0.93        21\n           2       0.93      0.96      0.94        26\n\n   micro avg       0.96      0.96      0.96        75\n   macro avg       0.96      0.96      0.96        75\nweighted avg       0.96      0.96      0.96        75\n\n"
     ]
    }
   ],
   "source": [
    "print(\"Report: ____________________________\\n\")\n",
    "print(f\"Accuracy: {accuracy_score(y_test, prediction)}\")\n",
    "print(\"Confisuion metrix:\")\n",
    "print(confusion_matrix(y_test, prediction))\n",
    "print(\"Classification Report:\")\n",
    "print(classification_report(y_test, prediction))"
   ]
  },
  {
   "source": [
    "## Support Vector Machine"
   ],
   "cell_type": "markdown",
   "metadata": {}
  },
  {
   "cell_type": "code",
   "execution_count": 12,
   "metadata": {},
   "outputs": [],
   "source": [
    "poly_kernel_svm_clf = Pipeline([\n",
    "                                 ('scaler', StandardScaler()),\n",
    "                                 ('svm_clf', GridSearchCV(SVC(), param_grid={'kernel' : ['poly', 'linear', 'rbf'],\n",
    "                                                                            'degree' : [1,2,3]\n",
    "                                                                             }, cv = 4))\n",
    "])\n",
    "poly_kernel_svm_clf.__name__ = \"SVC_poly\""
   ]
  },
  {
   "cell_type": "code",
   "execution_count": 13,
   "metadata": {},
   "outputs": [
    {
     "output_type": "stream",
     "name": "stderr",
     "text": [
      "C:\\Users\\shrey\\AppData\\Local\\Programs\\Python\\Python37\\lib\\site-packages\\sklearn\\model_selection\\_search.py:841: DeprecationWarning: The default of the `iid` parameter will change from True to False in version 0.22 and will be removed in 0.24. This will change numeric results when test-set sizes are unequal.\n  DeprecationWarning)\n"
     ]
    },
    {
     "output_type": "execute_result",
     "data": {
      "text/plain": [
       "Pipeline(memory=None,\n",
       "     steps=[('scaler', StandardScaler(copy=True, with_mean=True, with_std=True)), ('svm_clf', GridSearchCV(cv=4, error_score='raise-deprecating',\n",
       "       estimator=SVC(C=1.0, cache_size=200, class_weight=None, coef0=0.0,\n",
       "  decision_function_shape='ovr', degree=3, gamma='auto_deprecated',\n",
       "  kernel='rbf', m...   pre_dispatch='2*n_jobs', refit=True, return_train_score='warn',\n",
       "       scoring=None, verbose=0))])"
      ]
     },
     "metadata": {},
     "execution_count": 13
    }
   ],
   "source": [
    "poly_kernel_svm_clf.fit(X_train, y_train)"
   ]
  },
  {
   "cell_type": "code",
   "execution_count": 14,
   "metadata": {},
   "outputs": [
    {
     "output_type": "stream",
     "name": "stdout",
     "text": [
      "Best Parameters: {'degree': 1, 'kernel': 'linear'}\n"
     ]
    }
   ],
   "source": [
    "print(f\"Best Parameters: {poly_kernel_svm_clf.steps[1][1].best_params_}\")"
   ]
  },
  {
   "cell_type": "code",
   "execution_count": 15,
   "metadata": {},
   "outputs": [],
   "source": [
    "prediction = poly_kernel_svm_clf.predict(X_test)"
   ]
  },
  {
   "cell_type": "code",
   "execution_count": 16,
   "metadata": {},
   "outputs": [
    {
     "output_type": "stream",
     "name": "stdout",
     "text": [
      "Report: ____________________________\n\nAccuracy: 0.96\nConfisuion metrix:\n[[28  0  0]\n [ 0 20  1]\n [ 0  2 24]]\nClassification Report:\n              precision    recall  f1-score   support\n\n           0       1.00      1.00      1.00        28\n           1       0.91      0.95      0.93        21\n           2       0.96      0.92      0.94        26\n\n   micro avg       0.96      0.96      0.96        75\n   macro avg       0.96      0.96      0.96        75\nweighted avg       0.96      0.96      0.96        75\n\n"
     ]
    }
   ],
   "source": [
    "print(\"Report: ____________________________\\n\")\n",
    "print(f\"Accuracy: {accuracy_score(y_test, prediction)}\")\n",
    "print(\"Confisuion metrix:\")\n",
    "print(confusion_matrix(y_test, prediction))\n",
    "print(\"Classification Report:\")\n",
    "print(classification_report(y_test, prediction))"
   ]
  },
  {
   "source": [
    "## Regressor"
   ],
   "cell_type": "markdown",
   "metadata": {}
  },
  {
   "cell_type": "code",
   "execution_count": 17,
   "metadata": {},
   "outputs": [],
   "source": [
    "X, y = load_boston(return_X_y=True)\n",
    "X, y = shuffle(X, y, random_state = 259)\n",
    "X = StandardScaler().fit_transform(X)\n",
    "X_train, X_test, y_train, y_test = train_test_split(X, y, test_size=0.20, random_state=259)"
   ]
  },
  {
   "cell_type": "code",
   "execution_count": 18,
   "metadata": {},
   "outputs": [],
   "source": [
    "sgd_clf = SGDRegressor()"
   ]
  },
  {
   "cell_type": "code",
   "execution_count": 19,
   "metadata": {},
   "outputs": [
    {
     "output_type": "stream",
     "text": [
      "\u001b[1;31mInit signature:\u001b[0m \u001b[0mSGDRegressor\u001b[0m\u001b[1;33m(\u001b[0m\u001b[0mloss\u001b[0m\u001b[1;33m=\u001b[0m\u001b[1;34m'squared_loss'\u001b[0m\u001b[1;33m,\u001b[0m \u001b[0mpenalty\u001b[0m\u001b[1;33m=\u001b[0m\u001b[1;34m'l2'\u001b[0m\u001b[1;33m,\u001b[0m \u001b[0malpha\u001b[0m\u001b[1;33m=\u001b[0m\u001b[1;36m0.0001\u001b[0m\u001b[1;33m,\u001b[0m \u001b[0ml1_ratio\u001b[0m\u001b[1;33m=\u001b[0m\u001b[1;36m0.15\u001b[0m\u001b[1;33m,\u001b[0m \u001b[0mfit_intercept\u001b[0m\u001b[1;33m=\u001b[0m\u001b[1;32mTrue\u001b[0m\u001b[1;33m,\u001b[0m \u001b[0mmax_iter\u001b[0m\u001b[1;33m=\u001b[0m\u001b[1;32mNone\u001b[0m\u001b[1;33m,\u001b[0m \u001b[0mtol\u001b[0m\u001b[1;33m=\u001b[0m\u001b[1;32mNone\u001b[0m\u001b[1;33m,\u001b[0m \u001b[0mshuffle\u001b[0m\u001b[1;33m=\u001b[0m\u001b[1;32mTrue\u001b[0m\u001b[1;33m,\u001b[0m \u001b[0mverbose\u001b[0m\u001b[1;33m=\u001b[0m\u001b[1;36m0\u001b[0m\u001b[1;33m,\u001b[0m \u001b[0mepsilon\u001b[0m\u001b[1;33m=\u001b[0m\u001b[1;36m0.1\u001b[0m\u001b[1;33m,\u001b[0m \u001b[0mrandom_state\u001b[0m\u001b[1;33m=\u001b[0m\u001b[1;32mNone\u001b[0m\u001b[1;33m,\u001b[0m \u001b[0mlearning_rate\u001b[0m\u001b[1;33m=\u001b[0m\u001b[1;34m'invscaling'\u001b[0m\u001b[1;33m,\u001b[0m \u001b[0meta0\u001b[0m\u001b[1;33m=\u001b[0m\u001b[1;36m0.01\u001b[0m\u001b[1;33m,\u001b[0m \u001b[0mpower_t\u001b[0m\u001b[1;33m=\u001b[0m\u001b[1;36m0.25\u001b[0m\u001b[1;33m,\u001b[0m \u001b[0mearly_stopping\u001b[0m\u001b[1;33m=\u001b[0m\u001b[1;32mFalse\u001b[0m\u001b[1;33m,\u001b[0m \u001b[0mvalidation_fraction\u001b[0m\u001b[1;33m=\u001b[0m\u001b[1;36m0.1\u001b[0m\u001b[1;33m,\u001b[0m \u001b[0mn_iter_no_change\u001b[0m\u001b[1;33m=\u001b[0m\u001b[1;36m5\u001b[0m\u001b[1;33m,\u001b[0m \u001b[0mwarm_start\u001b[0m\u001b[1;33m=\u001b[0m\u001b[1;32mFalse\u001b[0m\u001b[1;33m,\u001b[0m \u001b[0maverage\u001b[0m\u001b[1;33m=\u001b[0m\u001b[1;32mFalse\u001b[0m\u001b[1;33m,\u001b[0m \u001b[0mn_iter\u001b[0m\u001b[1;33m=\u001b[0m\u001b[1;32mNone\u001b[0m\u001b[1;33m)\u001b[0m\u001b[1;33m\u001b[0m\u001b[1;33m\u001b[0m\u001b[0m\n",
      "\u001b[1;31mDocstring:\u001b[0m     \n",
      "Linear model fitted by minimizing a regularized empirical loss with SGD\n",
      "\n",
      "SGD stands for Stochastic Gradient Descent: the gradient of the loss is\n",
      "estimated each sample at a time and the model is updated along the way with\n",
      "a decreasing strength schedule (aka learning rate).\n",
      "\n",
      "The regularizer is a penalty added to the loss function that shrinks model\n",
      "parameters towards the zero vector using either the squared euclidean norm\n",
      "L2 or the absolute norm L1 or a combination of both (Elastic Net). If the\n",
      "parameter update crosses the 0.0 value because of the regularizer, the\n",
      "update is truncated to 0.0 to allow for learning sparse models and achieve\n",
      "online feature selection.\n",
      "\n",
      "This implementation works with data represented as dense numpy arrays of\n",
      "floating point values for the features.\n",
      "\n",
      "Read more in the :ref:`User Guide <sgd>`.\n",
      "\n",
      "Parameters\n",
      "----------\n",
      "loss : str, default: 'squared_loss'\n",
      "    The loss function to be used. The possible values are 'squared_loss',\n",
      "    'huber', 'epsilon_insensitive', or 'squared_epsilon_insensitive'\n",
      "\n",
      "    The 'squared_loss' refers to the ordinary least squares fit.\n",
      "    'huber' modifies 'squared_loss' to focus less on getting outliers\n",
      "    correct by switching from squared to linear loss past a distance of\n",
      "    epsilon. 'epsilon_insensitive' ignores errors less than epsilon and is\n",
      "    linear past that; this is the loss function used in SVR.\n",
      "    'squared_epsilon_insensitive' is the same but becomes squared loss past\n",
      "    a tolerance of epsilon.\n",
      "\n",
      "penalty : str, 'none', 'l2', 'l1', or 'elasticnet'\n",
      "    The penalty (aka regularization term) to be used. Defaults to 'l2'\n",
      "    which is the standard regularizer for linear SVM models. 'l1' and\n",
      "    'elasticnet' might bring sparsity to the model (feature selection)\n",
      "    not achievable with 'l2'.\n",
      "\n",
      "alpha : float\n",
      "    Constant that multiplies the regularization term. Defaults to 0.0001\n",
      "    Also used to compute learning_rate when set to 'optimal'.\n",
      "\n",
      "l1_ratio : float\n",
      "    The Elastic Net mixing parameter, with 0 <= l1_ratio <= 1.\n",
      "    l1_ratio=0 corresponds to L2 penalty, l1_ratio=1 to L1.\n",
      "    Defaults to 0.15.\n",
      "\n",
      "fit_intercept : bool\n",
      "    Whether the intercept should be estimated or not. If False, the\n",
      "    data is assumed to be already centered. Defaults to True.\n",
      "\n",
      "max_iter : int, optional\n",
      "    The maximum number of passes over the training data (aka epochs).\n",
      "    It only impacts the behavior in the ``fit`` method, and not the\n",
      "    `partial_fit`.\n",
      "    Defaults to 5. Defaults to 1000 from 0.21, or if tol is not None.\n",
      "\n",
      "    .. versionadded:: 0.19\n",
      "\n",
      "tol : float or None, optional\n",
      "    The stopping criterion. If it is not None, the iterations will stop\n",
      "    when (loss > previous_loss - tol). Defaults to None.\n",
      "    Defaults to 1e-3 from 0.21.\n",
      "\n",
      "    .. versionadded:: 0.19\n",
      "\n",
      "shuffle : bool, optional\n",
      "    Whether or not the training data should be shuffled after each epoch.\n",
      "    Defaults to True.\n",
      "\n",
      "verbose : integer, optional\n",
      "    The verbosity level.\n",
      "\n",
      "epsilon : float\n",
      "    Epsilon in the epsilon-insensitive loss functions; only if `loss` is\n",
      "    'huber', 'epsilon_insensitive', or 'squared_epsilon_insensitive'.\n",
      "    For 'huber', determines the threshold at which it becomes less\n",
      "    important to get the prediction exactly right.\n",
      "    For epsilon-insensitive, any differences between the current prediction\n",
      "    and the correct label are ignored if they are less than this threshold.\n",
      "\n",
      "random_state : int, RandomState instance or None, optional (default=None)\n",
      "    The seed of the pseudo random number generator to use when shuffling\n",
      "    the data.  If int, random_state is the seed used by the random number\n",
      "    generator; If RandomState instance, random_state is the random number\n",
      "    generator; If None, the random number generator is the RandomState\n",
      "    instance used by `np.random`.\n",
      "\n",
      "learning_rate : string, optional\n",
      "    The learning rate schedule:\n",
      "\n",
      "    'constant':\n",
      "        eta = eta0\n",
      "    'optimal':\n",
      "        eta = 1.0 / (alpha * (t + t0))\n",
      "        where t0 is chosen by a heuristic proposed by Leon Bottou.\n",
      "    'invscaling': [default]\n",
      "        eta = eta0 / pow(t, power_t)\n",
      "    'adaptive':\n",
      "        eta = eta0, as long as the training keeps decreasing.\n",
      "        Each time n_iter_no_change consecutive epochs fail to decrease the\n",
      "        training loss by tol or fail to increase validation score by tol if\n",
      "        early_stopping is True, the current learning rate is divided by 5.\n",
      "\n",
      "eta0 : double\n",
      "    The initial learning rate for the 'constant', 'invscaling' or\n",
      "    'adaptive' schedules. The default value is 0.0 as eta0 is not used by\n",
      "    the default schedule 'optimal'.\n",
      "\n",
      "power_t : double\n",
      "    The exponent for inverse scaling learning rate [default 0.5].\n",
      "\n",
      "early_stopping : bool, default=False\n",
      "    Whether to use early stopping to terminate training when validation\n",
      "    score is not improving. If set to True, it will automatically set aside\n",
      "    a fraction of training data as validation and terminate training when\n",
      "    validation score is not improving by at least tol for\n",
      "    n_iter_no_change consecutive epochs.\n",
      "\n",
      "    .. versionadded:: 0.20\n",
      "\n",
      "validation_fraction : float, default=0.1\n",
      "    The proportion of training data to set aside as validation set for\n",
      "    early stopping. Must be between 0 and 1.\n",
      "    Only used if early_stopping is True.\n",
      "\n",
      "    .. versionadded:: 0.20\n",
      "\n",
      "n_iter_no_change : int, default=5\n",
      "    Number of iterations with no improvement to wait before early stopping.\n",
      "\n",
      "    .. versionadded:: 0.20\n",
      "\n",
      "warm_start : bool, optional\n",
      "    When set to True, reuse the solution of the previous call to fit as\n",
      "    initialization, otherwise, just erase the previous solution.\n",
      "    See :term:`the Glossary <warm_start>`.\n",
      "\n",
      "    Repeatedly calling fit or partial_fit when warm_start is True can\n",
      "    result in a different solution than when calling fit a single time\n",
      "    because of the way the data is shuffled.\n",
      "    If a dynamic learning rate is used, the learning rate is adapted\n",
      "    depending on the number of samples already seen. Calling ``fit`` resets\n",
      "    this counter, while ``partial_fit``  will result in increasing the\n",
      "    existing counter.\n",
      "\n",
      "average : bool or int, optional\n",
      "    When set to True, computes the averaged SGD weights and stores the\n",
      "    result in the ``coef_`` attribute. If set to an int greater than 1,\n",
      "    averaging will begin once the total number of samples seen reaches\n",
      "    average. So ``average=10`` will begin averaging after seeing 10\n",
      "    samples.\n",
      "\n",
      "n_iter : int, optional\n",
      "    The number of passes over the training data (aka epochs).\n",
      "    Defaults to None. Deprecated, will be removed in 0.21.\n",
      "\n",
      "    .. versionchanged:: 0.19\n",
      "        Deprecated\n",
      "\n",
      "Attributes\n",
      "----------\n",
      "coef_ : array, shape (n_features,)\n",
      "    Weights assigned to the features.\n",
      "\n",
      "intercept_ : array, shape (1,)\n",
      "    The intercept term.\n",
      "\n",
      "average_coef_ : array, shape (n_features,)\n",
      "    Averaged weights assigned to the features.\n",
      "\n",
      "average_intercept_ : array, shape (1,)\n",
      "    The averaged intercept term.\n",
      "\n",
      "n_iter_ : int\n",
      "    The actual number of iterations to reach the stopping criterion.\n",
      "\n",
      "Examples\n",
      "--------\n",
      ">>> import numpy as np\n",
      ">>> from sklearn import linear_model\n",
      ">>> n_samples, n_features = 10, 5\n",
      ">>> np.random.seed(0)\n",
      ">>> y = np.random.randn(n_samples)\n",
      ">>> X = np.random.randn(n_samples, n_features)\n",
      ">>> clf = linear_model.SGDRegressor(max_iter=1000)\n",
      ">>> clf.fit(X, y)\n",
      "... #doctest: +NORMALIZE_WHITESPACE\n",
      "SGDRegressor(alpha=0.0001, average=False, early_stopping=False,\n",
      "       epsilon=0.1, eta0=0.01, fit_intercept=True, l1_ratio=0.15,\n",
      "       learning_rate='invscaling', loss='squared_loss', max_iter=1000,\n",
      "       n_iter=None, n_iter_no_change=5, penalty='l2', power_t=0.25,\n",
      "       random_state=None, shuffle=True, tol=None, validation_fraction=0.1,\n",
      "       verbose=0, warm_start=False)\n",
      "\n",
      "See also\n",
      "--------\n",
      "Ridge, ElasticNet, Lasso, sklearn.svm.SVR\n",
      "\u001b[1;31mFile:\u001b[0m           c:\\users\\shrey\\appdata\\local\\programs\\python\\python37\\lib\\site-packages\\sklearn\\linear_model\\stochastic_gradient.py\n",
      "\u001b[1;31mType:\u001b[0m           ABCMeta\n"
     ],
     "name": "stdout"
    }
   ],
   "source": [
    "SGDRegressor?"
   ]
  },
  {
   "source": [
    "### Grid Search Dictionary and Object"
   ],
   "cell_type": "markdown",
   "metadata": {}
  },
  {
   "cell_type": "code",
   "execution_count": 37,
   "metadata": {},
   "outputs": [],
   "source": [
    "param_grid = {\n",
    "    'eta0' : [0.1, 0.05, 0.01, 0.0050, 0.001],\n",
    "    'power_t' : [0.1, 0.5, 0.25],\n",
    "    'penalty' : ['l2', 'l1', 'elasticnet'],\n",
    "    'early_stopping' : [False, True],\n",
    "    'max_iter' : [500, 1000, 1500, 2000],\n",
    "    'learning_rate' : ['constant', 'optimal', 'invscaling', 'adaptive']\n",
    "}\n",
    "\n",
    "clf_grid = GridSearchCV(sgd_clf, param_grid, cv = 5)\n",
    "clf_grid.fit(X_train, y_train)"
   ]
  },
  {
   "cell_type": "code",
   "execution_count": 16,
   "metadata": {},
   "outputs": [
    {
     "output_type": "stream",
     "name": "stdout",
     "text": [
      "Best Parameters: {'early_stopping': True, 'eta0': 0.05, 'learning_rate': 'adaptive', 'max_iter': 1000, 'penalty': 'elasticnet', 'power_t': 0.25}\n"
     ]
    }
   ],
   "source": [
    "print(f\"Best Parameters: {clf_grid.best_params_}\")"
   ]
  },
  {
   "cell_type": "code",
   "execution_count": 17,
   "metadata": {},
   "outputs": [],
   "source": [
    "prediction = clf_grid.predict(X_test)"
   ]
  },
  {
   "cell_type": "code",
   "execution_count": 18,
   "metadata": {},
   "outputs": [
    {
     "output_type": "stream",
     "name": "stdout",
     "text": [
      "Report: ____________________________\n\nAccuracy: MAE 3.8040372056478025\nAccuracy: MSE 27.873075672679253\n"
     ]
    }
   ],
   "source": [
    "print(\"Report: ____________________________\\n\")\n",
    "print(f\"Accuracy: MAE {mean_absolute_error (y_true= y_test, y_pred= prediction)}\")\n",
    "print(f\"Accuracy: MSE {mean_squared_error (y_true= y_test, y_pred= prediction)}\")"
   ]
  }
 ]
}