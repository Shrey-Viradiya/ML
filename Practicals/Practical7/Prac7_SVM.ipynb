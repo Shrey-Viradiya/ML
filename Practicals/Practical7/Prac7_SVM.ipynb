{
 "metadata": {
  "language_info": {
   "codemirror_mode": {
    "name": "ipython",
    "version": 3
   },
   "file_extension": ".py",
   "mimetype": "text/x-python",
   "name": "python",
   "nbconvert_exporter": "python",
   "pygments_lexer": "ipython3",
   "version": "3.7.3-final"
  },
  "orig_nbformat": 2,
  "kernelspec": {
   "name": "Python 3.7.3 64-bit ('venv')",
   "display_name": "Python 3.7.3 64-bit ('venv')",
   "metadata": {
    "interpreter": {
     "hash": "575faca95a7e3f9681938892a1b782ba577a350496457eb87f0846b6b1b2dc0c"
    }
   }
  }
 },
 "nbformat": 4,
 "nbformat_minor": 2,
 "cells": [
  {
   "source": [
    "# Shrey Viradiya\n",
    "### 18BCE259"
   ],
   "cell_type": "markdown",
   "metadata": {}
  },
  {
   "source": [
    "## Support Vector Machines"
   ],
   "cell_type": "markdown",
   "metadata": {}
  },
  {
   "cell_type": "code",
   "execution_count": 17,
   "metadata": {},
   "outputs": [],
   "source": [
    "import numpy as np\n",
    "from sklearn import datasets\n",
    "from sklearn.pipeline import Pipeline\n",
    "from sklearn.preprocessing import StandardScaler\n",
    "from sklearn.svm import LinearSVC, SVC\n",
    "from sklearn import metrics\n",
    "from sklearn.model_selection import train_test_split\n",
    "\n",
    "np.random.seed(259)"
   ]
  },
  {
   "cell_type": "code",
   "execution_count": 18,
   "metadata": {},
   "outputs": [],
   "source": [
    "def Report(clf, prediction, y_true, class_names):\n",
    "    print(\"Prediction Report: \", clf.__name__)\n",
    "    print(\"===================\")\n",
    "\n",
    "    print(\"Accuracy: \", metrics.accuracy_score(y_true, prediction))\n",
    "    print(metrics.classification_report(y_true, prediction, target_names = class_names))\n",
    "    print(metrics.confusion_matrix(y_true, prediction))"
   ]
  },
  {
   "source": [
    "## Linear Support Vector Classifier"
   ],
   "cell_type": "markdown",
   "metadata": {}
  },
  {
   "source": [
    "### Data"
   ],
   "cell_type": "markdown",
   "metadata": {}
  },
  {
   "cell_type": "code",
   "execution_count": 19,
   "metadata": {},
   "outputs": [],
   "source": [
    "iris = datasets.load_iris()\n",
    "class_names, feature_names = iris['target_names'], iris['feature_names']\n",
    "X = iris['data']\n",
    "y = iris['target']\n",
    "X_train, X_test, y_train, y_test = train_test_split(X, y, test_size=0.5, random_state=259)"
   ]
  },
  {
   "source": [
    "### Classifier"
   ],
   "cell_type": "markdown",
   "metadata": {}
  },
  {
   "cell_type": "code",
   "execution_count": 20,
   "metadata": {},
   "outputs": [],
   "source": [
    "svm_clf = Pipeline([\n",
    "                    ('scaler', StandardScaler()),\n",
    "                    ('linear_svc', LinearSVC(C = 1, loss='hinge'))\n",
    "])\n",
    "svm_clf.__name__ = \"LinearSVC\""
   ]
  },
  {
   "cell_type": "code",
   "execution_count": 21,
   "metadata": {},
   "outputs": [
    {
     "output_type": "execute_result",
     "data": {
      "text/plain": [
       "Pipeline(steps=[('scaler', StandardScaler()),\n",
       "                ('linear_svc', LinearSVC(C=1, loss='hinge'))])"
      ]
     },
     "metadata": {},
     "execution_count": 21
    }
   ],
   "source": [
    "svm_clf.fit(X_train,y_train)"
   ]
  },
  {
   "cell_type": "code",
   "execution_count": 22,
   "metadata": {},
   "outputs": [],
   "source": [
    "prediction_svm_clf = svm_clf.predict(X_test)"
   ]
  },
  {
   "cell_type": "code",
   "execution_count": 23,
   "metadata": {},
   "outputs": [
    {
     "output_type": "stream",
     "name": "stdout",
     "text": [
      "Prediction Report:  LinearSVC\n",
      "===================\n",
      "Accuracy:  0.92\n",
      "              precision    recall  f1-score   support\n",
      "\n",
      "      setosa       1.00      1.00      1.00        28\n",
      "  versicolor       0.86      0.86      0.86        21\n",
      "   virginica       0.88      0.88      0.88        26\n",
      "\n",
      "    accuracy                           0.92        75\n",
      "   macro avg       0.91      0.91      0.91        75\n",
      "weighted avg       0.92      0.92      0.92        75\n",
      "\n",
      "[[28  0  0]\n",
      " [ 0 18  3]\n",
      " [ 0  3 23]]\n"
     ]
    }
   ],
   "source": [
    "Report(svm_clf, prediction_svm_clf, y_test, class_names)"
   ]
  },
  {
   "source": [
    "## Nonlinear SVM Classification"
   ],
   "cell_type": "markdown",
   "metadata": {}
  },
  {
   "source": [
    "### Data"
   ],
   "cell_type": "markdown",
   "metadata": {}
  },
  {
   "cell_type": "code",
   "execution_count": 24,
   "metadata": {},
   "outputs": [],
   "source": [
    "X,y = datasets.make_moons(n_samples = 100, noise = 0.15)\n",
    "X_train, X_test, y_train, y_test = train_test_split(X, y, test_size=0.25, random_state=259)"
   ]
  },
  {
   "source": [
    "### Classifier"
   ],
   "cell_type": "markdown",
   "metadata": {}
  },
  {
   "cell_type": "code",
   "execution_count": 25,
   "metadata": {},
   "outputs": [],
   "source": [
    "poly_kernel_svm_clf = Pipeline([\n",
    "                                 ('scaler', StandardScaler()),\n",
    "                                 ('svm_clf', SVC(kernel='poly', degree = 3, coef0=1, C =5))\n",
    "])\n",
    "poly_kernel_svm_clf.__name__ = \"SVC_poly\""
   ]
  },
  {
   "cell_type": "code",
   "execution_count": 26,
   "metadata": {},
   "outputs": [
    {
     "output_type": "execute_result",
     "data": {
      "text/plain": [
       "Pipeline(steps=[('scaler', StandardScaler()),\n",
       "                ('svm_clf', SVC(C=5, coef0=1, kernel='poly'))])"
      ]
     },
     "metadata": {},
     "execution_count": 26
    }
   ],
   "source": [
    "poly_kernel_svm_clf.fit(X_train,y_train)"
   ]
  },
  {
   "cell_type": "code",
   "execution_count": 27,
   "metadata": {},
   "outputs": [
    {
     "output_type": "execute_result",
     "data": {
      "text/plain": [
       "array([[ 0.56581843, -0.50847242],\n",
       "       [ 0.74038402, -0.09894342],\n",
       "       [-0.87444804,  0.89676723],\n",
       "       [-1.57855631, -0.24214369],\n",
       "       [-1.47874377,  0.10316427],\n",
       "       [ 0.31867884, -0.41224433],\n",
       "       [-0.14457892,  0.87655283],\n",
       "       [-0.73141735,  0.50852681],\n",
       "       [-0.19064317, -0.60760515],\n",
       "       [-0.57091745,  0.31955259],\n",
       "       [ 0.87528328, -1.0884283 ],\n",
       "       [ 1.61229047,  0.65004112],\n",
       "       [-0.79325723,  0.29684522],\n",
       "       [ 1.02012726, -0.56389164]])"
      ]
     },
     "metadata": {},
     "execution_count": 27
    }
   ],
   "source": [
    "poly_kernel_svm_clf['svm_clf'].support_vectors_"
   ]
  },
  {
   "cell_type": "code",
   "execution_count": 28,
   "metadata": {},
   "outputs": [],
   "source": [
    "prediction_poly_svm_clf = poly_kernel_svm_clf.predict(X_test)"
   ]
  },
  {
   "cell_type": "code",
   "execution_count": 29,
   "metadata": {},
   "outputs": [
    {
     "output_type": "stream",
     "name": "stdout",
     "text": [
      "Prediction Report:  SVC_poly\n===================\nAccuracy:  0.96\n              precision    recall  f1-score   support\n\n           0       0.92      1.00      0.96        12\n           1       1.00      0.92      0.96        13\n\n    accuracy                           0.96        25\n   macro avg       0.96      0.96      0.96        25\nweighted avg       0.96      0.96      0.96        25\n\n[[12  0]\n [ 1 12]]\n"
     ]
    }
   ],
   "source": [
    "Report(poly_kernel_svm_clf, prediction_poly_svm_clf, y_test, None)"
   ]
  }
 ]
}