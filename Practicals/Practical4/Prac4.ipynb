{
  "nbformat": 4,
  "nbformat_minor": 0,
  "metadata": {
    "colab": {
      "name": "Prac4.ipynb",
      "provenance": [],
      "collapsed_sections": [],
      "authorship_tag": "ABX9TyOt6XdhRvdR7Cmx78ZtziR+",
      "include_colab_link": true
    },
    "kernelspec": {
      "name": "python3",
      "display_name": "Python 3"
    }
  },
  "cells": [
    {
      "cell_type": "markdown",
      "metadata": {
        "id": "view-in-github",
        "colab_type": "text"
      },
      "source": [
        "<a href=\"https://colab.research.google.com/github/Shrey-Viradiya/ML/blob/master/Practicals/Practical4/Prac4.ipynb\" target=\"_parent\"><img src=\"https://colab.research.google.com/assets/colab-badge.svg\" alt=\"Open In Colab\"/></a>"
      ]
    },
    {
      "cell_type": "markdown",
      "metadata": {
        "id": "xTJ935J77c4x",
        "colab_type": "text"
      },
      "source": [
        "# Shrey Viradiya\n",
        "# 18BCE259"
      ]
    },
    {
      "cell_type": "code",
      "metadata": {
        "id": "B21zEMqr7AAD",
        "colab_type": "code",
        "colab": {}
      },
      "source": [
        "import numpy as np\n",
        "import sklearn.datasets as skd\n",
        "from sklearn.preprocessing import scale, PolynomialFeatures\n",
        "from sklearn.metrics import mean_absolute_error, mean_squared_error\n",
        "from sklearn.linear_model import LinearRegression\n",
        "from sklearn.utils import shuffle\n",
        "from sklearn.model_selection import train_test_split\n",
        "import matplotlib.pyplot as plt"
      ],
      "execution_count": 1,
      "outputs": []
    },
    {
      "cell_type": "markdown",
      "metadata": {
        "id": "D0jxzs--7g9s",
        "colab_type": "text"
      },
      "source": [
        "**Simple and Multiple Linear Regression using Gradient Descent - Regularization**"
      ]
    },
    {
      "cell_type": "code",
      "metadata": {
        "id": "pCR4OsIgHvid",
        "colab_type": "code",
        "colab": {}
      },
      "source": [
        "np.random.seed(259)"
      ],
      "execution_count": 2,
      "outputs": []
    },
    {
      "cell_type": "markdown",
      "metadata": {
        "id": "I4PzSLVGNm-X",
        "colab_type": "text"
      },
      "source": [
        "### Gradient Descent"
      ]
    },
    {
      "cell_type": "code",
      "metadata": {
        "id": "S-ZEu2Gi737U",
        "colab_type": "code",
        "colab": {}
      },
      "source": [
        "X, y = skd.load_boston(return_X_y=True)\n",
        "X, y = shuffle(X, y, random_state = 259)\n",
        "X = scale(X)\n",
        "poly = PolynomialFeatures(2)\n",
        "X = poly.fit_transform(X)\n",
        "X_new = np.zeros(shape=(X.shape[0], X.shape[1] + 1))\n",
        "X_new[:,0] = np.ones(shape = (1,X.shape[0]))\n",
        "X_new[:,1:] = X\n",
        "X = X_new"
      ],
      "execution_count": 3,
      "outputs": []
    },
    {
      "cell_type": "code",
      "metadata": {
        "id": "YO1uWggJ8zFA",
        "colab_type": "code",
        "colab": {}
      },
      "source": [
        "X_train = X[:400,:]\n",
        "y_train = y[:400]\n",
        "X_test = X[400:,:]\n",
        "y_test = y[400:]"
      ],
      "execution_count": 4,
      "outputs": []
    },
    {
      "cell_type": "code",
      "metadata": {
        "id": "q3_U629hBNXK",
        "colab_type": "code",
        "colab": {}
      },
      "source": [
        "# epochs\n",
        "n_iter = 500\n",
        "\n",
        "# Learning Rate\n",
        "LR = 0.01\n",
        "\n",
        "lamb = 25"
      ],
      "execution_count": 5,
      "outputs": []
    },
    {
      "cell_type": "code",
      "metadata": {
        "id": "QdUeadYTPLWI",
        "colab_type": "code",
        "colab": {}
      },
      "source": [
        "Reg = True"
      ],
      "execution_count": 6,
      "outputs": []
    },
    {
      "cell_type": "code",
      "metadata": {
        "id": "0AfnhzQhHnkJ",
        "colab_type": "code",
        "colab": {}
      },
      "source": [
        "a, b = X_train.shape\n",
        "thetas = np.random.uniform(0,1, size = (b))"
      ],
      "execution_count": 7,
      "outputs": []
    },
    {
      "cell_type": "code",
      "metadata": {
        "id": "467qGJnuGzgD",
        "colab_type": "code",
        "colab": {
          "base_uri": "https://localhost:8080/",
          "height": 407
        },
        "outputId": "a8cc11e8-7337-4087-fde6-393c110f0f2f"
      },
      "source": [
        "thetas"
      ],
      "execution_count": 8,
      "outputs": [
        {
          "output_type": "execute_result",
          "data": {
            "text/plain": [
              "array([0.69021991, 0.1008456 , 0.26613551, 0.87542591, 0.70853013,\n",
              "       0.86330125, 0.8109315 , 0.60505036, 0.87763296, 0.28165856,\n",
              "       0.71834225, 0.29260093, 0.4753621 , 0.85687412, 0.34886775,\n",
              "       0.25221883, 0.61678522, 0.27532607, 0.49236053, 0.65953064,\n",
              "       0.73213266, 0.11683407, 0.2180742 , 0.17850033, 0.95862598,\n",
              "       0.45963384, 0.949563  , 0.36934759, 0.00109725, 0.88731442,\n",
              "       0.83235006, 0.8913274 , 0.7866639 , 0.04841221, 0.91773111,\n",
              "       0.88973534, 0.3029234 , 0.67365222, 0.32159491, 0.28089862,\n",
              "       0.25030062, 0.40896302, 0.28325708, 0.23109149, 0.79554694,\n",
              "       0.35680547, 0.91925181, 0.96868422, 0.2908304 , 0.767843  ,\n",
              "       0.00755488, 0.8288577 , 0.87543584, 0.56464227, 0.70589323,\n",
              "       0.36361326, 0.18601859, 0.16220464, 0.84466556, 0.6836021 ,\n",
              "       0.35130769, 0.07413768, 0.92322874, 0.10027007, 0.74150636,\n",
              "       0.7469742 , 0.41491431, 0.7512306 , 0.41813105, 0.59088495,\n",
              "       0.4645193 , 0.22328287, 0.81294101, 0.64370748, 0.30661459,\n",
              "       0.98121542, 0.30226745, 0.51974269, 0.78066169, 0.58670487,\n",
              "       0.49297071, 0.21681999, 0.32152206, 0.47769248, 0.33350482,\n",
              "       0.62368616, 0.04230596, 0.77925581, 0.4627682 , 0.54368939,\n",
              "       0.74821706, 0.35170601, 0.31266767, 0.70785086, 0.30996917,\n",
              "       0.77801625, 0.03806438, 0.73656323, 0.52454692, 0.05447334,\n",
              "       0.64982614, 0.42303213, 0.74602467, 0.20689293, 0.18671935,\n",
              "       0.10535349])"
            ]
          },
          "metadata": {
            "tags": []
          },
          "execution_count": 8
        }
      ]
    },
    {
      "cell_type": "code",
      "metadata": {
        "id": "v9EQaVbRQ4mC",
        "colab_type": "code",
        "colab": {}
      },
      "source": [
        "mse_history = []"
      ],
      "execution_count": 9,
      "outputs": []
    },
    {
      "cell_type": "code",
      "metadata": {
        "id": "EvvF9LFmEz54",
        "colab_type": "code",
        "colab": {}
      },
      "source": [
        "for i in range(n_iter):\n",
        "    update = np.zeros(shape=(b))\n",
        "    y_predicted = np.dot(X_train, thetas)\n",
        "    error = y_predicted - y_train\n",
        "    for f in range(b):\n",
        "        update[f] = np.sum(error * ((X_train.T)[f]))\n",
        "    if Reg:\n",
        "        thetas[0] = thetas[0] - (LR/a) * update[0]\n",
        "        thetas[1:] = thetas[1:] * ((1-(lamb*LR/a)) - (LR/a) * update[1:])\n",
        "    else:\n",
        "        thetas = thetas - (LR/(2*a)) * update\n",
        "    mse_history.append(mean_squared_error (y_true= y_test, y_pred= np.dot(X_test, thetas)))"
      ],
      "execution_count": 10,
      "outputs": []
    },
    {
      "cell_type": "code",
      "metadata": {
        "id": "Zye9k1CSD9qN",
        "colab_type": "code",
        "colab": {
          "base_uri": "https://localhost:8080/",
          "height": 496
        },
        "outputId": "97a3e182-2041-494d-ada5-2fc993310cf6"
      },
      "source": [
        "thetas"
      ],
      "execution_count": 11,
      "outputs": [
        {
          "output_type": "execute_result",
          "data": {
            "text/plain": [
              "array([5.94116370e+00, 1.26395034e+01, 1.76328895e-03, 1.23641329e+00,\n",
              "       2.81350661e-03, 1.06785962e-01, 5.49162691e-04, 4.35924940e+00,\n",
              "       6.66501734e-03, 9.05252503e-01, 2.65715112e-03, 9.52607800e-05,\n",
              "       1.67364255e-02, 3.36345150e+00, 2.92143589e-05, 2.06617981e-05,\n",
              "       1.10794630e+00, 1.36214725e-01, 1.06240247e+00, 8.71252755e-02,\n",
              "       8.97595194e-02, 3.34995261e-02, 9.01581206e-01, 1.44851198e-02,\n",
              "       3.01772425e-01, 1.18020312e-01, 9.53558454e-03, 4.40815520e-02,\n",
              "       1.47219178e-01, 5.39617341e-01, 5.44914471e-01, 4.96386266e-01,\n",
              "       1.18160562e+00, 1.32331301e-02, 1.04003281e+00, 1.51438958e+00,\n",
              "       3.43716775e-01, 4.24623561e-01, 4.46604894e-01, 3.68843734e-01,\n",
              "       6.75839961e-01, 1.71696738e-01, 1.87412501e-01, 1.02403007e-02,\n",
              "       5.65812056e-01, 5.21472490e-01, 6.37061560e-01, 3.19670057e-01,\n",
              "       1.32032047e-02, 6.42420517e-02, 1.87948043e-03, 2.87062886e-01,\n",
              "       9.80960842e-03, 5.89709642e-03, 4.80196856e-01, 2.84976287e-01,\n",
              "       2.55168469e-02, 3.29965649e-02, 4.73659072e-01, 2.55925522e-01,\n",
              "       3.75932612e-01, 1.57668019e-02, 1.48908859e-02, 3.58427428e-02,\n",
              "       1.49177475e+00, 3.77829360e-02, 8.13409632e-02, 1.22443718e-01,\n",
              "       3.98399691e-02, 4.08178832e-01, 1.09460232e+00, 6.92400205e-02,\n",
              "       2.01990353e+00, 2.99277524e-03, 2.07610481e-03, 2.08705655e-02,\n",
              "       6.19215776e-01, 5.91474233e-02, 1.41737293e+00, 2.75779038e-01,\n",
              "       1.76817107e-01, 1.03140143e-01, 7.08279885e-02, 3.90736450e-02,\n",
              "       1.39019990e-02, 9.45522617e-01, 9.71991779e-02, 1.12291314e+00,\n",
              "       6.56723755e-01, 1.52386226e+00, 3.58564001e+00, 6.52852437e-02,\n",
              "       3.42084840e-01, 2.79953083e-01, 2.31992401e-02, 7.70759342e-02,\n",
              "       4.12367695e-02, 1.39953786e-01, 2.03988385e-02, 6.75192298e-03,\n",
              "       5.37834104e-01, 1.23394201e-01, 2.58450854e-01, 3.13197787e-01,\n",
              "       1.34269108e-02, 1.53915436e-01])"
            ]
          },
          "metadata": {
            "tags": []
          },
          "execution_count": 11
        }
      ]
    },
    {
      "cell_type": "code",
      "metadata": {
        "id": "l3-gwBfJRIM_",
        "colab_type": "code",
        "colab": {
          "base_uri": "https://localhost:8080/",
          "height": 294
        },
        "outputId": "80bf645d-93e6-4477-e269-3b8c2f92c583"
      },
      "source": [
        "plt.plot(mse_history, label='MSE history')\n",
        "plt.title(\"MSE over Training\")\n",
        "plt.ylabel('MSE error')\n",
        "plt.xlabel('Epoch No.')\n",
        "plt.grid(True)\n",
        "plt.legend()\n",
        "plt.show()"
      ],
      "execution_count": 12,
      "outputs": [
        {
          "output_type": "display_data",
          "data": {
            "image/png": "[encoded data removed]",
            "text/plain": [
              "<Figure size 432x288 with 1 Axes>"
            ]
          },
          "metadata": {
            "tags": [],
            "needs_background": "light"
          }
        }
      ]
    },
    {
      "cell_type": "code",
      "metadata": {
        "id": "w2YUOeYXIVY2",
        "colab_type": "code",
        "colab": {}
      },
      "source": [
        "y_tp = np.dot(X_test, thetas)"
      ],
      "execution_count": 13,
      "outputs": []
    },
    {
      "cell_type": "code",
      "metadata": {
        "id": "4_qOsEH6Inf4",
        "colab_type": "code",
        "colab": {
          "base_uri": "https://localhost:8080/",
          "height": 34
        },
        "outputId": "5a18ee9e-3b1d-4a1a-b26f-ac45d261bd1c"
      },
      "source": [
        "mean_absolute_error (y_true= y_test, y_pred= y_tp)"
      ],
      "execution_count": 14,
      "outputs": [
        {
          "output_type": "execute_result",
          "data": {
            "text/plain": [
              "3.0534872360650733"
            ]
          },
          "metadata": {
            "tags": []
          },
          "execution_count": 14
        }
      ]
    },
    {
      "cell_type": "code",
      "metadata": {
        "id": "PRQ8v5FyItHh",
        "colab_type": "code",
        "colab": {
          "base_uri": "https://localhost:8080/",
          "height": 34
        },
        "outputId": "24470aab-700b-46fd-fc2c-65499942d04d"
      },
      "source": [
        "mean_squared_error (y_true= y_test, y_pred= y_tp)"
      ],
      "execution_count": 15,
      "outputs": [
        {
          "output_type": "execute_result",
          "data": {
            "text/plain": [
              "17.846977698628418"
            ]
          },
          "metadata": {
            "tags": []
          },
          "execution_count": 15
        }
      ]
    },
    {
      "cell_type": "code",
      "metadata": {
        "id": "TBRtumorI4iq",
        "colab_type": "code",
        "colab": {
          "base_uri": "https://localhost:8080/",
          "height": 264
        },
        "outputId": "15c7834f-b3c0-420d-c8ab-396d7b087609"
      },
      "source": [
        "plt.scatter(y = y_test, x = range(len(y_test)), label = 'y_test')\n",
        "plt.scatter(y = y_tp, x = range(len(y_test)), label = 'y_predicted')\n",
        "plt.legend()\n",
        "plt.grid(True)\n",
        "plt.show()"
      ],
      "execution_count": 16,
      "outputs": [
        {
          "output_type": "display_data",
          "data": {
            "image/png": "[encoded data removed]",
            "text/plain": [
              "<Figure size 432x288 with 1 Axes>"
            ]
          },
          "metadata": {
            "tags": [],
            "needs_background": "light"
          }
        }
      ]
    },
    {
      "cell_type": "markdown",
      "metadata": {
        "id": "gonhaJCX9SKe",
        "colab_type": "text"
      },
      "source": [
        "**Plotting MSE for different Lambda**"
      ]
    },
    {
      "cell_type": "code",
      "metadata": {
        "id": "8f6-FvGf82xx",
        "colab_type": "code",
        "colab": {}
      },
      "source": [
        "def run_regressor(n_iter, i):\n",
        "    lamb = 25\n",
        "    LR = i\n",
        "    thetas = np.random.uniform(0,1, size = (b))\n",
        "    mse_history = []\n",
        "    for i in range(n_iter):\n",
        "        update = np.zeros(shape=(b))\n",
        "        y_predicted = np.dot(X_train, thetas)\n",
        "        error = y_predicted - y_train\n",
        "        for f in range(b):\n",
        "            update[f] = np.sum(error * ((X_train.T)[f]))\n",
        "        if Reg:\n",
        "            thetas[0] = thetas[0] - (LR/a) * update[0]\n",
        "            thetas[1:] = thetas[1:] * ((1-(lamb*LR/a)) - (LR/a) * update[1:])\n",
        "        else:\n",
        "            thetas = thetas - (LR/(2*a)) * update\n",
        "        mse_history.append(mean_squared_error (y_true= y_test, y_pred= np.dot(X_test, thetas)))\n",
        "    return mse_history"
      ],
      "execution_count": 17,
      "outputs": []
    },
    {
      "cell_type": "code",
      "metadata": {
        "id": "uswt7y8OHI2x",
        "colab_type": "code",
        "colab": {
          "base_uri": "https://localhost:8080/",
          "height": 70
        },
        "outputId": "867e0ecd-3aac-45f3-9e72-cf3ab40a416d"
      },
      "source": [
        "mse_errors = []\n",
        "\n",
        "for i in np.array([0.01,0.02,0.03]):\n",
        "    print(i)\n",
        "    mse_errors.append([i,run_regressor(100,i)])"
      ],
      "execution_count": 18,
      "outputs": [
        {
          "output_type": "stream",
          "text": [
            "0.01\n",
            "0.02\n",
            "0.03\n"
          ],
          "name": "stdout"
        }
      ]
    },
    {
      "cell_type": "code",
      "metadata": {
        "id": "84jVamVfcBic",
        "colab_type": "code",
        "colab": {
          "base_uri": "https://localhost:8080/",
          "height": 350
        },
        "outputId": "af5b4c3d-8739-4f1b-e0f2-5267c3c96db5"
      },
      "source": [
        "plt.figure(figsize=(15,5))\n",
        "for _ in range(1,4):\n",
        "    plt.subplot(1,3,_)\n",
        "    plt.plot(range(1,101),mse_errors[_-1][1], label='MSE history')\n",
        "    min = np.argmin(mse_errors[_-1][1])\n",
        "    plt.annotate('Minimum MSE',\n",
        "             xy=(min+1, mse_errors[_-1][1][min]),\n",
        "             xytext=(min+1, mse_errors[_-1][1][min] + 100),\n",
        "             ha=\"center\",\n",
        "             arrowprops=dict(facecolor='black', shrink=0.01),\n",
        "            )\n",
        "    plt.text(10,500,\"Minimum MSE: {:.2f}\".format(mse_errors[_-1][1][min]))\n",
        "    plt.title(f\"MSE over Training, LR = {mse_errors[_-1][0]}\")\n",
        "    plt.ylabel('MSE error')\n",
        "    plt.xlabel('Epoch No.')\n",
        "    plt.ylim(0,800)\n",
        "    plt.grid(True)\n",
        "    plt.legend()\n",
        "# plt.tight_layout(pad=3.0)"
      ],
      "execution_count": 19,
      "outputs": [
        {
          "output_type": "display_data",
          "data": {
            "image/png": "[encoded data removed]",
            "text/plain": [
              "<Figure size 1080x360 with 3 Axes>"
            ]
          },
          "metadata": {
            "tags": [],
            "needs_background": "light"
          }
        }
      ]
    },
    {
      "cell_type": "markdown",
      "metadata": {
        "id": "JGXCpCuANrd5",
        "colab_type": "text"
      },
      "source": [
        "### Normal Equation"
      ]
    },
    {
      "cell_type": "markdown",
      "metadata": {
        "id": "wO-FPF7E2tMz",
        "colab_type": "text"
      },
      "source": [
        "Normal Eqaution:\n",
        "$θ =(X^T X  +  \\lambda * L)^{-1} X^T y$"
      ]
    },
    {
      "cell_type": "code",
      "metadata": {
        "id": "8BsF3KDLz0S6",
        "colab_type": "code",
        "colab": {
          "base_uri": "https://localhost:8080/",
          "height": 34
        },
        "outputId": "48f55a83-a9b7-4581-971b-19f40a891c4b"
      },
      "source": [
        "lamb"
      ],
      "execution_count": 20,
      "outputs": [
        {
          "output_type": "execute_result",
          "data": {
            "text/plain": [
              "25"
            ]
          },
          "metadata": {
            "tags": []
          },
          "execution_count": 20
        }
      ]
    },
    {
      "cell_type": "code",
      "metadata": {
        "id": "9KyaJY10GLsW",
        "colab_type": "code",
        "colab": {}
      },
      "source": [
        "SpecDiag = np.identity(b)\n",
        "SpecDiag[0][0] = 0"
      ],
      "execution_count": 21,
      "outputs": []
    },
    {
      "cell_type": "code",
      "metadata": {
        "id": "M1kVh043Nyuk",
        "colab_type": "code",
        "colab": {}
      },
      "source": [
        "try:\n",
        "    theta_best = np.linalg.inv(X_train.T.dot(X_train) + lamb * SpecDiag).dot(X_train.T).dot(y_train)\n",
        "except np.linalg.LinAlgError as err:\n",
        "    theta_best = np.linalg.pinv(X_train.T.dot(X_train) + lamb * SpecDiag ).dot(X_train.T).dot(y_train)"
      ],
      "execution_count": 22,
      "outputs": []
    },
    {
      "cell_type": "code",
      "metadata": {
        "id": "1dcrktUAN3cc",
        "colab_type": "code",
        "colab": {
          "base_uri": "https://localhost:8080/",
          "height": 496
        },
        "outputId": "3944d200-2b76-4690-bc36-2c6d8eec18ae"
      },
      "source": [
        "theta_best"
      ],
      "execution_count": 23,
      "outputs": [
        {
          "output_type": "execute_result",
          "data": {
            "text/plain": [
              "array([ 2.07235272e+01,  1.22812075e-11, -1.66597441e-01, -6.50709583e-02,\n",
              "       -1.82975341e-01,  8.22726180e-02, -6.15493403e-01,  3.01204196e+00,\n",
              "       -7.53621078e-01, -1.63091371e+00,  4.63910076e-01, -9.69874242e-01,\n",
              "       -8.06986652e-01,  4.56920251e-01, -2.87272542e+00,  5.65879218e-02,\n",
              "        1.08015460e-01,  4.10536744e-02,  1.11995586e+00, -2.84182577e-01,\n",
              "        5.34001448e-01,  9.11416578e-02,  2.54425009e-01, -5.73221520e-01,\n",
              "        1.11215206e-01, -3.98196932e-02, -1.04224619e-01,  3.02854360e-01,\n",
              "        2.66741746e-01, -1.81292305e-01,  3.23902966e-01,  2.30467940e-01,\n",
              "        1.19958929e-01,  6.21048469e-02, -6.87700951e-02,  8.96344197e-03,\n",
              "        4.45172801e-01,  9.02534550e-02,  7.56711674e-02, -1.22741036e-01,\n",
              "        3.81376657e-01,  1.22887754e-01,  6.36122201e-01,  3.34595987e-01,\n",
              "        4.83196330e-01,  5.03864657e-01,  2.02220020e-02,  3.63453773e-02,\n",
              "       -3.61633828e-01,  7.64039749e-02, -5.98705438e-01,  2.79381298e-01,\n",
              "       -8.39450430e-01, -7.04259050e-01,  2.68369880e-01, -3.12409688e-01,\n",
              "       -1.54437410e-03,  5.31658636e-01,  1.40622559e-01, -1.56136632e-01,\n",
              "       -2.18272264e-01, -4.21768819e-01, -5.33583470e-01, -2.50217125e-01,\n",
              "        6.42606295e-01, -6.30103276e-01, -9.05564462e-03, -4.15325393e-01,\n",
              "       -1.80436176e-02,  2.45143683e-01,  2.39630912e-01, -6.74957833e-01,\n",
              "       -1.10524828e-01, -8.44816786e-01, -7.45742541e-01, -1.07954450e+00,\n",
              "       -1.93723455e-01, -8.09540539e-01,  3.21720230e-01, -1.55556197e-01,\n",
              "        8.05238988e-01,  3.54202268e-01,  1.39347649e-01, -6.31902239e-01,\n",
              "       -1.28819001e+00,  6.73575003e-01, -2.90637424e-01, -1.08105845e-01,\n",
              "       -6.50190384e-02, -1.03248666e-01,  7.05452155e-01, -4.22631504e-01,\n",
              "        6.93004837e-01,  3.80068891e-01, -8.67608592e-02, -9.73180131e-01,\n",
              "        1.06795307e-01,  1.03289638e+00, -2.80196633e-01, -9.98477599e-01,\n",
              "       -1.82862354e-01,  4.96375265e-02, -2.23102114e-01, -3.98478234e-01,\n",
              "       -4.90170087e-01,  8.21174988e-01])"
            ]
          },
          "metadata": {
            "tags": []
          },
          "execution_count": 23
        }
      ]
    },
    {
      "cell_type": "code",
      "metadata": {
        "id": "TniS87LTOdWV",
        "colab_type": "code",
        "colab": {}
      },
      "source": [
        "y_tp = np.dot(X_test, theta_best)"
      ],
      "execution_count": 24,
      "outputs": []
    },
    {
      "cell_type": "code",
      "metadata": {
        "id": "ZNdw1IAVSRlZ",
        "colab_type": "code",
        "colab": {
          "base_uri": "https://localhost:8080/",
          "height": 34
        },
        "outputId": "db6acbdf-9e10-4278-eb59-21ec4337607e"
      },
      "source": [
        "mean_absolute_error (y_true= y_test, y_pred= y_tp)"
      ],
      "execution_count": 25,
      "outputs": [
        {
          "output_type": "execute_result",
          "data": {
            "text/plain": [
              "2.161982008970432"
            ]
          },
          "metadata": {
            "tags": []
          },
          "execution_count": 25
        }
      ]
    },
    {
      "cell_type": "code",
      "metadata": {
        "id": "UPkag6-GSR69",
        "colab_type": "code",
        "colab": {
          "base_uri": "https://localhost:8080/",
          "height": 34
        },
        "outputId": "7f3a559c-8aa8-4ab3-d5c1-d175f7859c62"
      },
      "source": [
        "mean_squared_error (y_true= y_test, y_pred= y_tp)"
      ],
      "execution_count": 26,
      "outputs": [
        {
          "output_type": "execute_result",
          "data": {
            "text/plain": [
              "7.860982246996043"
            ]
          },
          "metadata": {
            "tags": []
          },
          "execution_count": 26
        }
      ]
    }
  ]
}