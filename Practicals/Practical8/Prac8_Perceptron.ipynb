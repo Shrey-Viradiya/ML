{
 "cells": [
  {
   "cell_type": "markdown",
   "metadata": {},
   "source": [
    "# Shrey Viradiya\n",
    "### 18BCE259"
   ]
  },
  {
   "cell_type": "code",
   "execution_count": 1,
   "metadata": {},
   "outputs": [],
   "source": [
    "import numpy as np\n",
    "import pandas as pd"
   ]
  },
  {
   "source": [
    "## Perceptron Learning Class"
   ],
   "cell_type": "markdown",
   "metadata": {}
  },
  {
   "cell_type": "code",
   "execution_count": 2,
   "metadata": {},
   "outputs": [],
   "source": [
    "class Perceptron_learning():\n",
    "    def __init__(self, file_path ,lr = 0.01, epochs =10):        \n",
    "        self.lr = lr\n",
    "        self.epochs = epochs\n",
    "        self.file = file_path\n",
    "        self.data = pd.read_csv(self.file, header= None).values\n",
    "        self.datapoints = self.data.shape[0]\n",
    "        self.n_dimensions = self.data.shape[1] - 1\n",
    "\n",
    "        print(\"Initializing Weights and Bias...\")\n",
    "        self.weights = 2 * np.random.random_sample((self.n_dimensions)) - 1\n",
    "        self.bias = np.random.random()\n",
    "\n",
    "    def train(self):\n",
    "        import time\n",
    "        start = time.time()\n",
    "\n",
    "        print(\"Starting Training...\")\n",
    "        for i in range(self.epochs):\n",
    "            for j in range(self.datapoints):\n",
    "                net = np.dot(self.weights, self.data[j, :self.n_dimensions]) + self.bias                \n",
    "                a = net >= 0\n",
    "                    \n",
    "                error = self.data[j,self.n_dimensions] - a\n",
    "                \n",
    "                self.weights = self.weights + self.lr * error * (self.data[ j ,0: self.n_dimensions].T)\n",
    "                self.bias = self.bias + self.lr * error\n",
    "\n",
    "        print(f\"Training Complete: Time taken {time.time() - start}\")\n",
    "\n",
    "    def prediction(self, data):\n",
    "        prediction = (np.dot(data[:,0:self.n_dimensions], self.weights) + self.bias) >= 0\n",
    "        print(f\"\\nPridictions -> {prediction}\")"
   ]
  },
  {
   "source": [
    "## Perceptron Learning on OR gate for 2 bits"
   ],
   "cell_type": "markdown",
   "metadata": {}
  },
  {
   "cell_type": "code",
   "execution_count": 3,
   "metadata": {},
   "outputs": [
    {
     "output_type": "stream",
     "name": "stdout",
     "text": [
      "Initializing Weights and Bias...\nStarting Training...\nTraining Complete: Time taken 0.016955137252807617\n\nPridictions -> [False  True  True  True]\n"
     ]
    }
   ],
   "source": [
    "classifier_2bit = Perceptron_learning('data_or2bit.csv', 0.1, 100)\n",
    "classifier_2bit.train()\n",
    "classifier_2bit.prediction(classifier_2bit.data)"
   ]
  },
  {
   "source": [
    "## Perceptron Learning on AND gate for 3 bits"
   ],
   "cell_type": "markdown",
   "metadata": {}
  },
  {
   "cell_type": "code",
   "execution_count": 4,
   "metadata": {},
   "outputs": [
    {
     "output_type": "stream",
     "name": "stdout",
     "text": [
      "Initializing Weights and Bias...\nStarting Training...\nTraining Complete: Time taken 0.01746845245361328\n\nPridictions -> [False False False False False False False  True]\n"
     ]
    }
   ],
   "source": [
    "classifier_3bit = Perceptron_learning('data_and3bit.csv', 0.1, 50)\n",
    "classifier_3bit.train()\n",
    "classifier_3bit.prediction(classifier_3bit.data)"
   ]
  },
  {
   "source": [
    "\n",
    "## Perceptrol Learning for Multiclass"
   ],
   "cell_type": "markdown",
   "metadata": {}
  },
  {
   "cell_type": "code",
   "execution_count": 5,
   "metadata": {},
   "outputs": [],
   "source": [
    "class Multiclass_Perceptron_learning():\n",
    "    def __init__(self, file_path ,lr = 0.01, epochs =10, n_classes = 1):\n",
    "        self.lr = lr\n",
    "        self.epochs = epochs\n",
    "        self.file = file_path\n",
    "        self.data = pd.read_csv(self.file, header= None).values\n",
    "        self.datapoints = self.data.shape[0]\n",
    "        assert n_classes < self.data.shape[1]\n",
    "        self.n_classes = n_classes        \n",
    "        self.n_dimensions = self.data.shape[1] - self.n_classes\n",
    "        \n",
    "\n",
    "        print(\"Initializing Weights and Bias...\")\n",
    "        self.weights = 2 * np.random.random_sample((self.n_dimensions, self.n_classes)) - 1\n",
    "        self.bias = np.random.random_sample((self.n_classes))\n",
    "\n",
    "    def train(self):\n",
    "        import time\n",
    "        start = time.time()\n",
    "\n",
    "        print(\"Starting Training...\")\n",
    "        for i in range(self.epochs):\n",
    "            for j in range(self.datapoints):\n",
    "                net = np.dot(self.data[j, :self.n_dimensions], self.weights) + self.bias\n",
    "                a = net\n",
    "\n",
    "                error = self.data[j, self.n_dimensions:] - a\n",
    "\n",
    "                for c,e in enumerate(error):\n",
    "                    self.weights[:, c] = self.weights[:, c] + self.lr * e * self.data[j, : self.n_dimensions]\n",
    "                \n",
    "                self.bias = self.bias + self.lr * error\n",
    "\n",
    "        print(f\"Training Complete: Time taken {time.time() - start}\")\n",
    "        print(self.weights)\n",
    "        print(self.bias)\n",
    "\n",
    "    def prediction(self, data):\n",
    "        prediction = (np.dot(data[:, :self.n_dimensions], self.weights) + self.bias)\n",
    "        prediction = np.ceil(prediction)\n",
    "        print(f\"\\nPridictions -> {prediction}\")"
   ]
  },
  {
   "cell_type": "code",
   "execution_count": 6,
   "metadata": {
    "tags": []
   },
   "outputs": [
    {
     "output_type": "stream",
     "name": "stdout",
     "text": [
      "Initializing Weights and Bias...\n",
      "Starting Training...\n",
      "Training Complete: Time taken 0.4776318073272705\n",
      "[[1.00000000e+00]\n",
      " [1.10765325e-15]]\n",
      "[2.]\n",
      "\n",
      "Pridictions -> [[1.]\n",
      " [1.]\n",
      " [1.]\n",
      " [1.]\n",
      " [1.]\n",
      " [1.]\n",
      " [1.]\n",
      " [1.]\n",
      " [2.]\n",
      " [2.]\n",
      " [2.]\n",
      " [2.]\n",
      " [2.]\n",
      " [2.]\n",
      " [2.]\n",
      " [2.]\n",
      " [2.]\n",
      " [2.]\n",
      " [3.]\n",
      " [3.]\n",
      " [3.]\n",
      " [3.]\n",
      " [3.]\n",
      " [3.]\n",
      " [3.]\n",
      " [3.]\n",
      " [3.]\n",
      " [3.]]\n"
     ]
    }
   ],
   "source": [
    "multiclass = Multiclass_Perceptron_learning('multiclass.csv', lr=0.01, epochs = 500, n_classes = 1)\n",
    "multiclass.train()\n",
    "multiclass.prediction(multiclass.data)"
   ]
  }
 ],
 "metadata": {
  "kernelspec": {
   "name": "python3",
   "display_name": "Python 3.7.3 64-bit",
   "metadata": {
    "interpreter": {
     "hash": "358038529934925e79f1e557c7ee33ca0159149491f241f7e5eb1291ff1006b3"
    }
   }
  },
  "language_info": {
   "codemirror_mode": {
    "name": "ipython",
    "version": 3
   },
   "file_extension": ".py",
   "mimetype": "text/x-python",
   "name": "python",
   "nbconvert_exporter": "python",
   "pygments_lexer": "ipython3",
   "version": "3.7.3-final"
  }
 },
 "nbformat": 4,
 "nbformat_minor": 2
}