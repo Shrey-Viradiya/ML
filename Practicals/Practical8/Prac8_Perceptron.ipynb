{
 "cells": [
  {
   "cell_type": "markdown",
   "metadata": {},
   "source": [
    "# Shrey Viradiya\n",
    "### 18BCE259"
   ]
  },
  {
   "cell_type": "code",
   "execution_count": 1,
   "metadata": {},
   "outputs": [],
   "source": [
    "import numpy as np\n",
    "import pandas as pd"
   ]
  },
  {
   "source": [
    "## Perceptron Learning Class"
   ],
   "cell_type": "markdown",
   "metadata": {}
  },
  {
   "cell_type": "code",
   "execution_count": 2,
   "metadata": {},
   "outputs": [],
   "source": [
    "class Perceptron_learning():\n",
    "    def __init__(self, file_path ,lr = 0.01, epochs =10):        \n",
    "        self.lr = lr\n",
    "        self.epochs = epochs\n",
    "        self.file = file_path\n",
    "        self.data = pd.read_csv(self.file, header= None).values\n",
    "        self.datapoints = self.data.shape[0]\n",
    "        self.n_dimensions = self.data.shape[1] - 1\n",
    "\n",
    "        print(\"Initializing Weights and Bias...\")\n",
    "        self.weights = 2 * np.random.random_sample((self.n_dimensions)) - 1\n",
    "        self.bias = np.random.random()\n",
    "\n",
    "    def train(self):\n",
    "        import time\n",
    "        start = time.time()\n",
    "\n",
    "        print(\"Starting Training...\")\n",
    "        for i in range(self.epochs):\n",
    "            for j in range(self.datapoints):\n",
    "                net = np.dot(self.weights, self.data[j, :self.n_dimensions]) + self.bias                \n",
    "                a = net >= 0\n",
    "                    \n",
    "                error = self.data[j,self.n_dimensions] - a\n",
    "                \n",
    "                self.weights = self.weights + self.lr * error * (self.data[ j ,0: self.n_dimensions].T)\n",
    "                self.bias = self.bias + self.lr * error\n",
    "\n",
    "        print(f\"Training Complete: Time taken {time.time() - start}\")\n",
    "\n",
    "    def prediction(self, data):\n",
    "        prediction = (np.dot(data[:,0:self.n_dimensions], self.weights) + self.bias) >= 0\n",
    "        print(f\"\\nPridictions -> {prediction}\")"
   ]
  },
  {
   "source": [
    "## Perceptron Learning on AND gate for 2 bits"
   ],
   "cell_type": "markdown",
   "metadata": {}
  },
  {
   "cell_type": "code",
   "execution_count": 3,
   "metadata": {},
   "outputs": [
    {
     "output_type": "stream",
     "name": "stdout",
     "text": [
      "Initializing Weights and Bias...\nStarting Training...\nTraining Complete: Time taken 0.009973287582397461\n\nPridictions -> [ True  True  True False]\n"
     ]
    }
   ],
   "source": [
    "classifier_2bit = Perceptron_learning('data_and2bit.csv', 0.01, 50)\n",
    "classifier_2bit.train()\n",
    "classifier_2bit.prediction(classifier_2bit.data)"
   ]
  },
  {
   "source": [
    "## Perceptron Learning on AND gate for 3 bits"
   ],
   "cell_type": "markdown",
   "metadata": {}
  },
  {
   "cell_type": "code",
   "execution_count": 4,
   "metadata": {},
   "outputs": [
    {
     "output_type": "stream",
     "name": "stdout",
     "text": [
      "Initializing Weights and Bias...\n",
      "Starting Training...\n",
      "Training Complete: Time taken 0.024921894073486328\n",
      "\n",
      "Pridictions -> [False False False False False False False  True]\n"
     ]
    }
   ],
   "source": [
    "classifier_3bit = Perceptron_learning('data_and3bit.csv', 0.1, 50)\n",
    "classifier_3bit.train()\n",
    "classifier_3bit.prediction(classifier_3bit.data)"
   ]
  }
 ],
 "metadata": {
  "kernelspec": {
   "display_name": "Python 3",
   "language": "python",
   "name": "python3"
  },
  "language_info": {
   "codemirror_mode": {
    "name": "ipython",
    "version": 3
   },
   "file_extension": ".py",
   "mimetype": "text/x-python",
   "name": "python",
   "nbconvert_exporter": "python",
   "pygments_lexer": "ipython3",
   "version": "3.7.3-final"
  }
 },
 "nbformat": 4,
 "nbformat_minor": 2
}