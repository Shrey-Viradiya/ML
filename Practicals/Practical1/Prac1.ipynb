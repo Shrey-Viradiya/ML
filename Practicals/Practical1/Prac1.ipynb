{
  "nbformat": 4,
  "nbformat_minor": 0,
  "metadata": {
    "colab": {
      "name": "Prac1.ipynb",
      "provenance": [],
      "collapsed_sections": [],
      "toc_visible": true
    },
    "kernelspec": {
      "name": "python3",
      "display_name": "Python 3"
    }
  },
  "cells": [
    {
      "cell_type": "markdown",
      "metadata": {
        "id": "zsS38uXCBK1S",
        "colab_type": "text"
      },
      "source": [
        "# Practical 1\n",
        "# Shrey Viradiya _ 18BCE259"
      ]
    },
    {
      "cell_type": "markdown",
      "metadata": {
        "id": "fyipwX97BZkk",
        "colab_type": "text"
      },
      "source": [
        "## Object Recognition Using PyTesseract"
      ]
    },
    {
      "cell_type": "markdown",
      "metadata": {
        "id": "efJSAvqmBfPG",
        "colab_type": "text"
      },
      "source": [
        "### Installing Dependencies"
      ]
    },
    {
      "cell_type": "code",
      "metadata": {
        "id": "K_DIsZ9Z0pmu",
        "colab_type": "code",
        "colab": {
          "base_uri": "https://localhost:8080/",
          "height": 1000
        },
        "outputId": "73045d69-2cf2-4fdd-b1e4-40e33f74f4a6"
      },
      "source": [
        "!apt install tesseract-ocr\n",
        "!apt-get install poppler-utils \n",
        "!pip3 install pytesseract\n",
        "!pip3 install pdf2image\n",
        "!pip3 install Pillow"
      ],
      "execution_count": 1,
      "outputs": [
        {
          "output_type": "stream",
          "text": [
            "Reading package lists... Done\n",
            "Building dependency tree       \n",
            "Reading state information... Done\n",
            "The following package was automatically installed and is no longer required:\n",
            "  libnvidia-common-440\n",
            "Use 'apt autoremove' to remove it.\n",
            "The following additional packages will be installed:\n",
            "  tesseract-ocr-eng tesseract-ocr-osd\n",
            "The following NEW packages will be installed:\n",
            "  tesseract-ocr tesseract-ocr-eng tesseract-ocr-osd\n",
            "0 upgraded, 3 newly installed, 0 to remove and 35 not upgraded.\n",
            "Need to get 4,795 kB of archives.\n",
            "After this operation, 15.8 MB of additional disk space will be used.\n",
            "Get:1 http://archive.ubuntu.com/ubuntu bionic/universe amd64 tesseract-ocr-eng all 4.00~git24-0e00fe6-1.2 [1,588 kB]\n",
            "Get:2 http://archive.ubuntu.com/ubuntu bionic/universe amd64 tesseract-ocr-osd all 4.00~git24-0e00fe6-1.2 [2,989 kB]\n",
            "Get:3 http://archive.ubuntu.com/ubuntu bionic/universe amd64 tesseract-ocr amd64 4.00~git2288-10f4998a-2 [218 kB]\n",
            "Fetched 4,795 kB in 0s (28.5 MB/s)\n",
            "Selecting previously unselected package tesseract-ocr-eng.\n",
            "(Reading database ... 144465 files and directories currently installed.)\n",
            "Preparing to unpack .../tesseract-ocr-eng_4.00~git24-0e00fe6-1.2_all.deb ...\n",
            "Unpacking tesseract-ocr-eng (4.00~git24-0e00fe6-1.2) ...\n",
            "Selecting previously unselected package tesseract-ocr-osd.\n",
            "Preparing to unpack .../tesseract-ocr-osd_4.00~git24-0e00fe6-1.2_all.deb ...\n",
            "Unpacking tesseract-ocr-osd (4.00~git24-0e00fe6-1.2) ...\n",
            "Selecting previously unselected package tesseract-ocr.\n",
            "Preparing to unpack .../tesseract-ocr_4.00~git2288-10f4998a-2_amd64.deb ...\n",
            "Unpacking tesseract-ocr (4.00~git2288-10f4998a-2) ...\n",
            "Setting up tesseract-ocr-osd (4.00~git24-0e00fe6-1.2) ...\n",
            "Setting up tesseract-ocr-eng (4.00~git24-0e00fe6-1.2) ...\n",
            "Setting up tesseract-ocr (4.00~git2288-10f4998a-2) ...\n",
            "Processing triggers for man-db (2.8.3-2ubuntu0.1) ...\n",
            "Reading package lists... Done\n",
            "Building dependency tree       \n",
            "Reading state information... Done\n",
            "The following package was automatically installed and is no longer required:\n",
            "  libnvidia-common-440\n",
            "Use 'apt autoremove' to remove it.\n",
            "The following NEW packages will be installed:\n",
            "  poppler-utils\n",
            "0 upgraded, 1 newly installed, 0 to remove and 35 not upgraded.\n",
            "Need to get 154 kB of archives.\n",
            "After this operation, 613 kB of additional disk space will be used.\n",
            "Get:1 http://archive.ubuntu.com/ubuntu bionic-updates/main amd64 poppler-utils amd64 0.62.0-2ubuntu2.10 [154 kB]\n",
            "Fetched 154 kB in 0s (2,186 kB/s)\n",
            "Selecting previously unselected package poppler-utils.\n",
            "(Reading database ... 144512 files and directories currently installed.)\n",
            "Preparing to unpack .../poppler-utils_0.62.0-2ubuntu2.10_amd64.deb ...\n",
            "Unpacking poppler-utils (0.62.0-2ubuntu2.10) ...\n",
            "Setting up poppler-utils (0.62.0-2ubuntu2.10) ...\n",
            "Processing triggers for man-db (2.8.3-2ubuntu0.1) ...\n",
            "Collecting pytesseract\n",
            "  Downloading https://files.pythonhosted.org/packages/1d/d8/521db389ff0aae32035bfda6ed39cb2c2e28521c47015f6431f07460c50a/pytesseract-0.3.4.tar.gz\n",
            "Requirement already satisfied: Pillow in /usr/local/lib/python3.6/dist-packages (from pytesseract) (7.0.0)\n",
            "Building wheels for collected packages: pytesseract\n",
            "  Building wheel for pytesseract (setup.py) ... \u001b[?25l\u001b[?25hdone\n",
            "  Created wheel for pytesseract: filename=pytesseract-0.3.4-py2.py3-none-any.whl size=13431 sha256=0f7410f8a0dabe8c5b6ad56d773770e365819a8e76365ea6f45af1ee808ff158\n",
            "  Stored in directory: /root/.cache/pip/wheels/63/2a/a0/7596d2e0a73cf0aeffd6f6170862c4e73f3763b7827e48691a\n",
            "Successfully built pytesseract\n",
            "Installing collected packages: pytesseract\n",
            "Successfully installed pytesseract-0.3.4\n",
            "Collecting pdf2image\n",
            "  Downloading https://files.pythonhosted.org/packages/c6/62/bf2df0547cf4e216b329a9d39a7aa6c755f02071e63e17a4b76690ebfe20/pdf2image-1.13.1-py3-none-any.whl\n",
            "Requirement already satisfied: pillow in /usr/local/lib/python3.6/dist-packages (from pdf2image) (7.0.0)\n",
            "Installing collected packages: pdf2image\n",
            "Successfully installed pdf2image-1.13.1\n",
            "Requirement already satisfied: Pillow in /usr/local/lib/python3.6/dist-packages (7.0.0)\n"
          ],
          "name": "stdout"
        }
      ]
    },
    {
      "cell_type": "markdown",
      "metadata": {
        "id": "kXcjHJTbBwsJ",
        "colab_type": "text"
      },
      "source": [
        "### Importing Libraries"
      ]
    },
    {
      "cell_type": "code",
      "metadata": {
        "id": "y0bsYXozxee8",
        "colab_type": "code",
        "colab": {}
      },
      "source": [
        "from PIL import Image \n",
        "import pytesseract\n",
        "import pdf2image"
      ],
      "execution_count": 2,
      "outputs": []
    },
    {
      "cell_type": "markdown",
      "metadata": {
        "id": "wJvVEoIc2nOS",
        "colab_type": "text"
      },
      "source": [
        "### OCR from the image"
      ]
    },
    {
      "cell_type": "code",
      "metadata": {
        "id": "tWOxQ3w4x0SK",
        "colab_type": "code",
        "colab": {
          "base_uri": "https://localhost:8080/",
          "height": 212
        },
        "outputId": "65b0e654-deac-4191-a97e-0a29598a5ec4"
      },
      "source": [
        "# OCR from an Image\n",
        "\n",
        "def ocr_core(filename):\n",
        "    text = pytesseract.image_to_string(Image.open(filename))\n",
        "    return text\n",
        "\n",
        "print(ocr_core('FoM.jpg'))"
      ],
      "execution_count": 3,
      "outputs": [
        {
          "output_type": "stream",
          "text": [
            "A group of industry, acader\n",
            "government it experts convene in Philadelphia\n",
            "to explore the roots of algo _\n",
            "\n",
            "BY ALEXANDRA CHOULDECHOVA AND AARON ROTH\n",
            "\n",
            "A Snapshot of\n",
            "the Frontiers\n",
            "of Fairness\n",
            "in Machine\n",
            "Learning\n"
          ],
          "name": "stdout"
        }
      ]
    },
    {
      "cell_type": "markdown",
      "metadata": {
        "id": "XBLSL-HJ2pyf",
        "colab_type": "text"
      },
      "source": [
        "### OCR from PDF"
      ]
    },
    {
      "cell_type": "code",
      "metadata": {
        "id": "1F9A8Zkb2UaU",
        "colab_type": "code",
        "colab": {}
      },
      "source": [
        "PDF_file = \"github-git-cheat-sheet.pdf\""
      ],
      "execution_count": 4,
      "outputs": []
    },
    {
      "cell_type": "code",
      "metadata": {
        "id": "lQLoCTC62wDX",
        "colab_type": "code",
        "colab": {}
      },
      "source": [
        "pages = pdf2image.convert_from_path(PDF_file, 500)"
      ],
      "execution_count": 5,
      "outputs": []
    },
    {
      "cell_type": "code",
      "metadata": {
        "id": "ukxWJH3v3YPX",
        "colab_type": "code",
        "colab": {}
      },
      "source": [
        "image_counter = 1\n",
        "for page in pages: \n",
        "    filename = \"page_\"+str(image_counter)+\".jpg\"\n",
        "    page.save(filename, 'JPEG') \n",
        "    image_counter = image_counter + 1"
      ],
      "execution_count": 6,
      "outputs": []
    },
    {
      "cell_type": "code",
      "metadata": {
        "id": "wmu9CGqZ6Wee",
        "colab_type": "code",
        "colab": {
          "base_uri": "https://localhost:8080/",
          "height": 1000
        },
        "outputId": "e69731ff-3d5e-466d-d126-b1837e419250"
      },
      "source": [
        "with open('out_text.txt','a') as f:\n",
        "  for i in range(1, image_counter): \n",
        "      filename = \"page_\"+str(i)+\".jpg\"    \n",
        "      text = str(((pytesseract.image_to_string(Image.open(filename))))) \n",
        "      text += '\\n____________________________________\\n'\n",
        "      text = text.replace('-\\n', '')   \n",
        "      print(text)  \n",
        "      f.write(text) "
      ],
      "execution_count": 7,
      "outputs": [
        {
          "output_type": "stream",
          "text": [
            "CThdal tls)\n",
            "\n",
            "GIT CHEAT SHEET\n",
            "\n",
            " \n",
            "\n",
            "Git is the open source distributed version control system that facilitates GitHub activities on your laptop or\n",
            "desktop. This cheat sheet summarizes commonly used Git command line instructions for quick reference.\n",
            "\n",
            "INSTALL GIT\n",
            "\n",
            "GitHub provides desktop clients that include a graphical user\n",
            "interface for the most common repository actions and an automatically updating command line edition of Git for advanced scenarios.\n",
            "\n",
            "GitHub for Windows\n",
            "https://windows.github.com\n",
            "\n",
            "GitHub for Mac\n",
            "https://mac.github.com\n",
            "\n",
            "Git distributions for Linux and POSIX systems are available on the\n",
            "official Git SCM web site.\n",
            "\n",
            "Git for All Platforms\n",
            "http://git-scm.com\n",
            "\n",
            "CONFIGURE TOOLING\n",
            "\n",
            "Configure user information for all local repositories\n",
            "\n",
            "$ git config --global user.name \"[name]\"\n",
            "\n",
            "Sets the name you want attached to your commit transactions\n",
            "\n",
            "MAKE CHANGES\n",
            "\n",
            "Review edits and craft acommit transaction\n",
            "$ git status\n",
            "Lists all new or modified files to be committed\n",
            "$ git diff\n",
            "\n",
            "Shows file differences not yet staged\n",
            "\n",
            " \n",
            "\n",
            "$ git add [file]\n",
            "\n",
            "Snapshots the file in preparation for versioning\n",
            "\n",
            " \n",
            "\n",
            "$ git diff --staged\n",
            "\n",
            "Shows file differences between staging and the last file version\n",
            "\n",
            " \n",
            "\n",
            "$ git reset [file]\n",
            "\n",
            "Unstages the file, but preserve its contents\n",
            "\n",
            " \n",
            "\n",
            "$ git commit -m \"[descriptive message ]\"\n",
            "\n",
            "Records file snapshots permanently in version history\n",
            "\n",
            " \n",
            "\n",
            " \n",
            "\n",
            "$ git config --global user.email \"[email address]\"\n",
            "\n",
            "Sets the email you want attached to your commit transactions\n",
            "\n",
            " \n",
            "\n",
            "$ git config --global color.ui auto\n",
            "\n",
            "Enables helpful colorization of command line output\n",
            "\n",
            "GROUP CHANGES\n",
            "\n",
            "Name a series of commits and combine completed efforts\n",
            "\n",
            "$ git branch\n",
            "\n",
            "Lists all local branches in the current repository\n",
            "\n",
            " \n",
            "\n",
            " \n",
            "\n",
            "CREATE REPOSITORIES\n",
            "\n",
            "Start anew repository or obtain one from an existing URL\n",
            "\n",
            "$ git init [project-name]\n",
            "\n",
            "Creates anew local repository with the specified name\n",
            "\n",
            "$ git branch [branch-name]\n",
            "\n",
            "Creates anew branch\n",
            "\n",
            " \n",
            "\n",
            "$ git checkout [branch-name]\n",
            "\n",
            "Switches to the specified branch and updates the working directory\n",
            "\n",
            " \n",
            "\n",
            " \n",
            "\n",
            "$ git clone [url]\n",
            "\n",
            "Downloads a project and its entire version history\n",
            "\n",
            "$ git merge [branch]\n",
            "\n",
            "Combines the specified branch's history into the current branch\n",
            "\n",
            " \n",
            "\n",
            " \n",
            "\n",
            "$ git branch -d [branch-name]\n",
            "\n",
            "Deletes the specified branch\n",
            "____________________________________\n",
            "\n",
            "©) GIT CHEAT SHEET\n",
            "\n",
            " \n",
            "\n",
            "REFACTOR FILENAMES\n",
            "\n",
            "Relocate and remove versioned files\n",
            "\n",
            "$ git rm [file]\n",
            "\n",
            "Deletes the file from the working directory and stages the deletion\n",
            "\n",
            " \n",
            "\n",
            "$ git rm --cached [file]\n",
            "\n",
            "Removes the file from version control but preserves the file locally\n",
            "\n",
            " \n",
            "\n",
            "$ git mv [file-original] [file-renamed]\n",
            "\n",
            "Changes the file name and prepares it for commit\n",
            "\n",
            " \n",
            "\n",
            "SUPPRESS TRACKING\n",
            "Exclude temporary files and paths\n",
            "\n",
            "*. log\n",
            "build/\n",
            "temp-*\n",
            "\n",
            "A text filenamed .gitignore suppresses accidental versioning of\n",
            "files and paths matching the specified patterns\n",
            "\n",
            " \n",
            "\n",
            "$ git ls-files --other --ignored --exclude-standard\n",
            "\n",
            "Lists allignored files in this project\n",
            "\n",
            " \n",
            "\n",
            "SAVE FRAGMENTS\n",
            "\n",
            "Shelve and restore incomplete changes\n",
            "\n",
            "$ git stash\n",
            "\n",
            "Temporarily stores all modified tracked files\n",
            "\n",
            "REVIEW HISTORY\n",
            "\n",
            "Browse and inspect the evolution of project files\n",
            "\n",
            "$ git log\n",
            "\n",
            "Lists version history for the current branch\n",
            "\n",
            " \n",
            "\n",
            "$ git log --follow [file]\n",
            "\n",
            "Lists version history for a file, including renames\n",
            "\n",
            " \n",
            "\n",
            "$ git diff [first-branch]...[second-branch]\n",
            "\n",
            "Shows content differences between two branches\n",
            "\n",
            " \n",
            "\n",
            "$ git show [commit]\n",
            "\n",
            "Outputs metadata and content changes of the specified commit\n",
            "\n",
            " \n",
            "\n",
            "REDO COMMITS\n",
            "\n",
            "Erase mistakes and craft replacement history\n",
            "\n",
            "$ git reset [commit]\n",
            "Undoes all commits after [commit], preserving changes locally\n",
            "$ git reset --hard [commit]\n",
            "\n",
            "Discards all history and changes back to the specified commit\n",
            "\n",
            " \n",
            "\n",
            "SYNCHRONIZE CHANGES\n",
            "\n",
            "Register a repository bookmark and exchange version history\n",
            "\n",
            "$ git fetch [bookmark]\n",
            "\n",
            "Downloads all history from the repository bookmark\n",
            "\n",
            " \n",
            "\n",
            "$ git stash pop\n",
            "\n",
            "Restores the most recently stashed files\n",
            "\n",
            "$ git merge [bookmark]/[branch]\n",
            "\n",
            "Combines bookmark’s branch into current local branch\n",
            "\n",
            " \n",
            "\n",
            "$ git stash List\n",
            "\n",
            "Lists all stashed changesets\n",
            "\n",
            "$ git push [alias] [branch]\n",
            "\n",
            "Uploads all local branch commits to GitHub\n",
            "\n",
            " \n",
            "\n",
            "$ git stash drop\n",
            "\n",
            "Discards the most recently stashed changeset\n",
            "\n",
            "$ git pull\n",
            "\n",
            "Downloads bookmark history and incorporates changes\n",
            "\n",
            " \n",
            "\n",
            "GitHub Training\n",
            "\n",
            "Learn more about using GitHub and Git. Email the Training Team or visit\n",
            "our web site for learning event schedules and private class availability.\n",
            "\n",
            "& training@github.com\n",
            "@ training.github.com\n",
            "____________________________________\n",
            "\n"
          ],
          "name": "stdout"
        }
      ]
    },
    {
      "cell_type": "code",
      "metadata": {
        "id": "HgGLNiYp8109",
        "colab_type": "code",
        "colab": {}
      },
      "source": [
        ""
      ],
      "execution_count": 7,
      "outputs": []
    }
  ]
}