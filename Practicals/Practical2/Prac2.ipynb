{
  "nbformat": 4,
  "nbformat_minor": 0,
  "metadata": {
    "colab": {
      "name": "Prac2.ipynb",
      "provenance": [],
      "collapsed_sections": []
    },
    "kernelspec": {
      "name": "python3",
      "display_name": "Python 3"
    }
  },
  "cells": [
    {
      "cell_type": "markdown",
      "metadata": {
        "id": "zsS38uXCBK1S",
        "colab_type": "text"
      },
      "source": [
        "# Practical 2\n",
        "# Shrey Viradiya _ 18BCE259"
      ]
    },
    {
      "cell_type": "markdown",
      "metadata": {
        "id": "Itp3wrlL2fw-",
        "colab_type": "text"
      },
      "source": [
        "Installing Dependencies"
      ]
    },
    {
      "cell_type": "code",
      "metadata": {
        "id": "q8VouKI3yTQe",
        "colab_type": "code",
        "colab": {
          "base_uri": "https://localhost:8080/",
          "height": 481
        },
        "outputId": "0dda7a29-7248-4c82-90c0-a5faacee3667"
      },
      "source": [
        "!pip install -q tabula-py\n",
        "!pip install camelot-py\n",
        "!apt install ghostscript"
      ],
      "execution_count": null,
      "outputs": [
        {
          "output_type": "stream",
          "text": [
            "Requirement already satisfied: camelot-py in /usr/local/lib/python3.6/dist-packages (0.8.2)\n",
            "Requirement already satisfied: click>=6.7 in /usr/local/lib/python3.6/dist-packages (from camelot-py) (7.1.2)\n",
            "Requirement already satisfied: chardet>=3.0.4 in /usr/local/lib/python3.6/dist-packages (from camelot-py) (3.0.4)\n",
            "Requirement already satisfied: pandas>=0.23.4 in /usr/local/lib/python3.6/dist-packages (from camelot-py) (1.0.5)\n",
            "Requirement already satisfied: PyPDF2>=1.26.0 in /usr/local/lib/python3.6/dist-packages (from camelot-py) (1.26.0)\n",
            "Requirement already satisfied: numpy>=1.13.3 in /usr/local/lib/python3.6/dist-packages (from camelot-py) (1.18.5)\n",
            "Requirement already satisfied: openpyxl>=2.5.8 in /usr/local/lib/python3.6/dist-packages (from camelot-py) (2.5.9)\n",
            "Requirement already satisfied: pdfminer.six>=20200726 in /usr/local/lib/python3.6/dist-packages (from camelot-py) (20200726)\n",
            "Requirement already satisfied: python-dateutil>=2.6.1 in /usr/local/lib/python3.6/dist-packages (from pandas>=0.23.4->camelot-py) (2.8.1)\n",
            "Requirement already satisfied: pytz>=2017.2 in /usr/local/lib/python3.6/dist-packages (from pandas>=0.23.4->camelot-py) (2018.9)\n",
            "Requirement already satisfied: jdcal in /usr/local/lib/python3.6/dist-packages (from openpyxl>=2.5.8->camelot-py) (1.4.1)\n",
            "Requirement already satisfied: et-xmlfile in /usr/local/lib/python3.6/dist-packages (from openpyxl>=2.5.8->camelot-py) (1.0.1)\n",
            "Requirement already satisfied: cryptography in /usr/local/lib/python3.6/dist-packages (from pdfminer.six>=20200726->camelot-py) (3.0)\n",
            "Requirement already satisfied: sortedcontainers in /usr/local/lib/python3.6/dist-packages (from pdfminer.six>=20200726->camelot-py) (2.2.2)\n",
            "Requirement already satisfied: six>=1.5 in /usr/local/lib/python3.6/dist-packages (from python-dateutil>=2.6.1->pandas>=0.23.4->camelot-py) (1.15.0)\n",
            "Requirement already satisfied: cffi!=1.11.3,>=1.8 in /usr/local/lib/python3.6/dist-packages (from cryptography->pdfminer.six>=20200726->camelot-py) (1.14.0)\n",
            "Requirement already satisfied: pycparser in /usr/local/lib/python3.6/dist-packages (from cffi!=1.11.3,>=1.8->cryptography->pdfminer.six>=20200726->camelot-py) (2.20)\n",
            "Reading package lists... Done\n",
            "Building dependency tree       \n",
            "Reading state information... Done\n",
            "ghostscript is already the newest version (9.26~dfsg+0-0ubuntu0.18.04.12).\n",
            "The following package was automatically installed and is no longer required:\n",
            "  libnvidia-common-440\n",
            "Use 'apt autoremove' to remove it.\n",
            "0 upgraded, 0 newly installed, 0 to remove and 35 not upgraded.\n"
          ],
          "name": "stdout"
        }
      ]
    },
    {
      "cell_type": "code",
      "metadata": {
        "id": "tobXvWit0dzj",
        "colab_type": "code",
        "colab": {
          "base_uri": "https://localhost:8080/",
          "height": 301
        },
        "outputId": "f9352124-ba71-4bf5-896e-8ff075d8be0a"
      },
      "source": [
        "!wget https://github.com/chezou/tabula-py/raw/master/tests/resources/data.pdf"
      ],
      "execution_count": null,
      "outputs": [
        {
          "output_type": "stream",
          "text": [
            "--2020-07-30 08:45:44--  https://github.com/chezou/tabula-py/raw/master/tests/resources/data.pdf\n",
            "Resolving github.com (github.com)... 140.82.113.4\n",
            "Connecting to github.com (github.com)|140.82.113.4|:443... connected.\n",
            "HTTP request sent, awaiting response... 302 Found\n",
            "Location: https://raw.githubusercontent.com/chezou/tabula-py/master/tests/resources/data.pdf [following]\n",
            "--2020-07-30 08:45:44--  https://raw.githubusercontent.com/chezou/tabula-py/master/tests/resources/data.pdf\n",
            "Resolving raw.githubusercontent.com (raw.githubusercontent.com)... 151.101.0.133, 151.101.64.133, 151.101.128.133, ...\n",
            "Connecting to raw.githubusercontent.com (raw.githubusercontent.com)|151.101.0.133|:443... connected.\n",
            "HTTP request sent, awaiting response... 200 OK\n",
            "Length: 28330 (28K) [application/octet-stream]\n",
            "Saving to: ‘data.pdf.1’\n",
            "\n",
            "\rdata.pdf.1            0%[                    ]       0  --.-KB/s               \rdata.pdf.1          100%[===================>]  27.67K  --.-KB/s    in 0.01s   \n",
            "\n",
            "2020-07-30 08:45:44 (2.19 MB/s) - ‘data.pdf.1’ saved [28330/28330]\n",
            "\n"
          ],
          "name": "stdout"
        }
      ]
    },
    {
      "cell_type": "markdown",
      "metadata": {
        "id": "dykKvD9uzqtT",
        "colab_type": "text"
      },
      "source": [
        "## PDF table extraction using tabula"
      ]
    },
    {
      "cell_type": "code",
      "metadata": {
        "id": "SDjmrwuDylKP",
        "colab_type": "code",
        "colab": {}
      },
      "source": [
        "import tabula\n",
        "pdf_path = \"2CS501 Machine Learning Course Policy Document.pdf\""
      ],
      "execution_count": null,
      "outputs": []
    },
    {
      "cell_type": "code",
      "metadata": {
        "id": "9F09CD5f0cDP",
        "colab_type": "code",
        "colab": {
          "base_uri": "https://localhost:8080/",
          "height": 478
        },
        "outputId": "bcfd1a86-eabd-4fc0-bffb-22b7f48e4cd8"
      },
      "source": [
        "dfs = tabula.read_pdf(pdf_path, stream=True, pages='all')\n",
        "print(len(dfs))"
      ],
      "execution_count": null,
      "outputs": [
        {
          "output_type": "stream",
          "text": [
            "Got stderr: Jul 30, 2020 8:45:47 AM org.apache.pdfbox.pdmodel.font.PDCIDFontType2 <init>\n",
            "INFO: OpenType Layout tables used in font ABCDEE+Cambria,Bold are not implemented in PDFBox and will be ignored\n",
            "Jul 30, 2020 8:45:47 AM org.apache.pdfbox.pdmodel.font.PDCIDFontType2 <init>\n",
            "INFO: OpenType Layout tables used in font ABCDEE+Cambria are not implemented in PDFBox and will be ignored\n",
            "Jul 30, 2020 8:45:47 AM org.apache.pdfbox.pdmodel.font.PDCIDFontType2 <init>\n",
            "INFO: OpenType Layout tables used in font ABCDEE+Cambria,Bold are not implemented in PDFBox and will be ignored\n",
            "Jul 30, 2020 8:45:47 AM org.apache.pdfbox.pdmodel.font.PDCIDFontType2 <init>\n",
            "INFO: OpenType Layout tables used in font ABCDEE+Cambria are not implemented in PDFBox and will be ignored\n",
            "Jul 30, 2020 8:45:48 AM org.apache.pdfbox.pdmodel.font.PDCIDFontType2 <init>\n",
            "INFO: OpenType Layout tables used in font ABCDEE+Cambria,Bold are not implemented in PDFBox and will be ignored\n",
            "Jul 30, 2020 8:45:48 AM org.apache.pdfbox.pdmodel.font.PDCIDFontType2 <init>\n",
            "INFO: OpenType Layout tables used in font ABCDEE+Cambria are not implemented in PDFBox and will be ignored\n",
            "Jul 30, 2020 8:45:50 AM org.apache.pdfbox.pdmodel.font.PDCIDFontType2 <init>\n",
            "INFO: OpenType Layout tables used in font ABCDEE+Cambria are not implemented in PDFBox and will be ignored\n",
            "Jul 30, 2020 8:45:50 AM org.apache.pdfbox.pdmodel.font.PDCIDFontType2 <init>\n",
            "INFO: OpenType Layout tables used in font ABCDEE+Cambria are not implemented in PDFBox and will be ignored\n",
            "Jul 30, 2020 8:45:51 AM org.apache.pdfbox.pdmodel.font.PDCIDFontType2 <init>\n",
            "INFO: OpenType Layout tables used in font ABCDEE+Cambria are not implemented in PDFBox and will be ignored\n",
            "Jul 30, 2020 8:45:51 AM org.apache.pdfbox.pdmodel.font.PDCIDFontType2 <init>\n",
            "INFO: OpenType Layout tables used in font ABCDEE+Cambria are not implemented in PDFBox and will be ignored\n",
            "Jul 30, 2020 8:45:51 AM org.apache.pdfbox.pdmodel.font.PDCIDFontType2 <init>\n",
            "INFO: OpenType Layout tables used in font ABCDEE+Cambria are not implemented in PDFBox and will be ignored\n",
            "Jul 30, 2020 8:45:52 AM org.apache.pdfbox.pdmodel.font.PDCIDFontType2 <init>\n",
            "INFO: OpenType Layout tables used in font ABCDEE+Cambria are not implemented in PDFBox and will be ignored\n",
            "\n"
          ],
          "name": "stderr"
        },
        {
          "output_type": "stream",
          "text": [
            "9\n"
          ],
          "name": "stdout"
        }
      ]
    },
    {
      "cell_type": "code",
      "metadata": {
        "id": "vZKDR13Oy1AG",
        "colab_type": "code",
        "colab": {
          "base_uri": "https://localhost:8080/",
          "height": 347
        },
        "outputId": "764aa606-0c26-488f-d14b-d14b42bc7f0e"
      },
      "source": [
        "dfs[0]"
      ],
      "execution_count": null,
      "outputs": [
        {
          "output_type": "execute_result",
          "data": {
            "text/html": [
              "<div>\n",
              "<style scoped>\n",
              "    .dataframe tbody tr th:only-of-type {\n",
              "        vertical-align: middle;\n",
              "    }\n",
              "\n",
              "    .dataframe tbody tr th {\n",
              "        vertical-align: top;\n",
              "    }\n",
              "\n",
              "    .dataframe thead th {\n",
              "        text-align: right;\n",
              "    }\n",
              "</style>\n",
              "<table border=\"1\" class=\"dataframe\">\n",
              "  <thead>\n",
              "    <tr style=\"text-align: right;\">\n",
              "      <th></th>\n",
              "      <th>Course Code &amp; Name</th>\n",
              "      <th>:</th>\n",
              "      <th>2CS501 – Machine Learning</th>\n",
              "    </tr>\n",
              "  </thead>\n",
              "  <tbody>\n",
              "    <tr>\n",
              "      <th>0</th>\n",
              "      <td>Credit Details</td>\n",
              "      <td>:</td>\n",
              "      <td>4</td>\n",
              "    </tr>\n",
              "    <tr>\n",
              "      <th>1</th>\n",
              "      <td>Course Faculty</td>\n",
              "      <td>:</td>\n",
              "      <td>Dr. Priyank Thakkar (Course Coordinator)</td>\n",
              "    </tr>\n",
              "    <tr>\n",
              "      <th>2</th>\n",
              "      <td>NaN</td>\n",
              "      <td>NaN</td>\n",
              "      <td>Prof. Rupal Kapdi</td>\n",
              "    </tr>\n",
              "    <tr>\n",
              "      <th>3</th>\n",
              "      <td>Contact No. &amp; Email</td>\n",
              "      <td>:</td>\n",
              "      <td>Ext: 9564,</td>\n",
              "    </tr>\n",
              "    <tr>\n",
              "      <th>4</th>\n",
              "      <td>NaN</td>\n",
              "      <td>NaN</td>\n",
              "      <td>priyank.thakkar@nirmauni.ac.in</td>\n",
              "    </tr>\n",
              "    <tr>\n",
              "      <th>5</th>\n",
              "      <td>Office</td>\n",
              "      <td>:</td>\n",
              "      <td>Beside N506</td>\n",
              "    </tr>\n",
              "    <tr>\n",
              "      <th>6</th>\n",
              "      <td>Visiting Hours</td>\n",
              "      <td>:</td>\n",
              "      <td>Monday to Friday - 8:45 to 4:00,</td>\n",
              "    </tr>\n",
              "    <tr>\n",
              "      <th>7</th>\n",
              "      <td>NaN</td>\n",
              "      <td>NaN</td>\n",
              "      <td>Saturday (Odd) - 8:45 to 4:45</td>\n",
              "    </tr>\n",
              "    <tr>\n",
              "      <th>8</th>\n",
              "      <td>Course Blog</td>\n",
              "      <td>:</td>\n",
              "      <td>https://ce623rak.wordpress.com/</td>\n",
              "    </tr>\n",
              "    <tr>\n",
              "      <th>9</th>\n",
              "      <td>Course Site</td>\n",
              "      <td>:</td>\n",
              "      <td>https://lms.nirmauni.ac.in/course/view.php?id=...</td>\n",
              "    </tr>\n",
              "  </tbody>\n",
              "</table>\n",
              "</div>"
            ],
            "text/plain": [
              "    Course Code & Name    :                          2CS501 – Machine Learning\n",
              "0       Credit Details    :                                                  4\n",
              "1       Course Faculty    :           Dr. Priyank Thakkar (Course Coordinator)\n",
              "2                  NaN  NaN                                  Prof. Rupal Kapdi\n",
              "3  Contact No. & Email    :                                         Ext: 9564,\n",
              "4                  NaN  NaN                     priyank.thakkar@nirmauni.ac.in\n",
              "5               Office    :                                        Beside N506\n",
              "6       Visiting Hours    :                   Monday to Friday - 8:45 to 4:00,\n",
              "7                  NaN  NaN                      Saturday (Odd) - 8:45 to 4:45\n",
              "8          Course Blog    :                    https://ce623rak.wordpress.com/\n",
              "9          Course Site    :  https://lms.nirmauni.ac.in/course/view.php?id=..."
            ]
          },
          "metadata": {
            "tags": []
          },
          "execution_count": 5
        }
      ]
    },
    {
      "cell_type": "code",
      "metadata": {
        "id": "kON5ceLMy1mA",
        "colab_type": "code",
        "colab": {
          "base_uri": "https://localhost:8080/",
          "height": 947
        },
        "outputId": "b2ed2b28-4a0a-4846-c1aa-806102299481"
      },
      "source": [
        "dfs[7]"
      ],
      "execution_count": null,
      "outputs": [
        {
          "output_type": "execute_result",
          "data": {
            "text/html": [
              "<div>\n",
              "<style scoped>\n",
              "    .dataframe tbody tr th:only-of-type {\n",
              "        vertical-align: middle;\n",
              "    }\n",
              "\n",
              "    .dataframe tbody tr th {\n",
              "        vertical-align: top;\n",
              "    }\n",
              "\n",
              "    .dataframe thead th {\n",
              "        text-align: right;\n",
              "    }\n",
              "</style>\n",
              "<table border=\"1\" class=\"dataframe\">\n",
              "  <thead>\n",
              "    <tr style=\"text-align: right;\">\n",
              "      <th></th>\n",
              "      <th>Sr.</th>\n",
              "      <th>Week</th>\n",
              "      <th>List of Experiments</th>\n",
              "      <th>Mapped</th>\n",
              "    </tr>\n",
              "  </thead>\n",
              "  <tbody>\n",
              "    <tr>\n",
              "      <th>0</th>\n",
              "      <td>NO.</td>\n",
              "      <td>No.</td>\n",
              "      <td>NaN</td>\n",
              "      <td>with CO</td>\n",
              "    </tr>\n",
              "    <tr>\n",
              "      <th>1</th>\n",
              "      <td>1</td>\n",
              "      <td>1</td>\n",
              "      <td>Introduction to Python and Numpy (2 Hrs) *</td>\n",
              "      <td>3</td>\n",
              "    </tr>\n",
              "    <tr>\n",
              "      <th>2</th>\n",
              "      <td>2</td>\n",
              "      <td>2</td>\n",
              "      <td>Introduction to Pandas, Matplotlib and Sklearn...</td>\n",
              "      <td>3</td>\n",
              "    </tr>\n",
              "    <tr>\n",
              "      <th>3</th>\n",
              "      <td>NaN</td>\n",
              "      <td>NaN</td>\n",
              "      <td>NaN</td>\n",
              "      <td>NaN</td>\n",
              "    </tr>\n",
              "    <tr>\n",
              "      <th>4</th>\n",
              "      <td>3</td>\n",
              "      <td>3,4</td>\n",
              "      <td>Simple and Multiple Linear Regression using Gr...</td>\n",
              "      <td>3</td>\n",
              "    </tr>\n",
              "    <tr>\n",
              "      <th>5</th>\n",
              "      <td>NaN</td>\n",
              "      <td>NaN</td>\n",
              "      <td>Descent &amp; Normal Equation Method (without using</td>\n",
              "      <td>NaN</td>\n",
              "    </tr>\n",
              "    <tr>\n",
              "      <th>6</th>\n",
              "      <td>NaN</td>\n",
              "      <td>NaN</td>\n",
              "      <td>sklearn or equivalent library for both) (4 Hrs)</td>\n",
              "      <td>NaN</td>\n",
              "    </tr>\n",
              "    <tr>\n",
              "      <th>7</th>\n",
              "      <td>NaN</td>\n",
              "      <td>NaN</td>\n",
              "      <td>NaN</td>\n",
              "      <td>NaN</td>\n",
              "    </tr>\n",
              "    <tr>\n",
              "      <th>8</th>\n",
              "      <td>4</td>\n",
              "      <td>5</td>\n",
              "      <td>Linear Regression with Regularization (without...</td>\n",
              "      <td>3</td>\n",
              "    </tr>\n",
              "    <tr>\n",
              "      <th>9</th>\n",
              "      <td>NaN</td>\n",
              "      <td>NaN</td>\n",
              "      <td>sklearn or equivalent library) and Simple and ...</td>\n",
              "      <td>NaN</td>\n",
              "    </tr>\n",
              "    <tr>\n",
              "      <th>10</th>\n",
              "      <td>NaN</td>\n",
              "      <td>NaN</td>\n",
              "      <td>Linear Regression with and without regularizat...</td>\n",
              "      <td>NaN</td>\n",
              "    </tr>\n",
              "    <tr>\n",
              "      <th>11</th>\n",
              "      <td>NaN</td>\n",
              "      <td>NaN</td>\n",
              "      <td>Sklearn (2 Hrs)</td>\n",
              "      <td>NaN</td>\n",
              "    </tr>\n",
              "    <tr>\n",
              "      <th>12</th>\n",
              "      <td>NaN</td>\n",
              "      <td>NaN</td>\n",
              "      <td>NaN</td>\n",
              "      <td>NaN</td>\n",
              "    </tr>\n",
              "    <tr>\n",
              "      <th>13</th>\n",
              "      <td>5</td>\n",
              "      <td>6</td>\n",
              "      <td>Naïve-Bayes – Multivariate Bernoulli, Multinom...</td>\n",
              "      <td>3</td>\n",
              "    </tr>\n",
              "    <tr>\n",
              "      <th>14</th>\n",
              "      <td>NaN</td>\n",
              "      <td>NaN</td>\n",
              "      <td>Gaussian using sklearn (2 Hrs)</td>\n",
              "      <td>NaN</td>\n",
              "    </tr>\n",
              "    <tr>\n",
              "      <th>15</th>\n",
              "      <td>NaN</td>\n",
              "      <td>NaN</td>\n",
              "      <td>NaN</td>\n",
              "      <td>NaN</td>\n",
              "    </tr>\n",
              "    <tr>\n",
              "      <th>16</th>\n",
              "      <td>6</td>\n",
              "      <td>7</td>\n",
              "      <td>Decision Trees – ID3, C4.5 using sklearn (2 Hrs)</td>\n",
              "      <td>3</td>\n",
              "    </tr>\n",
              "    <tr>\n",
              "      <th>17</th>\n",
              "      <td>7</td>\n",
              "      <td>8</td>\n",
              "      <td>Support Vector Classification and Regression w...</td>\n",
              "      <td>3</td>\n",
              "    </tr>\n",
              "    <tr>\n",
              "      <th>18</th>\n",
              "      <td>NaN</td>\n",
              "      <td>NaN</td>\n",
              "      <td>Search for Hyper-parameter tuning using sklear...</td>\n",
              "      <td>NaN</td>\n",
              "    </tr>\n",
              "    <tr>\n",
              "      <th>19</th>\n",
              "      <td>NaN</td>\n",
              "      <td>NaN</td>\n",
              "      <td>NaN</td>\n",
              "      <td>NaN</td>\n",
              "    </tr>\n",
              "    <tr>\n",
              "      <th>20</th>\n",
              "      <td>8</td>\n",
              "      <td>9</td>\n",
              "      <td>AND gate using Perceptron Learning (self-</td>\n",
              "      <td>3</td>\n",
              "    </tr>\n",
              "    <tr>\n",
              "      <th>21</th>\n",
              "      <td>NaN</td>\n",
              "      <td>NaN</td>\n",
              "      <td>implementation) (2 Hrs)</td>\n",
              "      <td>NaN</td>\n",
              "    </tr>\n",
              "    <tr>\n",
              "      <th>22</th>\n",
              "      <td>NaN</td>\n",
              "      <td>NaN</td>\n",
              "      <td>NaN</td>\n",
              "      <td>NaN</td>\n",
              "    </tr>\n",
              "    <tr>\n",
              "      <th>23</th>\n",
              "      <td>9</td>\n",
              "      <td>10,11</td>\n",
              "      <td>Ex-OR Gate/any other problem using Backpropaga...</td>\n",
              "      <td>3</td>\n",
              "    </tr>\n",
              "    <tr>\n",
              "      <th>24</th>\n",
              "      <td>NaN</td>\n",
              "      <td>NaN</td>\n",
              "      <td>Neural Networks (self-implementation) (4 Hrs)</td>\n",
              "      <td>NaN</td>\n",
              "    </tr>\n",
              "    <tr>\n",
              "      <th>25</th>\n",
              "      <td>10</td>\n",
              "      <td>12</td>\n",
              "      <td>Backpropagation Neural Network and K-means using</td>\n",
              "      <td>3</td>\n",
              "    </tr>\n",
              "    <tr>\n",
              "      <th>26</th>\n",
              "      <td>NaN</td>\n",
              "      <td>NaN</td>\n",
              "      <td>sklearn (2 Hrs)</td>\n",
              "      <td>NaN</td>\n",
              "    </tr>\n",
              "    <tr>\n",
              "      <th>27</th>\n",
              "      <td>11</td>\n",
              "      <td>13,14,15</td>\n",
              "      <td>Reinforcement Learning for some game. (self-</td>\n",
              "      <td>3</td>\n",
              "    </tr>\n",
              "    <tr>\n",
              "      <th>28</th>\n",
              "      <td>NaN</td>\n",
              "      <td>NaN</td>\n",
              "      <td>implementation) (6 Hrs)</td>\n",
              "      <td>NaN</td>\n",
              "    </tr>\n",
              "    <tr>\n",
              "      <th>29</th>\n",
              "      <td>NaN</td>\n",
              "      <td>NaN</td>\n",
              "      <td>Total</td>\n",
              "      <td>30</td>\n",
              "    </tr>\n",
              "  </tbody>\n",
              "</table>\n",
              "</div>"
            ],
            "text/plain": [
              "    Sr.      Week                                List of Experiments   Mapped\n",
              "0   NO.       No.                                                NaN  with CO\n",
              "1     1         1         Introduction to Python and Numpy (2 Hrs) *        3\n",
              "2     2         2  Introduction to Pandas, Matplotlib and Sklearn...        3\n",
              "3   NaN       NaN                                                NaN      NaN\n",
              "4     3       3,4  Simple and Multiple Linear Regression using Gr...        3\n",
              "5   NaN       NaN    Descent & Normal Equation Method (without using      NaN\n",
              "6   NaN       NaN    sklearn or equivalent library for both) (4 Hrs)      NaN\n",
              "7   NaN       NaN                                                NaN      NaN\n",
              "8     4         5  Linear Regression with Regularization (without...        3\n",
              "9   NaN       NaN  sklearn or equivalent library) and Simple and ...      NaN\n",
              "10  NaN       NaN  Linear Regression with and without regularizat...      NaN\n",
              "11  NaN       NaN                                    Sklearn (2 Hrs)      NaN\n",
              "12  NaN       NaN                                                NaN      NaN\n",
              "13    5         6  Naïve-Bayes – Multivariate Bernoulli, Multinom...        3\n",
              "14  NaN       NaN                     Gaussian using sklearn (2 Hrs)      NaN\n",
              "15  NaN       NaN                                                NaN      NaN\n",
              "16    6         7   Decision Trees – ID3, C4.5 using sklearn (2 Hrs)        3\n",
              "17    7         8  Support Vector Classification and Regression w...        3\n",
              "18  NaN       NaN  Search for Hyper-parameter tuning using sklear...      NaN\n",
              "19  NaN       NaN                                                NaN      NaN\n",
              "20    8         9          AND gate using Perceptron Learning (self-        3\n",
              "21  NaN       NaN                            implementation) (2 Hrs)      NaN\n",
              "22  NaN       NaN                                                NaN      NaN\n",
              "23    9     10,11  Ex-OR Gate/any other problem using Backpropaga...        3\n",
              "24  NaN       NaN      Neural Networks (self-implementation) (4 Hrs)      NaN\n",
              "25   10        12   Backpropagation Neural Network and K-means using        3\n",
              "26  NaN       NaN                                    sklearn (2 Hrs)      NaN\n",
              "27   11  13,14,15       Reinforcement Learning for some game. (self-        3\n",
              "28  NaN       NaN                            implementation) (6 Hrs)      NaN\n",
              "29  NaN       NaN                                              Total       30"
            ]
          },
          "metadata": {
            "tags": []
          },
          "execution_count": 6
        }
      ]
    },
    {
      "cell_type": "markdown",
      "metadata": {
        "id": "m5p8GhR-zxR1",
        "colab_type": "text"
      },
      "source": [
        "### Help on read_pdf"
      ]
    },
    {
      "cell_type": "code",
      "metadata": {
        "id": "CIsWb6fEzwvU",
        "colab_type": "code",
        "colab": {
          "base_uri": "https://localhost:8080/",
          "height": 1000
        },
        "outputId": "12697d4e-ab4e-46a1-c134-485f61f490bc"
      },
      "source": [
        "print(tabula.read_pdf.__doc__)"
      ],
      "execution_count": null,
      "outputs": [
        {
          "output_type": "stream",
          "text": [
            "Read tables in PDF.\n",
            "\n",
            "    Args:\n",
            "        input_path (str, path object or file-like object):\n",
            "            File like object of tareget PDF file.\n",
            "            It can be URL, which is downloaded by tabula-py automatically.\n",
            "        output_format (str, optional):\n",
            "            Output format for returned object (``dataframe`` or ``json``)\n",
            "        encoding (str, optional):\n",
            "            Encoding type for pandas. Default: ``utf-8``\n",
            "        java_options (list, optional):\n",
            "            Set java options.\n",
            "\n",
            "            Example:\n",
            "                ``[\"-Xmx256m\"]``\n",
            "        pandas_options (dict, optional):\n",
            "            Set pandas options.\n",
            "\n",
            "            Example:\n",
            "                ``{'header': None}``\n",
            "\n",
            "            Note:\n",
            "                With ``multiple_tables=True`` (default), pandas_options is passed\n",
            "                to pandas.read_csv, otherwise it is passed to pandas.DataFrame.\n",
            "                Those two functions are different for accept options like ``dtype``.\n",
            "        multiple_tables (bool):\n",
            "            It enables to handle multiple tables within a page. Default: ``True``\n",
            "\n",
            "            Note:\n",
            "                If `multiple_tables` option is enabled, tabula-py uses not\n",
            "                :func:`pd.read_csv()`, but :func:`pd.DataFrame()`. Make\n",
            "                sure to pass appropriate `pandas_options`.\n",
            "        user_agent (str, optional):\n",
            "            Set a custom user-agent when download a pdf from a url. Otherwise\n",
            "            it uses the default ``urllib.request`` user-agent.\n",
            "        kwargs:\n",
            "            Dictionary of option for tabula-java. Details are shown in\n",
            "            :func:`build_options()`\n",
            "\n",
            "    Returns:\n",
            "        list of DataFrames or dict.\n",
            "\n",
            "    Raises:\n",
            "        FileNotFoundError:\n",
            "            If downloaded remote file doesn't exist.\n",
            "\n",
            "        ValueError:\n",
            "            If output_format is unknown format, or if downloaded remote file size is 0.\n",
            "\n",
            "        tabula.errors.CSVParseError:\n",
            "            If pandas CSV parsing failed.\n",
            "\n",
            "        tabula.errors.JavaNotFoundError:\n",
            "            If java is not installed or found.\n",
            "\n",
            "        subprocess.CalledProcessError:\n",
            "            If tabula-java execution failed.\n",
            "\n",
            "\n",
            "    Examples:\n",
            "\n",
            "        Here is a simple example.\n",
            "        Note that :func:`read_pdf()` only extract page 1 by default.\n",
            "\n",
            "        Notes:\n",
            "            As of tabula-py 2.0.0, :func:`read_pdf()` sets `multiple_tables=True` by\n",
            "            default. If you want to get consistent output with previous version, set\n",
            "            `multiple_tables=False`.\n",
            "\n",
            "        >>> import tabula\n",
            "        >>> pdf_path = \"https://github.com/chezou/tabula-py/raw/master/tests/resources/data.pdf\"\n",
            "        >>> tabula.read_pdf(pdf_path, stream=True)\n",
            "        [             Unnamed: 0   mpg  cyl   disp   hp  drat     wt   qsec  vs  am  gear  carb\n",
            "        0             Mazda RX4  21.0    6  160.0  110  3.90  2.620  16.46   0   1     4     4\n",
            "        1         Mazda RX4 Wag  21.0    6  160.0  110  3.90  2.875  17.02   0   1     4     4\n",
            "        2            Datsun 710  22.8    4  108.0   93  3.85  2.320  18.61   1   1     4     1\n",
            "        3        Hornet 4 Drive  21.4    6  258.0  110  3.08  3.215  19.44   1   0     3     1\n",
            "        4     Hornet Sportabout  18.7    8  360.0  175  3.15  3.440  17.02   0   0     3     2\n",
            "        5               Valiant  18.1    6  225.0  105  2.76  3.460  20.22   1   0     3     1\n",
            "        6            Duster 360  14.3    8  360.0  245  3.21  3.570  15.84   0   0     3     4\n",
            "        7             Merc 240D  24.4    4  146.7   62  3.69  3.190  20.00   1   0     4     2\n",
            "        8              Merc 230  22.8    4  140.8   95  3.92  3.150  22.90   1   0     4     2\n",
            "        9              Merc 280  19.2    6  167.6  123  3.92  3.440  18.30   1   0     4     4\n",
            "        10            Merc 280C  17.8    6  167.6  123  3.92  3.440  18.90   1   0     4     4\n",
            "        11           Merc 450SE  16.4    8  275.8  180  3.07  4.070  17.40   0   0     3     3\n",
            "        12           Merc 450SL  17.3    8  275.8  180  3.07  3.730  17.60   0   0     3     3\n",
            "        13          Merc 450SLC  15.2    8  275.8  180  3.07  3.780  18.00   0   0     3     3\n",
            "        14   Cadillac Fleetwood  10.4    8  472.0  205  2.93  5.250  17.98   0   0     3     4\n",
            "        15  Lincoln Continental  10.4    8  460.0  215  3.00  5.424  17.82   0   0     3     4\n",
            "        16    Chrysler Imperial  14.7    8  440.0  230  3.23  5.345  17.42   0   0     3     4\n",
            "        17             Fiat 128  32.4    4   78.7   66  4.08  2.200  19.47   1   1     4     1\n",
            "        18          Honda Civic  30.4    4   75.7   52  4.93  1.615  18.52   1   1     4     2\n",
            "        19       Toyota Corolla  33.9    4   71.1   65  4.22  1.835  19.90   1   1     4     1\n",
            "        20        Toyota Corona  21.5    4  120.1   97  3.70  2.465  20.01   1   0     3     1\n",
            "        21     Dodge Challenger  15.5    8  318.0  150  2.76  3.520  16.87   0   0     3     2\n",
            "        22          AMC Javelin  15.2    8  304.0  150  3.15  3.435  17.30   0   0     3     2\n",
            "        23           Camaro Z28  13.3    8  350.0  245  3.73  3.840  15.41   0   0     3     4\n",
            "        24     Pontiac Firebird  19.2    8  400.0  175  3.08  3.845  17.05   0   0     3     2\n",
            "        25            Fiat X1-9  27.3    4   79.0   66  4.08  1.935  18.90   1   1     4     1\n",
            "        26        Porsche 914-2  26.0    4  120.3   91  4.43  2.140  16.70   0   1     5     2\n",
            "        27         Lotus Europa  30.4    4   95.1  113  3.77  1.513  16.90   1   1     5     2\n",
            "        28       Ford Pantera L  15.8    8  351.0  264  4.22  3.170  14.50   0   1     5     4\n",
            "        29         Ferrari Dino  19.7    6  145.0  175  3.62  2.770  15.50   0   1     5     6\n",
            "        30        Maserati Bora  15.0    8  301.0  335  3.54  3.570  14.60   0   1     5     8\n",
            "        31           Volvo 142E  21.4    4  121.0  109  4.11  2.780  18.60   1   1     4     2]\n",
            "\n",
            "        If you want to extract all pages, set ``pages=\"all\"``.\n",
            "\n",
            "        >>> dfs = tabula.read_pdf(pdf_path, pages=\"all\")\n",
            "        >>> len(dfs)\n",
            "        4\n",
            "        >>> dfs\n",
            "        [       0    1      2    3     4      5      6   7   8     9\n",
            "        0    mpg  cyl   disp   hp  drat     wt   qsec  vs  am  gear\n",
            "        1   21.0    6  160.0  110  3.90  2.620  16.46   0   1     4\n",
            "        2   21.0    6  160.0  110  3.90  2.875  17.02   0   1     4\n",
            "        3   22.8    4  108.0   93  3.85  2.320  18.61   1   1     4\n",
            "        4   21.4    6  258.0  110  3.08  3.215  19.44   1   0     3\n",
            "        5   18.7    8  360.0  175  3.15  3.440  17.02   0   0     3\n",
            "        6   18.1    6  225.0  105  2.76  3.460  20.22   1   0     3\n",
            "        7   14.3    8  360.0  245  3.21  3.570  15.84   0   0     3\n",
            "        8   24.4    4  146.7   62  3.69  3.190  20.00   1   0     4\n",
            "        9   22.8    4  140.8   95  3.92  3.150  22.90   1   0     4\n",
            "        10  19.2    6  167.6  123  3.92  3.440  18.30   1   0     4\n",
            "        11  17.8    6  167.6  123  3.92  3.440  18.90   1   0     4\n",
            "        12  16.4    8  275.8  180  3.07  4.070  17.40   0   0     3\n",
            "        13  17.3    8  275.8  180  3.07  3.730  17.60   0   0     3\n",
            "        14  15.2    8  275.8  180  3.07  3.780  18.00   0   0     3\n",
            "        15  10.4    8  472.0  205  2.93  5.250  17.98   0   0     3\n",
            "        16  10.4    8  460.0  215  3.00  5.424  17.82   0   0     3\n",
            "        17  14.7    8  440.0  230  3.23  5.345  17.42   0   0     3\n",
            "        18  32.4    4   78.7   66  4.08  2.200  19.47   1   1     4\n",
            "        19  30.4    4   75.7   52  4.93  1.615  18.52   1   1     4\n",
            "        20  33.9    4   71.1   65  4.22  1.835  19.90   1   1     4\n",
            "        21  21.5    4  120.1   97  3.70  2.465  20.01   1   0     3\n",
            "        22  15.5    8  318.0  150  2.76  3.520  16.87   0   0     3\n",
            "        23  15.2    8  304.0  150  3.15  3.435  17.30   0   0     3\n",
            "        24  13.3    8  350.0  245  3.73  3.840  15.41   0   0     3\n",
            "        25  19.2    8  400.0  175  3.08  3.845  17.05   0   0     3\n",
            "        26  27.3    4   79.0   66  4.08  1.935  18.90   1   1     4\n",
            "        27  26.0    4  120.3   91  4.43  2.140  16.70   0   1     5\n",
            "        28  30.4    4   95.1  113  3.77  1.513  16.90   1   1     5\n",
            "        29  15.8    8  351.0  264  4.22  3.170  14.50   0   1     5\n",
            "        30  19.7    6  145.0  175  3.62  2.770  15.50   0   1     5\n",
            "        31  15.0    8  301.0  335  3.54  3.570  14.60   0   1     5,               0            1             2            3        4\n",
            "        0  Sepal.Length  Sepal.Width  Petal.Length  Petal.Width  Species\n",
            "        1           5.1          3.5           1.4          0.2   setosa\n",
            "        2           4.9          3.0           1.4          0.2   setosa\n",
            "        3           4.7          3.2           1.3          0.2   setosa\n",
            "        4           4.6          3.1           1.5          0.2   setosa\n",
            "        5           5.0          3.6           1.4          0.2   setosa\n",
            "        6           5.4          3.9           1.7          0.4   setosa,      0             1            2             3            4          5\n",
            "        0  NaN  Sepal.Length  Sepal.Width  Petal.Length  Petal.Width    Species\n",
            "        1  145           6.7          3.3           5.7          2.5  virginica\n",
            "        2  146           6.7          3.0           5.2          2.3  virginica\n",
            "        3  147           6.3          2.5           5.0          1.9  virginica\n",
            "        4  148           6.5          3.0           5.2          2.0  virginica\n",
            "        5  149           6.2          3.4           5.4          2.3  virginica\n",
            "        6  150           5.9          3.0           5.1          1.8  virginica,        0\n",
            "        0   supp\n",
            "        1     VC\n",
            "        2     VC\n",
            "        3     VC\n",
            "        4     VC\n",
            "        5     VC\n",
            "        6     VC\n",
            "        7     VC\n",
            "        8     VC\n",
            "        9     VC\n",
            "        10    VC\n",
            "        11    VC\n",
            "        12    VC\n",
            "        13    VC\n",
            "        14    VC]\n",
            "    \n"
          ],
          "name": "stdout"
        }
      ]
    },
    {
      "cell_type": "markdown",
      "metadata": {
        "id": "WodiacjV0AV-",
        "colab_type": "text"
      },
      "source": [
        "## PDF table extraction using camelot-py"
      ]
    },
    {
      "cell_type": "code",
      "metadata": {
        "id": "MTAkCemw0N1V",
        "colab_type": "code",
        "colab": {}
      },
      "source": [
        "import camelot\n",
        "import os"
      ],
      "execution_count": null,
      "outputs": []
    },
    {
      "cell_type": "code",
      "metadata": {
        "id": "_o2mJHvR0Qph",
        "colab_type": "code",
        "colab": {}
      },
      "source": [
        "tables = camelot.read_pdf(pdf_path, pages='all')"
      ],
      "execution_count": null,
      "outputs": []
    },
    {
      "cell_type": "code",
      "metadata": {
        "id": "-djL0Zrs1F0x",
        "colab_type": "code",
        "colab": {
          "base_uri": "https://localhost:8080/",
          "height": 34
        },
        "outputId": "f13b6f31-e049-44cc-fb38-878cf8cfb7f2"
      },
      "source": [
        "tables"
      ],
      "execution_count": null,
      "outputs": [
        {
          "output_type": "execute_result",
          "data": {
            "text/plain": [
              "<TableList n=7>"
            ]
          },
          "metadata": {
            "tags": []
          },
          "execution_count": 10
        }
      ]
    },
    {
      "cell_type": "code",
      "metadata": {
        "id": "F26bIJZ92V5-",
        "colab_type": "code",
        "colab": {}
      },
      "source": [
        "tables.export('testing.csv', f='csv', compress=True)"
      ],
      "execution_count": null,
      "outputs": []
    },
    {
      "cell_type": "code",
      "metadata": {
        "id": "T81t4Nb22-kQ",
        "colab_type": "code",
        "colab": {
          "base_uri": "https://localhost:8080/",
          "height": 34
        },
        "outputId": "dee16ee1-74aa-4661-a3da-30bb8ead5396"
      },
      "source": [
        "os.system('unzip testing.zip')"
      ],
      "execution_count": null,
      "outputs": [
        {
          "output_type": "execute_result",
          "data": {
            "text/plain": [
              "256"
            ]
          },
          "metadata": {
            "tags": []
          },
          "execution_count": 12
        }
      ]
    },
    {
      "cell_type": "markdown",
      "metadata": {
        "id": "yuar7HIq3WOR",
        "colab_type": "text"
      },
      "source": [
        "### Help text camelot.read_pdf"
      ]
    },
    {
      "cell_type": "code",
      "metadata": {
        "id": "N_qqrMzK3BMs",
        "colab_type": "code",
        "colab": {
          "base_uri": "https://localhost:8080/",
          "height": 1000
        },
        "outputId": "6b9ef0bc-faf1-4b02-bf51-963b552f3e2e"
      },
      "source": [
        "print(camelot.read_pdf.__doc__)"
      ],
      "execution_count": null,
      "outputs": [
        {
          "output_type": "stream",
          "text": [
            "Read PDF and return extracted tables.\n",
            "\n",
            "    Note: kwargs annotated with ^ can only be used with flavor='stream'\n",
            "    and kwargs annotated with * can only be used with flavor='lattice'.\n",
            "\n",
            "    Parameters\n",
            "    ----------\n",
            "    filepath : str\n",
            "        Filepath or URL of the PDF file.\n",
            "    pages : str, optional (default: '1')\n",
            "        Comma-separated page numbers.\n",
            "        Example: '1,3,4' or '1,4-end' or 'all'.\n",
            "    password : str, optional (default: None)\n",
            "        Password for decryption.\n",
            "    flavor : str (default: 'lattice')\n",
            "        The parsing method to use ('lattice' or 'stream').\n",
            "        Lattice is used by default.\n",
            "    suppress_stdout : bool, optional (default: True)\n",
            "        Print all logs and warnings.\n",
            "    layout_kwargs : dict, optional (default: {})\n",
            "        A dict of `pdfminer.layout.LAParams <https://github.com/euske/pdfminer/blob/master/pdfminer/layout.py#L33>`_ kwargs.\n",
            "    table_areas : list, optional (default: None)\n",
            "        List of table area strings of the form x1,y1,x2,y2\n",
            "        where (x1, y1) -> left-top and (x2, y2) -> right-bottom\n",
            "        in PDF coordinate space.\n",
            "    columns^ : list, optional (default: None)\n",
            "        List of column x-coordinates strings where the coordinates\n",
            "        are comma-separated.\n",
            "    split_text : bool, optional (default: False)\n",
            "        Split text that spans across multiple cells.\n",
            "    flag_size : bool, optional (default: False)\n",
            "        Flag text based on font size. Useful to detect\n",
            "        super/subscripts. Adds <s></s> around flagged text.\n",
            "    strip_text : str, optional (default: '')\n",
            "        Characters that should be stripped from a string before\n",
            "        assigning it to a cell.\n",
            "    row_tol^ : int, optional (default: 2)\n",
            "        Tolerance parameter used to combine text vertically,\n",
            "        to generate rows.\n",
            "    column_tol^ : int, optional (default: 0)\n",
            "        Tolerance parameter used to combine text horizontally,\n",
            "        to generate columns.\n",
            "    process_background* : bool, optional (default: False)\n",
            "        Process background lines.\n",
            "    line_scale* : int, optional (default: 15)\n",
            "        Line size scaling factor. The larger the value the smaller\n",
            "        the detected lines. Making it very large will lead to text\n",
            "        being detected as lines.\n",
            "    copy_text* : list, optional (default: None)\n",
            "        {'h', 'v'}\n",
            "        Direction in which text in a spanning cell will be copied\n",
            "        over.\n",
            "    shift_text* : list, optional (default: ['l', 't'])\n",
            "        {'l', 'r', 't', 'b'}\n",
            "        Direction in which text in a spanning cell will flow.\n",
            "    line_tol* : int, optional (default: 2)\n",
            "        Tolerance parameter used to merge close vertical and horizontal\n",
            "        lines.\n",
            "    joint_tol* : int, optional (default: 2)\n",
            "        Tolerance parameter used to decide whether the detected lines\n",
            "        and points lie close to each other.\n",
            "    threshold_blocksize* : int, optional (default: 15)\n",
            "        Size of a pixel neighborhood that is used to calculate a\n",
            "        threshold value for the pixel: 3, 5, 7, and so on.\n",
            "\n",
            "        For more information, refer `OpenCV's adaptiveThreshold <https://docs.opencv.org/2.4/modules/imgproc/doc/miscellaneous_transformations.html#adaptivethreshold>`_.\n",
            "    threshold_constant* : int, optional (default: -2)\n",
            "        Constant subtracted from the mean or weighted mean.\n",
            "        Normally, it is positive but may be zero or negative as well.\n",
            "\n",
            "        For more information, refer `OpenCV's adaptiveThreshold <https://docs.opencv.org/2.4/modules/imgproc/doc/miscellaneous_transformations.html#adaptivethreshold>`_.\n",
            "    iterations* : int, optional (default: 0)\n",
            "        Number of times for erosion/dilation is applied.\n",
            "\n",
            "        For more information, refer `OpenCV's dilate <https://docs.opencv.org/2.4/modules/imgproc/doc/filtering.html#dilate>`_.\n",
            "    resolution* : int, optional (default: 300)\n",
            "        Resolution used for PDF to PNG conversion.\n",
            "\n",
            "    Returns\n",
            "    -------\n",
            "    tables : camelot.core.TableList\n",
            "\n",
            "    \n"
          ],
          "name": "stdout"
        }
      ]
    },
    {
      "cell_type": "code",
      "metadata": {
        "id": "4ZbHcOdm3aFQ",
        "colab_type": "code",
        "colab": {}
      },
      "source": [
        ""
      ],
      "execution_count": null,
      "outputs": []
    }
  ]
}